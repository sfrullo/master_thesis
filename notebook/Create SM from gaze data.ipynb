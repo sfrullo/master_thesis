{
 "cells": [
  {
   "cell_type": "code",
   "execution_count": 1,
   "metadata": {},
   "outputs": [],
   "source": [
    "%matplotlib inline\n",
    "\n",
    "import os\n",
    "import glob\n",
    "\n",
    "import numpy as np\n",
    "\n",
    "import matplotlib as mpl\n",
    "from matplotlib import pyplot as plt\n",
    "\n",
    "import imageio\n",
    "import scipy.ndimage as ndi"
   ]
  },
  {
   "cell_type": "code",
   "execution_count": 2,
   "metadata": {},
   "outputs": [],
   "source": [
    "def get_data(mediafile):\n",
    "    try:\n",
    "        coordinates = np.load(\"../export/coordinates_data_resampled_without_bad_session_{}.npy\".format(mediafile))\n",
    "        fixations = np.load(\"../export/fixations_data_resampled_without_bad_session_{}.npy\".format(mediafile))\n",
    "        return coordinates, fixations\n",
    "    except:\n",
    "        print(\"No stored files found.. load from files first\")"
   ]
  },
  {
   "cell_type": "code",
   "execution_count": 3,
   "metadata": {},
   "outputs": [],
   "source": [
    "def compute_frame_saliency_map(data, display_size, mean_data=None, normalize=False):\n",
    "    \n",
    "    # mean data in case of multiple sessions\n",
    "    if mean_data is not None:\n",
    "        data = data.mean(axis=1)\n",
    "\n",
    "    if data[0].size == 3:\n",
    "        x, y, d = data.T\n",
    "    else:\n",
    "        x, y = data.T\n",
    "        d = np.ones(data.shape[0]).T\n",
    "\n",
    "    bins = display_size\n",
    "\n",
    "    heatmap, xedges, yedges = np.histogram2d(x, y, bins=bins, weights=d, normed=normalize)\n",
    "\n",
    "    heatmap = ndi.gaussian_filter(heatmap, sigma=8)\n",
    "\n",
    "    return heatmap.T"
   ]
  },
  {
   "cell_type": "code",
   "execution_count": 4,
   "metadata": {},
   "outputs": [],
   "source": [
    "def export_gaze_heatmap(mediafile):\n",
    "\n",
    "    print(\"Exporting heatmap for mediafile {}\".format(mediafile))\n",
    "    \n",
    "    coordinates, fixations = get_data(mediafile)\n",
    "    \n",
    "    # Compute heatmap for all frames\n",
    "    display_size = (320,200)\n",
    "    \n",
    "    coordinates_heatmaps = []\n",
    "    for frame_coord in coordinates:\n",
    "        coordinates_heatmaps.append(compute_frame_saliency_map(frame_coord, display_size=display_size))\n",
    "\n",
    "    fixations_heatmaps = []\n",
    "    for frame_coord in fixations:\n",
    "        fixations_heatmaps.append(compute_frame_saliency_map(frame_coord, display_size=display_size))\n",
    "\n",
    "    coordinates_heatmaps = np.array(coordinates_heatmaps)\n",
    "    fixations_heatmaps = np.array(fixations_heatmaps)\n",
    "\n",
    "    # export heatmaps\n",
    "    data = {\n",
    "        \"coordinates_heatmaps\" : coordinates_heatmaps,\n",
    "        \"fixations_heatmaps\" : fixations_heatmaps\n",
    "    }\n",
    "    np.savez_compressed(\"../export/gaze_heatmap_{}.npz\".format(mediafile), **data)\n",
    "    \n",
    "    del coordinates_heatmaps\n",
    "    del fixations_heatmaps"
   ]
  },
  {
   "cell_type": "code",
   "execution_count": 5,
   "metadata": {},
   "outputs": [
    {
     "name": "stdout",
     "output_type": "stream",
     "text": [
      "Exporting heatmap for mediafile 53\n",
      "Exporting heatmap for mediafile 69\n",
      "Exporting heatmap for mediafile 90\n",
      "Exporting heatmap for mediafile 111\n"
     ]
    }
   ],
   "source": [
    "for mediafile in [53, 69, 90, 111]:\n",
    "    export_gaze_heatmap(mediafile=mediafile)"
   ]
  }
 ],
 "metadata": {
  "kernelspec": {
   "display_name": "Python 3",
   "language": "python",
   "name": "python3"
  },
  "language_info": {
   "codemirror_mode": {
    "name": "ipython",
    "version": 3
   },
   "file_extension": ".py",
   "mimetype": "text/x-python",
   "name": "python",
   "nbconvert_exporter": "python",
   "pygments_lexer": "ipython3",
   "version": "3.6.8"
  }
 },
 "nbformat": 4,
 "nbformat_minor": 2
}
