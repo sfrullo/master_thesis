{
 "cells": [
  {
   "cell_type": "code",
   "execution_count": 2,
   "metadata": {},
   "outputs": [],
   "source": [
    "%matplotlib inline\n",
    "\n",
    "import os\n",
    "import glob\n",
    "\n",
    "import numpy as np\n",
    "\n",
    "import matplotlib as mpl\n",
    "from matplotlib import pyplot as plt"
   ]
  },
  {
   "cell_type": "code",
   "execution_count": 3,
   "metadata": {},
   "outputs": [],
   "source": [
    "files = map(np.load, glob.glob(\"../export/data/gaze_data*.npz\"))"
   ]
  },
  {
   "cell_type": "code",
   "execution_count": 4,
   "metadata": {},
   "outputs": [],
   "source": [
    "data = [ d[\"session_info\"].tolist() for d in files ]"
   ]
  },
  {
   "cell_type": "code",
   "execution_count": 14,
   "metadata": {},
   "outputs": [
    {
     "name": "stdout",
     "output_type": "stream",
     "text": [
      "feltEmo :  0 | feltVlnc :  3 | feltArsl :  6 | feltCtrl :  2 | feltPred :  9 |\n",
      "feltEmo : 11 | feltVlnc :  5 | feltArsl :  6 | feltCtrl :  5 | feltPred :  7 |\n",
      "feltEmo : 11 | feltVlnc :  8 | feltArsl :  7 | feltCtrl :  3 | feltPred :  7 |\n",
      "feltEmo :  2 | feltVlnc :  4 | feltArsl :  4 | feltCtrl :  6 | feltPred :  8 |\n",
      "feltEmo : 11 | feltVlnc :  4 | feltArsl :  5 | feltCtrl :  4 | feltPred :  7 |\n",
      "feltEmo : 11 | feltVlnc :  7 | feltArsl :  6 | feltCtrl :  4 | feltPred :  5 |\n",
      "feltEmo : 11 | feltVlnc :  5 | feltArsl :  4 | feltCtrl :  5 | feltPred :  8 |\n",
      "feltEmo : 11 | feltVlnc :  4 | feltArsl :  8 | feltCtrl :  2 | feltPred :  7 |\n",
      "feltEmo :  0 | feltVlnc :  3 | feltArsl :  4 | feltCtrl :  3 | feltPred :  7 |\n",
      "feltEmo : 11 | feltVlnc :  2 | feltArsl :  3 | feltCtrl :  1 | feltPred :  9 |\n",
      "feltEmo :  6 | feltVlnc :  4 | feltArsl :  7 | feltCtrl :  2 | feltPred :  6 |\n",
      "feltEmo : 12 | feltVlnc :  1 | feltArsl :  7 | feltCtrl :  6 | feltPred :  8 |\n",
      "feltEmo : 11 | feltVlnc :  5 | feltArsl :  4 | feltCtrl :  4 | feltPred :  7 |\n",
      "feltEmo : 11 | feltVlnc :  3 | feltArsl :  6 | feltCtrl :  1 | feltPred :  3 |\n",
      "feltEmo : 11 | feltVlnc :  6 | feltArsl :  6 | feltCtrl :  3 | feltPred :  8 |\n",
      "feltEmo : 11 | feltVlnc :  7 | feltArsl :  6 | feltCtrl :  7 | feltPred :  7 |\n",
      "feltEmo :  2 | feltVlnc :  4 | feltArsl :  5 | feltCtrl :  3 | feltPred :  5 |\n",
      "feltEmo :  2 | feltVlnc :  3 | feltArsl :  6 | feltCtrl :  3 | feltPred :  8 |\n",
      "feltEmo :  2 | feltVlnc :  3 | feltArsl :  8 | feltCtrl :  4 | feltPred :  7 |\n",
      "feltEmo : 11 | feltVlnc :  5 | feltArsl :  5 | feltCtrl :  4 | feltPred :  6 |\n",
      "feltEmo :  3 | feltVlnc :  1 | feltArsl :  5 | feltCtrl :  5 | feltPred :  7 |\n",
      "feltEmo : 11 | feltVlnc :  6 | feltArsl :  3 | feltCtrl :  1 | feltPred :  9 |\n"
     ]
    }
   ],
   "source": [
    "for d in data:\n",
    "    print \" \".join(\"felt{} : {:>2} |\".format(k, d[\"felt\" + k]) for k in [\"Emo\", \"Vlnc\", \"Arsl\", \"Ctrl\", \"Pred\"])"
   ]
  },
  {
   "cell_type": "code",
   "execution_count": 15,
   "metadata": {},
   "outputs": [
    {
     "name": "stdout",
     "output_type": "stream",
     "text": [
      "feltVlnc : 4.22727272727\n",
      "feltArsl : 5.5\n",
      "feltCtrl : 3.54545454545\n",
      "feltPred : 7.04545454545\n"
     ]
    }
   ],
   "source": [
    "for k in [\"Vlnc\", \"Arsl\", \"Ctrl\", \"Pred\"]:\n",
    "    mean = np.mean(np.array([int(d[\"felt\" + k]) for d in data]))\n",
    "    print \"felt{} : {}\".format(k, mean )"
   ]
  },
  {
   "cell_type": "code",
   "execution_count": null,
   "metadata": {},
   "outputs": [],
   "source": []
  }
 ],
 "metadata": {
  "kernelspec": {
   "display_name": "Python 2",
   "language": "python",
   "name": "python2"
  },
  "language_info": {
   "codemirror_mode": {
    "name": "ipython",
    "version": 2
   },
   "file_extension": ".py",
   "mimetype": "text/x-python",
   "name": "python",
   "nbconvert_exporter": "python",
   "pygments_lexer": "ipython2",
   "version": "2.7.15"
  }
 },
 "nbformat": 4,
 "nbformat_minor": 2
}
