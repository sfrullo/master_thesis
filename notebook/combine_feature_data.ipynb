{
 "cells": [
  {
   "cell_type": "code",
   "execution_count": 1,
   "metadata": {},
   "outputs": [],
   "source": [
    "import glob\n",
    "import numpy as np\n",
    "import pandas as pd\n",
    "import imageio"
   ]
  },
  {
   "cell_type": "code",
   "execution_count": 2,
   "metadata": {},
   "outputs": [],
   "source": [
    "def search_sessions_by_media(mediafile):\n",
    "    files = map(lambda x: np.load(x, encoding=\"latin1\"), glob.glob(\"../export/data/feature_data_*_with_pupil.npz\"))\n",
    "    return [ f for f in files if f['session_info'].tolist()[\"mediaFile\"] == '{}.avi'.format(mediafile) ]\n",
    "\n",
    "def get_max_len_from_media(mediafile):\n",
    "    reader = imageio.get_reader('../Dataset/Mahnob/data/media_24/{}.avi'.format(mediafile))\n",
    "    return reader.get_meta_data()['nframes']\n",
    "\n",
    "def filter_valence_columns(dataframe):\n",
    "    valence_coef = {\n",
    "        'ECG_max': 0.001888109648987091,\n",
    "        'ECG_mean': 0.00662804554999091,\n",
    "        'ECG_mean_abs_diff': 0.005231125053370179,\n",
    "        'ECG_mean_diff': 0.002781320605918507,\n",
    "        'ECG_min': 0.0018591598781892674,\n",
    "        'ECG_std': 0.0081674871185979,\n",
    "        'EDA_max': 0.016387547992571822,\n",
    "        'EDA_mean': 0.027063790450369923,\n",
    "        'EDA_mean_abs_diff': 0.09415495854705104,\n",
    "        'EDA_mean_diff': 0.011888787093495388,\n",
    "        'EDA_min': 0.024962515338228963,\n",
    "        'EDA_std': 0.09222202087231755,\n",
    "        'Pupil': 0.005767991044728216,\n",
    "        'Resp_mean': 0.025309698048227646,\n",
    "        'Resp_mean_abs_diff': 0.006296669544639612,\n",
    "        'Resp_min': 0.038120661037035986,\n",
    "        'Resp_std': 0.01175162024068132,\n",
    "        'SKT_max': 0.11762136629734976,\n",
    "        'SKT_mean': 0.22798868669787506,\n",
    "        'SKT_mean_abs_diff': 0.08268450584592513,\n",
    "        'SKT_mean_diff': 0.009693591729136704,\n",
    "        'SKT_min': 0.11280498263646793,\n",
    "        'SKT_std': 0.06872535872884428\n",
    "    }\n",
    "    valid_column= list(valence_coef.keys())\n",
    "    new_df = dataframe[valid_column]\n",
    "    \n",
    "    for feature, coef in valence_coef.items():\n",
    "        new_df[feature] = coef * new_df[feature]\n",
    "    \n",
    "    new_df = new_df.sum(axis=1)\n",
    "\n",
    "    return new_df\n",
    "\n",
    "def filter_arousal_columns(dataframe):\n",
    "    arousal_coef = {\n",
    "        'ECG_max': 0.0023171822420858454,\n",
    "        'ECG_mean': 0.003435947784077022,\n",
    "        'ECG_mean_abs_diff': 0.17187376101040663,\n",
    "        'ECG_mean_diff': 0.022275230532693268,\n",
    "        'ECG_min': 0.0019855308564706124,\n",
    "        'ECG_std': 0.019509019119034472,\n",
    "        'EDA_max': 0.07833002942405486,\n",
    "        'EDA_mean': 0.08276724553427814,\n",
    "        'EDA_mean_abs_diff': 0.00964545796852378,\n",
    "        'EDA_mean_diff': 0.005272582078906494,\n",
    "        'EDA_min': 0.05966502825551385,\n",
    "        'EDA_std': 0.11743339935251362,\n",
    "        'Resp_max': 0.15683957483750396,\n",
    "        'Resp_mean': 0.0009181313883094536,\n",
    "        'Resp_mean_abs_diff': 0.02187283189050024,\n",
    "        'Resp_min': 0.004742530853476951,\n",
    "        'Resp_std': 0.002688807600921281,\n",
    "        'SKT_max': 0.00420333255286016,\n",
    "        'SKT_mean': 0.03667924596802952,\n",
    "        'SKT_min': 0.07822802257838406,\n",
    "        'SKT_std': 0.11931710817145574\n",
    "    }\n",
    "    \n",
    "    valid_column= list(arousal_coef.keys())\n",
    "    new_df = dataframe[valid_column]\n",
    "    \n",
    "    for feature, coef in arousal_coef.items():\n",
    "        new_df[feature] = coef * new_df[feature]\n",
    "    \n",
    "    new_df = new_df.sum(axis=1)\n",
    "    \n",
    "    return new_df\n",
    "\n",
    "\n",
    "def create_dataframes_for_media(mediafile):\n",
    "    \n",
    "    sessions = search_sessions_by_media(mediafile)\n",
    "    max_len = get_max_len_from_media(mediafile)\n",
    "    \n",
    "    all_valence = None \n",
    "    all_arousal = None\n",
    "    \n",
    "    N = len(sessions)\n",
    "    \n",
    "    for session in sessions:\n",
    "                \n",
    "        sid = session['session_info'].tolist()['sessionId']\n",
    "                \n",
    "        valence = pd.DataFrame(session['valence'].tolist())[:max_len]\n",
    "        arousal = pd.DataFrame(session['arousal'].tolist())[:max_len]\n",
    "                \n",
    "        # ADD pupil feature\n",
    "        PL = session['pupil'].tolist()[0][:max_len]\n",
    "        PR = session['pupil'].tolist()[1][:max_len]\n",
    "        mean_pupil = np.array([PL, PR]).mean(axis=0)\n",
    "        data_pupil = pd.DataFrame(mean_pupil, columns=['Pupil'])\n",
    "        \n",
    "        # concatenate pupil data\n",
    "        valence = pd.concat([valence, data_pupil], axis=1, sort=False)\n",
    "        arousal = pd.concat([arousal, data_pupil], axis=1, sort=False)\n",
    "        \n",
    "        # remove nan values with the median\n",
    "        valence = valence.fillna(valence.median())\n",
    "        arousal = arousal.fillna(arousal.median())\n",
    "        \n",
    "        # filter selected columns and sum feature values from this session    \n",
    "        valence = filter_valence_columns(valence)\n",
    "        arousal = filter_arousal_columns(arousal)\n",
    "    \n",
    "        valence = pd.DataFrame(valence, columns = [sid])\n",
    "        arousal = pd.DataFrame(arousal, columns = [sid])   \n",
    "        \n",
    "        if all_valence is None:\n",
    "            all_valence = valence\n",
    "            all_arousal = arousal\n",
    "        else:\n",
    "            all_valence = pd.concat([all_valence, valence], axis=1)\n",
    "            all_arousal = pd.concat([all_arousal, arousal], axis=1)\n",
    "    \n",
    "\n",
    "    return all_valence, all_arousal"
   ]
  },
  {
   "cell_type": "code",
   "execution_count": 3,
   "metadata": {
    "scrolled": false
   },
   "outputs": [
    {
     "name": "stdout",
     "output_type": "stream",
     "text": [
      "process media 30\n"
     ]
    },
    {
     "name": "stderr",
     "output_type": "stream",
     "text": [
      "/opt/conda/lib/python3.6/site-packages/ipykernel_launcher.py:39: SettingWithCopyWarning: \n",
      "A value is trying to be set on a copy of a slice from a DataFrame.\n",
      "Try using .loc[row_indexer,col_indexer] = value instead\n",
      "\n",
      "See the caveats in the documentation: http://pandas.pydata.org/pandas-docs/stable/indexing.html#indexing-view-versus-copy\n",
      "/opt/conda/lib/python3.6/site-packages/ipykernel_launcher.py:74: SettingWithCopyWarning: \n",
      "A value is trying to be set on a copy of a slice from a DataFrame.\n",
      "Try using .loc[row_indexer,col_indexer] = value instead\n",
      "\n",
      "See the caveats in the documentation: http://pandas.pydata.org/pandas-docs/stable/indexing.html#indexing-view-versus-copy\n"
     ]
    },
    {
     "name": "stdout",
     "output_type": "stream",
     "text": [
      "process media 53\n"
     ]
    },
    {
     "name": "stderr",
     "output_type": "stream",
     "text": [
      "/opt/conda/lib/python3.6/site-packages/ipykernel_launcher.py:39: SettingWithCopyWarning: \n",
      "A value is trying to be set on a copy of a slice from a DataFrame.\n",
      "Try using .loc[row_indexer,col_indexer] = value instead\n",
      "\n",
      "See the caveats in the documentation: http://pandas.pydata.org/pandas-docs/stable/indexing.html#indexing-view-versus-copy\n",
      "/opt/conda/lib/python3.6/site-packages/ipykernel_launcher.py:74: SettingWithCopyWarning: \n",
      "A value is trying to be set on a copy of a slice from a DataFrame.\n",
      "Try using .loc[row_indexer,col_indexer] = value instead\n",
      "\n",
      "See the caveats in the documentation: http://pandas.pydata.org/pandas-docs/stable/indexing.html#indexing-view-versus-copy\n"
     ]
    },
    {
     "name": "stdout",
     "output_type": "stream",
     "text": [
      "process media 69\n"
     ]
    },
    {
     "name": "stderr",
     "output_type": "stream",
     "text": [
      "/opt/conda/lib/python3.6/site-packages/ipykernel_launcher.py:39: SettingWithCopyWarning: \n",
      "A value is trying to be set on a copy of a slice from a DataFrame.\n",
      "Try using .loc[row_indexer,col_indexer] = value instead\n",
      "\n",
      "See the caveats in the documentation: http://pandas.pydata.org/pandas-docs/stable/indexing.html#indexing-view-versus-copy\n",
      "/opt/conda/lib/python3.6/site-packages/ipykernel_launcher.py:74: SettingWithCopyWarning: \n",
      "A value is trying to be set on a copy of a slice from a DataFrame.\n",
      "Try using .loc[row_indexer,col_indexer] = value instead\n",
      "\n",
      "See the caveats in the documentation: http://pandas.pydata.org/pandas-docs/stable/indexing.html#indexing-view-versus-copy\n"
     ]
    },
    {
     "name": "stdout",
     "output_type": "stream",
     "text": [
      "process media 90\n"
     ]
    },
    {
     "name": "stderr",
     "output_type": "stream",
     "text": [
      "/opt/conda/lib/python3.6/site-packages/ipykernel_launcher.py:39: SettingWithCopyWarning: \n",
      "A value is trying to be set on a copy of a slice from a DataFrame.\n",
      "Try using .loc[row_indexer,col_indexer] = value instead\n",
      "\n",
      "See the caveats in the documentation: http://pandas.pydata.org/pandas-docs/stable/indexing.html#indexing-view-versus-copy\n",
      "/opt/conda/lib/python3.6/site-packages/ipykernel_launcher.py:74: SettingWithCopyWarning: \n",
      "A value is trying to be set on a copy of a slice from a DataFrame.\n",
      "Try using .loc[row_indexer,col_indexer] = value instead\n",
      "\n",
      "See the caveats in the documentation: http://pandas.pydata.org/pandas-docs/stable/indexing.html#indexing-view-versus-copy\n"
     ]
    },
    {
     "name": "stdout",
     "output_type": "stream",
     "text": [
      "process media 111\n"
     ]
    },
    {
     "name": "stderr",
     "output_type": "stream",
     "text": [
      "/opt/conda/lib/python3.6/site-packages/ipykernel_launcher.py:39: SettingWithCopyWarning: \n",
      "A value is trying to be set on a copy of a slice from a DataFrame.\n",
      "Try using .loc[row_indexer,col_indexer] = value instead\n",
      "\n",
      "See the caveats in the documentation: http://pandas.pydata.org/pandas-docs/stable/indexing.html#indexing-view-versus-copy\n",
      "/opt/conda/lib/python3.6/site-packages/ipykernel_launcher.py:74: SettingWithCopyWarning: \n",
      "A value is trying to be set on a copy of a slice from a DataFrame.\n",
      "Try using .loc[row_indexer,col_indexer] = value instead\n",
      "\n",
      "See the caveats in the documentation: http://pandas.pydata.org/pandas-docs/stable/indexing.html#indexing-view-versus-copy\n"
     ]
    }
   ],
   "source": [
    "for mediafile in [30, 53, 69, 90, 111]:\n",
    "    print('process media {}'.format(mediafile))\n",
    "    valence, arousal = create_dataframes_for_media(mediafile)\n",
    "    valence.to_csv(\"valence_combined_feature_{}.csv\".format(mediafile))\n",
    "    arousal.to_csv(\"arousal_combined_feature_{}.csv\".format(mediafile))"
   ]
  }
 ],
 "metadata": {
  "kernelspec": {
   "display_name": "Python 3",
   "language": "python",
   "name": "python3"
  },
  "language_info": {
   "codemirror_mode": {
    "name": "ipython",
    "version": 3
   },
   "file_extension": ".py",
   "mimetype": "text/x-python",
   "name": "python",
   "nbconvert_exporter": "python",
   "pygments_lexer": "ipython3",
   "version": "3.6.8"
  }
 },
 "nbformat": 4,
 "nbformat_minor": 2
}
