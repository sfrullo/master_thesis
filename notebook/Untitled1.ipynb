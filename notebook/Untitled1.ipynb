{
 "cells": [
  {
   "cell_type": "code",
   "execution_count": 1,
   "metadata": {},
   "outputs": [],
   "source": [
    "from sklearn.model_selection import StratifiedKFold, cross_validate\n",
    "from sklearn.ensemble import RandomForestClassifier\n",
    "import numpy as np\n",
    "\n",
    "n_samples = 100\n",
    "\n",
    "# generates 2 n_samples random time series with integer values from 0 to 100.\n",
    "x1 = np.array([np.random.randint(0, 100, 5) for _ in range(n_samples)])\n",
    "x2 = np.array([np.random.randint(0, 100, 5) for _ in range(n_samples)])\n",
    "\n",
    "X = np.hstack((x1, x2))\n",
    "\n",
    "\n",
    "# generates n_samples random binary labels.\n",
    "y = np.random.randint(0, 2, n_samples)\n",
    "\n",
    "#Random Forest classifier\n",
    "clf=RandomForestClassifier(random_state = 42, class_weight=\"balanced\", criterion = 'gini', max_depth = 3, max_features = 'auto', n_estimators = 500)\n",
    "\n",
    "k_fold = StratifiedKFold(n_splits=10, shuffle=True, random_state=0)\n",
    "\n",
    "output = cross_validate(clf, X, y, cv=k_fold, scoring = 'roc_auc', return_estimator =True)"
   ]
  },
  {
   "cell_type": "code",
   "execution_count": 5,
   "metadata": {},
   "outputs": [
    {
     "data": {
      "text/plain": [
       "array([0, 1, 0, 1, 0, 1, 1, 0, 1, 0, 1, 0, 0, 0, 0, 1, 0, 0, 1, 1, 1, 0,\n",
       "       1, 1, 1, 0, 1, 1, 0, 1, 1, 1, 1, 1, 0, 0, 1, 0, 0, 0, 0, 1, 1, 1,\n",
       "       1, 0, 0, 0, 1, 1, 1, 0, 0, 1, 0, 0, 1, 1, 1, 1, 1, 0, 1, 0, 1, 1,\n",
       "       1, 1, 0, 1, 1, 0, 1, 0, 0, 0, 1, 0, 1, 0, 1, 0, 0, 1, 0, 0, 1, 0,\n",
       "       0, 0, 0, 0, 0, 1, 0, 1, 0, 1, 0, 0])"
      ]
     },
     "execution_count": 5,
     "metadata": {},
     "output_type": "execute_result"
    }
   ],
   "source": [
    "y"
   ]
  }
 ],
 "metadata": {
  "kernelspec": {
   "display_name": "Python 2",
   "language": "python",
   "name": "python2"
  },
  "language_info": {
   "codemirror_mode": {
    "name": "ipython",
    "version": 2
   },
   "file_extension": ".py",
   "mimetype": "text/x-python",
   "name": "python",
   "nbconvert_exporter": "python",
   "pygments_lexer": "ipython2",
   "version": "2.7.15"
  }
 },
 "nbformat": 4,
 "nbformat_minor": 2
}
