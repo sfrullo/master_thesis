{
 "cells": [
  {
   "cell_type": "code",
   "execution_count": 48,
   "metadata": {},
   "outputs": [],
   "source": [
    "import numpy as np\n",
    "from matplotlib.pyplot import cm\n",
    "from matplotlib.colors import ListedColormap\n",
    "import imageio\n",
    "from PIL import Image"
   ]
  },
  {
   "cell_type": "code",
   "execution_count": 41,
   "metadata": {},
   "outputs": [],
   "source": [
    "input_media = imageio.get_reader(\"../Dataset/Mahnob/data/media_24/53.avi\")"
   ]
  },
  {
   "cell_type": "code",
   "execution_count": 11,
   "metadata": {},
   "outputs": [
    {
     "data": {
      "text/plain": [
       "{'duration': 105.08,\n",
       " 'ffmpeg_version': u'3.4.4-0ubuntu0.18.04.1 built with gcc 7 (Ubuntu 7.3.0-16ubuntu3)',\n",
       " 'fps': 24.0,\n",
       " 'nframes': 2522,\n",
       " 'plugin': 'ffmpeg',\n",
       " 'size': (320, 200),\n",
       " 'source_size': (320, 200)}"
      ]
     },
     "execution_count": 11,
     "metadata": {},
     "output_type": "execute_result"
    }
   ],
   "source": [
    "input_media.get_meta_data()"
   ]
  },
  {
   "cell_type": "code",
   "execution_count": 12,
   "metadata": {},
   "outputs": [],
   "source": [
    "data = np.load(\"../export/data/gaze_heatmap_53.npz\")"
   ]
  },
  {
   "cell_type": "code",
   "execution_count": 65,
   "metadata": {},
   "outputs": [
    {
     "name": "stdout",
     "output_type": "stream",
     "text": [
      "(2522, 64000)\n"
     ]
    }
   ],
   "source": [
    "heatmaps = data[\"heatmaps\"]\n",
    "print heatmaps.shape"
   ]
  },
  {
   "cell_type": "code",
   "execution_count": 18,
   "metadata": {},
   "outputs": [],
   "source": [
    "# normalize over all frames\n",
    "norm_heatmap = ( heatmaps - heatmaps.min() ) / ( heatmaps.max() - heatmaps.min() )"
   ]
  },
  {
   "cell_type": "code",
   "execution_count": 49,
   "metadata": {},
   "outputs": [],
   "source": [
    "cmap = cm.jet\n",
    "my_cmap = cmap(np.arange(cmap.N))\n",
    "\n",
    "# Set alpha\n",
    "my_cmap[:,-1] = np.linspace(0, 1, cmap.N)\n",
    "\n",
    "# Create new colormap\n",
    "cm_jet = ListedColormap(my_cmap)"
   ]
  },
  {
   "cell_type": "code",
   "execution_count": 56,
   "metadata": {},
   "outputs": [],
   "source": [
    "i = 500\n",
    "\n",
    "output_media = imageio.get_writer(\"../export/video/sm_53.png\")\n",
    "\n",
    "frame = input_media.get_data(i)\n",
    "image = Image.fromarray(frame).convert(\"RGBA\")\n",
    "\n",
    "hm =  cm_jet(norm_heatmap[i].reshape(200,320), bytes=True)\n",
    "hm_image = Image.fromarray(hm)\n",
    "\n",
    "image.paste(hm_image, (0,0), hm_image)\n",
    "\n",
    "output_media.append_data(np.array(image))\n",
    "\n",
    "output_media.close()"
   ]
  },
  {
   "cell_type": "markdown",
   "metadata": {},
   "source": [
    "## Export entire video"
   ]
  },
  {
   "cell_type": "code",
   "execution_count": 57,
   "metadata": {},
   "outputs": [
    {
     "name": "stderr",
     "output_type": "stream",
     "text": [
      "WARNING:root:IMAGEIO FFMPEG_WRITER WARNING: input image is not divisible by macro_block_size=16, resizing from (200, 320) to (208, 320) to ensure video compatibility with most codecs and players. To prevent resizing, make your input image divisible by the macro_block_size or set the macro_block_size to None (risking incompatibility). You may also see a FFMPEG warning concerning speedloss due to data not being aligned.\n"
     ]
    }
   ],
   "source": [
    "output_media = imageio.get_writer(\"../export/video/sm_53.avi\", fps=24)\n",
    "\n",
    "for frame, hm in zip(input_media.iter_data(), norm_heatmap):\n",
    "    \n",
    "    image = Image.fromarray(frame).convert(\"RGBA\")\n",
    "    \n",
    "    hm =  cm_jet(hm.reshape(200,320), bytes=True)\n",
    "    hm_image = Image.fromarray(hm)\n",
    "\n",
    "    image.paste(hm_image, (0,0), hm_image)\n",
    "\n",
    "    output_media.append_data(np.array(image))\n",
    "\n",
    "output_media.close()"
   ]
  },
  {
   "cell_type": "markdown",
   "metadata": {},
   "source": [
    "## Summarize video with saliency values > 0.7"
   ]
  },
  {
   "cell_type": "code",
   "execution_count": 85,
   "metadata": {},
   "outputs": [],
   "source": [
    "output_media_07 = imageio.get_writer(\"../export/video/sm_53_07.avi\", fps=10)\n",
    "\n",
    "norm_heatmap_07_index = np.where(norm_heatmap > 0.7)"
   ]
  },
  {
   "cell_type": "code",
   "execution_count": 86,
   "metadata": {
    "scrolled": true
   },
   "outputs": [
    {
     "name": "stderr",
     "output_type": "stream",
     "text": [
      "WARNING:root:IMAGEIO FFMPEG_WRITER WARNING: input image is not divisible by macro_block_size=16, resizing from (200, 320) to (208, 320) to ensure video compatibility with most codecs and players. To prevent resizing, make your input image divisible by the macro_block_size or set the macro_block_size to None (risking incompatibility). You may also see a FFMPEG warning concerning speedloss due to data not being aligned.\n"
     ]
    }
   ],
   "source": [
    "for i in np.unique(norm_heatmap_07_index[0]):\n",
    "    \n",
    "    frame = input_media.get_data(i)\n",
    "    image = Image.fromarray(frame).convert(\"RGBA\")\n",
    "    \n",
    "    hm =  cm_jet(norm_heatmap[i].reshape(200,320), bytes=True)\n",
    "    hm_image = Image.fromarray(hm)\n",
    "\n",
    "    image.paste(hm_image, (0,0), hm_image)\n",
    "\n",
    "    output_media_07.append_data(np.array(image))\n",
    "\n",
    "output_media_07.close()"
   ]
  }
 ],
 "metadata": {
  "kernelspec": {
   "display_name": "Python 2",
   "language": "python",
   "name": "python2"
  },
  "language_info": {
   "codemirror_mode": {
    "name": "ipython",
    "version": 2
   },
   "file_extension": ".py",
   "mimetype": "text/x-python",
   "name": "python",
   "nbconvert_exporter": "python",
   "pygments_lexer": "ipython2",
   "version": "2.7.15"
  }
 },
 "nbformat": 4,
 "nbformat_minor": 2
}
