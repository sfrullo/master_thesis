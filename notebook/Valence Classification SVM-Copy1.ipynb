{
 "cells": [
  {
   "cell_type": "code",
   "execution_count": 2,
   "metadata": {},
   "outputs": [],
   "source": [
    "import numpy as np\n",
    "import matplotlib.pyplot as plt\n",
    "import pandas as pd\n",
    "from sklearn import svm\n",
    "from sklearn.model_selection import train_test_split\n",
    "from sklearn.preprocessing import OneHotEncoder"
   ]
  },
  {
   "cell_type": "markdown",
   "metadata": {},
   "source": [
    "## Load data"
   ]
  },
  {
   "cell_type": "code",
   "execution_count": 25,
   "metadata": {
    "scrolled": true
   },
   "outputs": [],
   "source": [
    "def get_data():\n",
    "    \n",
    "    try:\n",
    "        columns = np.load(\"data_columns.npy\")\n",
    "        X = np.load(\"data_valence_physio_for_svm.npy\")\n",
    "        Y = np.load(\"data_valence_label_for_svm.npy\")\n",
    "        return pd.DataFrame(X, columns=columns), pd.DataFrame(Y)\n",
    "    except:\n",
    "        print \"No stored files found.. load from files first\""
   ]
  },
  {
   "cell_type": "code",
   "execution_count": 30,
   "metadata": {},
   "outputs": [
    {
     "name": "stdout",
     "output_type": "stream",
     "text": [
      "(321600, 24)\n",
      "(321600, 1)\n"
     ]
    }
   ],
   "source": [
    "X, Y = get_data()\n",
    "print X.shape\n",
    "print Y.shape"
   ]
  },
  {
   "cell_type": "code",
   "execution_count": 31,
   "metadata": {},
   "outputs": [
    {
     "data": {
      "text/plain": [
       "array([[<matplotlib.axes._subplots.AxesSubplot object at 0x7f6b0c051950>]],\n",
       "      dtype=object)"
      ]
     },
     "execution_count": 31,
     "metadata": {},
     "output_type": "execute_result"
    },
    {
     "data": {
      "image/png": "[encoded data removed]",
      "text/plain": [
       "<Figure size 432x288 with 1 Axes>"
      ]
     },
     "metadata": {
      "needs_background": "light"
     },
     "output_type": "display_data"
    }
   ],
   "source": [
    "# binarize the problem\n",
    "Y[Y<=4] = 0\n",
    "Y[Y>=5] = 1\n",
    "Y.hist(bins=2)"
   ]
  },
  {
   "cell_type": "code",
   "execution_count": 32,
   "metadata": {},
   "outputs": [],
   "source": [
    "from itertools import combinations\n",
    "from sklearn.preprocessing import PolynomialFeatures\n",
    "\n",
    "def add_interactions(df):\n",
    "    # Get feature names\n",
    "    combos = list(combinations(list(df.columns), 2))\n",
    "    colnames = list(df.columns) + ['_'.join(x) for x in combos]\n",
    "    \n",
    "    # Find interactions\n",
    "    poly = PolynomialFeatures(interaction_only=True, include_bias=False)\n",
    "    df = poly.fit_transform(df)\n",
    "    df = pd.DataFrame(df)\n",
    "    df.columns = colnames\n",
    "    \n",
    "    # Remove interaction terms with all 0 values            \n",
    "    noint_indicies = [i for i, x in enumerate(list((df == 0).all())) if x]\n",
    "    df = df.drop(df.columns[noint_indicies], axis=1)\n",
    "    \n",
    "    return df"
   ]
  },
  {
   "cell_type": "code",
   "execution_count": 33,
   "metadata": {},
   "outputs": [
    {
     "name": "stdout",
     "output_type": "stream",
     "text": [
      "   ECG_mean   ECG_std   ECG_min   ECG_max  ECG_mean_diff  ECG_mean_abs_diff  \\\n",
      "0  0.320451  0.480693  0.461365  0.332408       0.103172           0.539965   \n",
      "1  0.320050  0.497739  0.458292  0.338570       0.116704           0.558412   \n",
      "2  0.319555  0.520092  0.456218  0.345537       0.131065           0.583043   \n",
      "3  0.318970  0.545433  0.453144  0.351629       0.143795           0.601607   \n",
      "4  0.318290  0.574653  0.451069  0.358723       0.158004           0.626172   \n",
      "\n",
      "   EDA_mean   EDA_std   EDA_min   EDA_max  ...  SKT_std_SKT_min  \\\n",
      "0  0.097486  0.067388  0.105070  0.104253  ...         0.001161   \n",
      "1  0.096673  0.067070  0.104308  0.103555  ...         0.001254   \n",
      "2  0.095856  0.066632  0.103519  0.102816  ...         0.001156   \n",
      "3  0.095038  0.066130  0.102700  0.102036  ...         0.001248   \n",
      "4  0.094217  0.065618  0.101855  0.101221  ...         0.001151   \n",
      "\n",
      "   SKT_std_SKT_max  SKT_std_SKT_mean_diff  SKT_std_SKT_mean_abs_diff  \\\n",
      "0         0.000402               0.009700                   0.000384   \n",
      "1         0.000437               0.010553                   0.000413   \n",
      "2         0.000402               0.009626                   0.000373   \n",
      "3         0.000437               0.010470                   0.000402   \n",
      "4         0.000402               0.009554                   0.000363   \n",
      "\n",
      "   SKT_min_SKT_max  SKT_min_SKT_mean_diff  SKT_min_SKT_mean_abs_diff  \\\n",
      "0         0.002971               0.071757                   0.002841   \n",
      "1         0.002994               0.072330                   0.002834   \n",
      "2         0.003004               0.071985                   0.002791   \n",
      "3         0.003027               0.072549                   0.002785   \n",
      "4         0.003037               0.072212                   0.002742   \n",
      "\n",
      "   SKT_max_SKT_mean_diff  SKT_max_SKT_mean_abs_diff  \\\n",
      "0               0.024813                   0.000982   \n",
      "1               0.025208                   0.000988   \n",
      "2               0.025010                   0.000970   \n",
      "3               0.025404                   0.000975   \n",
      "4               0.025209                   0.000957   \n",
      "\n",
      "   SKT_mean_diff_SKT_mean_abs_diff  \n",
      "0                         0.023724  \n",
      "1                         0.023859  \n",
      "2                         0.023236  \n",
      "3                         0.023373  \n",
      "4                         0.022765  \n",
      "\n",
      "[5 rows x 300 columns]\n"
     ]
    }
   ],
   "source": [
    "x_interact = add_interactions(pd.DataFrame(X))\n",
    "print(x_interact.head(5))"
   ]
  },
  {
   "cell_type": "markdown",
   "metadata": {},
   "source": [
    "## Create train and test set"
   ]
  },
  {
   "cell_type": "code",
   "execution_count": 35,
   "metadata": {
    "scrolled": false
   },
   "outputs": [
    {
     "name": "stdout",
     "output_type": "stream",
     "text": [
      "(257280, 300)\n",
      "(257280, 1)\n",
      "(64320, 300)\n",
      "(64320, 1)\n"
     ]
    }
   ],
   "source": [
    "xtrain, xval, ytrain, yval = train_test_split(x_interact, Y, test_size=.2, shuffle=False)\n",
    "print xtrain.shape\n",
    "print ytrain.shape\n",
    "print xval.shape\n",
    "print yval.shape"
   ]
  },
  {
   "cell_type": "code",
   "execution_count": 36,
   "metadata": {},
   "outputs": [],
   "source": [
    "from sklearn.svm import LinearSVC, SVC\n",
    "from sklearn.feature_selection import RFECV"
   ]
  },
  {
   "cell_type": "markdown",
   "metadata": {},
   "source": [
    "## LinearSVC train and test"
   ]
  },
  {
   "cell_type": "code",
   "execution_count": 38,
   "metadata": {
    "scrolled": true
   },
   "outputs": [
    {
     "name": "stdout",
     "output_type": "stream",
     "text": [
      "[LibLinear]"
     ]
    },
    {
     "data": {
      "text/plain": [
       "0.42597947761194027"
      ]
     },
     "execution_count": 38,
     "metadata": {},
     "output_type": "execute_result"
    }
   ],
   "source": [
    "lsvc = LinearSVC(C=1, tol=1e-4, dual=False, fit_intercept=True, class_weight='balanced', verbose=True)\n",
    "lsvc.fit(xtrain, ytrain.values.ravel())\n",
    "lsvc.score(xval, yval.values.ravel())"
   ]
  },
  {
   "cell_type": "markdown",
   "metadata": {},
   "source": [
    "## KBest Feature selection + SVC"
   ]
  },
  {
   "cell_type": "code",
   "execution_count": 39,
   "metadata": {},
   "outputs": [],
   "source": [
    "# Such a large set of features can cause overfitting and also slow computing\n",
    "# Use feature selection to select the most important features\n",
    "import sklearn.feature_selection"
   ]
  },
  {
   "cell_type": "code",
   "execution_count": 67,
   "metadata": {},
   "outputs": [
    {
     "name": "stdout",
     "output_type": "stream",
     "text": [
      "[LibLinear][LibLinear][LibLinear][LibLinear][LibLinear][LibLinear][LibLinear][LibLinear][LibLinear][LibLinear][LibLinear][LibLinear][LibLinear][LibLinear][LibLinear][LibLinear][LibLinear][LibLinear][LibLinear][LibLinear][LibLinear][LibLinear][LibLinear][LibLinear][LibLinear][LibLinear][LibLinear][LibLinear][LibLinear][LibLinear][LibLinear][LibLinear][LibLinear][LibLinear][LibLinear][LibLinear][LibLinear][LibLinear][LibLinear][LibLinear][LibLinear][LibLinear][LibLinear][LibLinear][LibLinear][LibLinear][LibLinear][LibLinear][LibLinear]"
     ]
    }
   ],
   "source": [
    "scores_by_kbest = []\n",
    "\n",
    "for k in range(1,50):\n",
    "\n",
    "    kbest_selector = sklearn.feature_selection.SelectKBest(k=k)\n",
    "    kbest_selector.fit(xtrain, ytrain)\n",
    "    \n",
    "    lsvc = LinearSVC(C=1, tol=1e-4, dual=False, fit_intercept=True, class_weight='balanced', verbose=True)\n",
    "    lsvc.fit(kbest_selector.transform(xtrain), ytrain.values.ravel())\n",
    "    score = lsvc.score(kbest_selector.transform(xval), yval.values.ravel())\n",
    "\n",
    "    ks = {\n",
    "        \"feature\" : xtrain.columns[kbest_selector.get_support()],\n",
    "        \"score\" : score\n",
    "    }\n",
    "    \n",
    "    scores_by_kbest.append(ks)"
   ]
  },
  {
   "cell_type": "code",
   "execution_count": 68,
   "metadata": {},
   "outputs": [
    {
     "data": {
      "image/png": "[encoded data removed]",
      "text/plain": [
       "<Figure size 1080x360 with 1 Axes>"
      ]
     },
     "metadata": {
      "needs_background": "light"
     },
     "output_type": "display_data"
    }
   ],
   "source": [
    "scores = [ s[\"score\"] for s in scores_by_kbest ]\n",
    "plt.figure(figsize=(15,5))\n",
    "plt.xlabel(\"Number of features selected\")\n",
    "plt.ylabel(\"Validation score (nb of correct classifications)\")\n",
    "plt.plot(np.arange(len(scores)), scores)\n",
    "plt.show()"
   ]
  },
  {
   "cell_type": "code",
   "execution_count": 69,
   "metadata": {},
   "outputs": [
    {
     "name": "stdout",
     "output_type": "stream",
     "text": [
      "Index([u'EDA_min_SKT_min', u'EDA_min_SKT_max', u'EDA_max_SKT_min'], dtype='object')\n",
      "0.4784981343283582\n"
     ]
    }
   ],
   "source": [
    "max_score = max(scores_by_kbest, key=lambda x: x[\"score\"])\n",
    "print max_score[\"feature\"]\n",
    "print max_score[\"score\"]"
   ]
  },
  {
   "cell_type": "markdown",
   "metadata": {},
   "source": [
    "## Univariate Feature Selection + SVC"
   ]
  },
  {
   "cell_type": "code",
   "execution_count": 45,
   "metadata": {},
   "outputs": [],
   "source": [
    "from sklearn.feature_selection import SelectPercentile, f_classif"
   ]
  },
  {
   "cell_type": "code",
   "execution_count": 55,
   "metadata": {},
   "outputs": [
    {
     "data": {
      "text/plain": [
       "SelectPercentile(percentile=10,\n",
       "         score_func=<function f_classif at 0x7f6b0d3957d0>)"
      ]
     },
     "execution_count": 55,
     "metadata": {},
     "output_type": "execute_result"
    }
   ],
   "source": [
    "selector = SelectPercentile(f_classif, percentile=10)\n",
    "selector.fit(xtrain, ytrain)"
   ]
  },
  {
   "cell_type": "code",
   "execution_count": 56,
   "metadata": {},
   "outputs": [
    {
     "name": "stderr",
     "output_type": "stream",
     "text": [
      "/opt/conda/envs/python2/lib/python2.7/site-packages/ipykernel_launcher.py:1: RuntimeWarning: divide by zero encountered in log10\n",
      "  \"\"\"Entry point for launching an IPython kernel.\n"
     ]
    },
    {
     "data": {
      "image/png": "[encoded data removed]",
      "text/plain": [
       "<Figure size 432x288 with 1 Axes>"
      ]
     },
     "metadata": {
      "needs_background": "light"
     },
     "output_type": "display_data"
    },
    {
     "data": {
      "text/plain": [
       "Index([u'EDA_mean', u'EDA_min', u'EDA_max', u'ECG_mean_diff_EDA_mean',\n",
       "       u'ECG_mean_diff_EDA_min', u'ECG_mean_diff_EDA_max',\n",
       "       u'EDA_mean_EDA_mean_diff', u'EDA_mean_Resp_max',\n",
       "       u'EDA_mean_Resp_mean_abs_diff', u'EDA_mean_SKT_mean',\n",
       "       u'EDA_mean_SKT_min', u'EDA_mean_SKT_max', u'EDA_std_SKT_mean',\n",
       "       u'EDA_std_SKT_min', u'EDA_std_SKT_max', u'EDA_min_EDA_mean_diff',\n",
       "       u'EDA_min_Resp_max', u'EDA_min_Resp_mean_diff',\n",
       "       u'EDA_min_Resp_mean_abs_diff', u'EDA_min_SKT_mean', u'EDA_min_SKT_min',\n",
       "       u'EDA_min_SKT_max', u'EDA_max_EDA_mean_diff', u'EDA_max_Resp_max',\n",
       "       u'EDA_max_SKT_mean', u'EDA_max_SKT_min', u'EDA_max_SKT_max',\n",
       "       u'EDA_mean_abs_diff_SKT_mean', u'EDA_mean_abs_diff_SKT_min',\n",
       "       u'EDA_mean_abs_diff_SKT_max'],\n",
       "      dtype='object')"
      ]
     },
     "execution_count": 56,
     "metadata": {},
     "output_type": "execute_result"
    }
   ],
   "source": [
    "scores = -np.log10(selector.pvalues_)\n",
    "scores[np.isinf(scores)] = scores[np.isfinite(scores)].max()\n",
    "scores /= scores.max()\n",
    "plt.bar(np.arange(x_interact.shape[1]), scores, width=.2)\n",
    "plt.show()\n",
    "\n",
    "x_interact.columns[selector.get_support()]"
   ]
  },
  {
   "cell_type": "code",
   "execution_count": 66,
   "metadata": {},
   "outputs": [
    {
     "name": "stdout",
     "output_type": "stream",
     "text": [
      "[LibLinear]"
     ]
    },
    {
     "data": {
      "text/plain": [
       "0.45677860696517414"
      ]
     },
     "execution_count": 66,
     "metadata": {},
     "output_type": "execute_result"
    }
   ],
   "source": [
    "lsvc = LinearSVC(C=1, tol=1e-4, dual=False, fit_intercept=True, class_weight='balanced', verbose=True)\n",
    "lsvc.fit(selector.transform(xtrain), ytrain.values.ravel())\n",
    "lsvc.score(selector.transform(xval), yval)"
   ]
  },
  {
   "cell_type": "markdown",
   "metadata": {},
   "source": [
    "## Recursive feature selection"
   ]
  },
  {
   "cell_type": "code",
   "execution_count": 70,
   "metadata": {},
   "outputs": [],
   "source": [
    "lsvc = LinearSVC(C=1, tol=1e-4, dual=False, fit_intercept=True, class_weight='balanced')\n",
    "rfecv = RFECV(estimator=lsvc, step=10, cv=3, scoring='accuracy', n_jobs=-1)"
   ]
  },
  {
   "cell_type": "code",
   "execution_count": 71,
   "metadata": {},
   "outputs": [
    {
     "data": {
      "text/plain": [
       "0.48017723880597013"
      ]
     },
     "execution_count": 71,
     "metadata": {},
     "output_type": "execute_result"
    }
   ],
   "source": [
    "rfecv.fit(xtrain, ytrain.values.ravel())\n",
    "rfecv.score(xval, yval.values.ravel())"
   ]
  },
  {
   "cell_type": "code",
   "execution_count": 72,
   "metadata": {},
   "outputs": [
    {
     "data": {
      "image/png": "[encoded data removed]",
      "text/plain": [
       "<Figure size 1080x360 with 1 Axes>"
      ]
     },
     "metadata": {
      "needs_background": "light"
     },
     "output_type": "display_data"
    }
   ],
   "source": [
    "# Plot number of features VS. cross-validation scores\n",
    "plt.figure(figsize=(15,5))\n",
    "plt.xlabel(\"Number of features selected\")\n",
    "plt.ylabel(\"Cross validation score (nb of correct classifications)\")\n",
    "plt.plot(range(1, len(rfecv.grid_scores_[:30]) + 1), rfecv.grid_scores_[:30])\n",
    "plt.show()"
   ]
  }
 ],
 "metadata": {
  "kernelspec": {
   "display_name": "Python 2",
   "language": "python",
   "name": "python2"
  },
  "language_info": {
   "codemirror_mode": {
    "name": "ipython",
    "version": 2
   },
   "file_extension": ".py",
   "mimetype": "text/x-python",
   "name": "python",
   "nbconvert_exporter": "python",
   "pygments_lexer": "ipython2",
   "version": "2.7.15"
  }
 },
 "nbformat": 4,
 "nbformat_minor": 2
}
