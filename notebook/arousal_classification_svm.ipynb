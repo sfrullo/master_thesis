{
 "cells": [
  {
   "cell_type": "code",
   "execution_count": 31,
   "metadata": {},
   "outputs": [],
   "source": [
    "import numpy as np\n",
    "import matplotlib.pyplot as plt\n",
    "import pandas as pd\n",
    "\n",
    "from sklearn.svm import LinearSVC, SVC\n",
    "from sklearn.feature_selection import RFECV\n",
    "\n",
    "from sklearn.model_selection import StratifiedKFold, StratifiedShuffleSplit\n",
    "from sklearn.model_selection import cross_val_score\n",
    "\n",
    "from sklearn.metrics import balanced_accuracy_score, roc_auc_score, auc, roc_curve\n",
    "\n",
    "# fix random seed for reproducibility\n",
    "seed = 7\n",
    "np.random.seed(seed)"
   ]
  },
  {
   "cell_type": "code",
   "execution_count": 2,
   "metadata": {},
   "outputs": [],
   "source": [
    "# Using seaborn's style\n",
    "nice_fonts = {\n",
    "        # Use LaTeX to write all text\n",
    "        \"text.usetex\": False,\n",
    "        \"font.family\": \"serif\",\n",
    "        # Use 10pt font in plots, to match 10pt font in document\n",
    "        \"axes.labelsize\": 10,\n",
    "        \"font.size\": 10,\n",
    "        # Make the legend/label fonts a little smaller\n",
    "        \"legend.fontsize\": 8,\n",
    "        \"xtick.labelsize\": 8,\n",
    "        \"ytick.labelsize\": 8,\n",
    "}\n",
    "\n",
    "plt.rcParams.update(nice_fonts)\n",
    "\n",
    "def set_size(width, fraction=1):\n",
    "    \"\"\" Set aesthetic figure dimensions to avoid scaling in latex.\n",
    "\n",
    "    Parameters\n",
    "    ----------\n",
    "    width: float\n",
    "            Width in pts\n",
    "    fraction: float\n",
    "            Fraction of the width which you wish the figure to occupy\n",
    "\n",
    "    Returns\n",
    "    -------\n",
    "    fig_dim: tuple\n",
    "            Dimensions of figure in inches\n",
    "    \"\"\"\n",
    "    # Width of figure\n",
    "    fig_width_pt = width * fraction\n",
    "\n",
    "    # Convert from pt to inches\n",
    "    inches_per_pt = 1 / 72.27\n",
    "\n",
    "    # Golden ratio to set aesthetic figure height\n",
    "    golden_ratio = (5**.5 - 1) / 2\n",
    "\n",
    "    # Figure width in inches\n",
    "    fig_width_in = fig_width_pt * inches_per_pt\n",
    "    # Figure height in inches\n",
    "    fig_height_in = fig_width_in * golden_ratio\n",
    "\n",
    "    fig_dim = (fig_width_in, fig_height_in)\n",
    "\n",
    "    return fig_dim\n",
    "\n",
    "width = 418.25368"
   ]
  },
  {
   "cell_type": "markdown",
   "metadata": {},
   "source": [
    "## Load data"
   ]
  },
  {
   "cell_type": "code",
   "execution_count": 5,
   "metadata": {
    "scrolled": true
   },
   "outputs": [],
   "source": [
    "def get_data():\n",
    "    columns = np.load(\"data/data_columns.npy\")\n",
    "    X = np.load(\"data/data_arousal_physio_with_pupil_for_svm_only_valid_session.npy\")\n",
    "    Y = np.load(\"data/data_arousal_label_with_pupil_for_svm_only_valid_session.npy\")\n",
    "    return pd.DataFrame(X, columns=columns), pd.DataFrame(Y)"
   ]
  },
  {
   "cell_type": "code",
   "execution_count": 6,
   "metadata": {},
   "outputs": [
    {
     "name": "stdout",
     "output_type": "stream",
     "text": [
      "(82400, 25)\n",
      "(82400, 1)\n"
     ]
    }
   ],
   "source": [
    "X, Y = get_data()\n",
    "#X = X.drop([\"SKT_mean_abs_diff\", \"SKT_std\"], axis=1)\n",
    "print X.shape\n",
    "print Y.shape"
   ]
  },
  {
   "cell_type": "code",
   "execution_count": 7,
   "metadata": {},
   "outputs": [
    {
     "data": {
      "text/plain": [
       "array([[<matplotlib.axes._subplots.AxesSubplot object at 0x7f8c7e5aa810>]],\n",
       "      dtype=object)"
      ]
     },
     "execution_count": 7,
     "metadata": {},
     "output_type": "execute_result"
    },
    {
     "data": {
      "image/png": "[encoded data removed]",
      "text/plain": [
       "<Figure size 432x288 with 1 Axes>"
      ]
     },
     "metadata": {
      "needs_background": "light"
     },
     "output_type": "display_data"
    }
   ],
   "source": [
    "# binarize the problem\n",
    "Y[Y<=4] = 0\n",
    "Y[Y>=5] = 1\n",
    "Y.hist(bins=2)"
   ]
  },
  {
   "cell_type": "markdown",
   "metadata": {},
   "source": [
    "## LinearSVC"
   ]
  },
  {
   "cell_type": "markdown",
   "metadata": {},
   "source": [
    "### Search for optimal C parameter"
   ]
  },
  {
   "cell_type": "code",
   "execution_count": 42,
   "metadata": {},
   "outputs": [],
   "source": [
    "def create_classifier(c=1):\n",
    "    lsvc = LinearSVC(C=c, tol=1e-4, dual=False, fit_intercept=False, class_weight='balanced', verbose=True)\n",
    "    # evaluate using 5-fold cross validation\n",
    "    #stratified_cv = StratifiedKFold(n_splits=5, shuffle=True, random_state=seed)\n",
    "    stratified_cv = StratifiedShuffleSplit(n_splits=5, test_size=.2, random_state=seed)\n",
    "    return lsvc, stratified_cv"
   ]
  },
  {
   "cell_type": "code",
   "execution_count": 79,
   "metadata": {
    "scrolled": true
   },
   "outputs": [
    {
     "name": "stdout",
     "output_type": "stream",
     "text": [
      "[LibLinear][LibLinear][LibLinear][LibLinear][LibLinear][LibLinear][LibLinear][LibLinear][LibLinear][LibLinear][LibLinear][LibLinear][LibLinear][LibLinear][LibLinear][LibLinear][LibLinear][LibLinear][LibLinear][LibLinear][LibLinear][LibLinear][LibLinear][LibLinear][LibLinear][LibLinear][LibLinear][LibLinear][LibLinear][LibLinear][LibLinear][LibLinear][LibLinear][LibLinear][LibLinear][LibLinear][LibLinear][LibLinear][LibLinear][LibLinear][LibLinear][LibLinear][LibLinear][LibLinear][LibLinear][LibLinear][LibLinear][LibLinear][LibLinear][LibLinear]"
     ]
    }
   ],
   "source": [
    "result = []\n",
    "\n",
    "for i in range(5,-5,-1):\n",
    "    c = 1*10**i\n",
    "    lsvc, stratified_cv = create_classifier(c=c)\n",
    "    results = cross_val_score(lsvc, X, Y.values.ravel(), cv=stratified_cv, scoring='accuracy', verbose=0)\n",
    "    result.append({ \"c\": c, \"score\" : results.mean()*100, \"std\" : results.std()*100})"
   ]
  },
  {
   "cell_type": "code",
   "execution_count": 80,
   "metadata": {},
   "outputs": [
    {
     "name": "stdout",
     "output_type": "stream",
     "text": [
      "c: 1e-04 --> score: 58.438107\n",
      "c: 1e-03 --> score: 59.228155\n",
      "c: 1e-02 --> score: 59.949029\n",
      "c: 1e-01 --> score: 61.536408\n",
      "c: 1e+00 --> score: 62.150485\n",
      "c: 1e+01 --> score: 62.220874\n",
      "c: 1e+05 --> score: 62.250000\n",
      "c: 1e+04 --> score: 62.250000\n",
      "c: 1e+03 --> score: 62.250000\n",
      "c: 1e+02 --> score: 62.250000\n",
      "\n",
      "optimal value: 1e+05\n",
      "Accuracy: 62.25% (0.42%)\n"
     ]
    }
   ],
   "source": [
    "for r in sorted(result, key=lambda x: x[\"score\"]):\n",
    "    print \"c: {:.0e} --> score: {:f}\".format(r[\"c\"], r[\"score\"])\n",
    "\n",
    "max_score = max(result, key=lambda x: x[\"score\"])\n",
    "\n",
    "print\n",
    "print \"optimal value: {:.0e}\".format(max_score[\"c\"])\n",
    "print(\"Accuracy: %.2f%% (%.2f%%)\" % (max_score[\"score\"], max_score[\"std\"]))"
   ]
  },
  {
   "cell_type": "code",
   "execution_count": 82,
   "metadata": {},
   "outputs": [
    {
     "data": {
      "image/png": "[encoded data removed]",
      "text/plain": [
       "<Figure size 416.691x257.529 with 1 Axes>"
      ]
     },
     "metadata": {
      "needs_background": "light"
     },
     "output_type": "display_data"
    }
   ],
   "source": [
    "results = { r[\"c\"] : r for r in result }\n",
    "c_values = list(sorted(results.keys()))\n",
    "scores = [ results[c][\"score\"] for c in c_values ]\n",
    "fig = plt.figure(figsize=set_size(width=width))\n",
    "ax = fig.add_subplot(1, 1, 1)\n",
    "line, = ax.plot(c_values, scores, color='k', lw=2)\n",
    "ax.vlines([1e2], min(scores), 62.25, colors='gray', linestyles=\"dotted\")\n",
    "ax.set_xscale('log')\n",
    "ax.set_title(\"Arousal\")\n",
    "ax.set_ylabel(\"Precisione\")\n",
    "ax.set_xlabel(\"coefficiente di regolarizzazione\")\n",
    "plt.show()\n",
    "fig.savefig(\"reg_coef_aro.pdf\", format=\"pdf\", bbox_inches='tight')"
   ]
  },
  {
   "cell_type": "markdown",
   "metadata": {},
   "source": [
    "Create classifier with optimal parameter"
   ]
  },
  {
   "cell_type": "markdown",
   "metadata": {},
   "source": [
    "## KBest Feature selection + SVC"
   ]
  },
  {
   "cell_type": "code",
   "execution_count": 83,
   "metadata": {},
   "outputs": [],
   "source": [
    "# Such a large set of features can cause overfitting and also slow computing\n",
    "# Use feature selection to select the most important features\n",
    "import sklearn.feature_selection\n",
    "from sklearn.metrics import balanced_accuracy_score, roc_auc_score, auc, roc_curve"
   ]
  },
  {
   "cell_type": "code",
   "execution_count": 84,
   "metadata": {
    "scrolled": true
   },
   "outputs": [
    {
     "name": "stdout",
     "output_type": "stream",
     "text": [
      "[LibLinear][LibLinear][LibLinear][LibLinear][LibLinear][LibLinear][LibLinear][LibLinear][LibLinear][LibLinear][LibLinear][LibLinear][LibLinear][LibLinear][LibLinear][LibLinear][LibLinear][LibLinear][LibLinear][LibLinear][LibLinear][LibLinear][LibLinear][LibLinear][LibLinear][LibLinear][LibLinear][LibLinear][LibLinear][LibLinear][LibLinear][LibLinear][LibLinear][LibLinear][LibLinear][LibLinear][LibLinear][LibLinear][LibLinear][LibLinear][LibLinear][LibLinear][LibLinear][LibLinear][LibLinear][LibLinear][LibLinear][LibLinear][LibLinear][LibLinear][LibLinear][LibLinear][LibLinear][LibLinear][LibLinear][LibLinear][LibLinear][LibLinear][LibLinear][LibLinear][LibLinear][LibLinear][LibLinear][LibLinear][LibLinear][LibLinear][LibLinear][LibLinear][LibLinear][LibLinear][LibLinear][LibLinear][LibLinear][LibLinear][LibLinear][LibLinear][LibLinear][LibLinear][LibLinear][LibLinear][LibLinear][LibLinear][LibLinear][LibLinear][LibLinear][LibLinear][LibLinear][LibLinear][LibLinear][LibLinear][LibLinear][LibLinear][LibLinear][LibLinear][LibLinear][LibLinear][LibLinear][LibLinear][LibLinear][LibLinear][LibLinear][LibLinear][LibLinear][LibLinear][LibLinear][LibLinear][LibLinear][LibLinear][LibLinear][LibLinear][LibLinear][LibLinear][LibLinear][LibLinear][LibLinear][LibLinear][LibLinear][LibLinear][LibLinear][LibLinear][LibLinear][LibLinear][LibLinear][LibLinear][LibLinear]"
     ]
    }
   ],
   "source": [
    "scores_by_kbest = []\n",
    "\n",
    "for k in range(1,X.shape[1]+1):\n",
    "\n",
    "    lsvc, stratified_cv = create_classifier(c=1e2) \n",
    "    kbest_selector = sklearn.feature_selection.SelectKBest(k=k)\n",
    "    kbest_selector.fit(X, Y)\n",
    "    \n",
    "    scores_train = []\n",
    "    scores_test = []\n",
    "    \n",
    "    for train_index, test_index in stratified_cv.split(X, Y):\n",
    "        \n",
    "        x_train, y_train = kbest_selector.transform(X)[train_index], Y.iloc[train_index]\n",
    "        x_test, y_test = kbest_selector.transform(X)[test_index], Y.iloc[test_index]\n",
    "        \n",
    "        lsvc.fit(x_train, y_train)\n",
    "        \n",
    "        y_train_pred = lsvc.predict(x_train)\n",
    "        score = balanced_accuracy_score(y_train, y_train_pred)\n",
    "        scores_train.append(score)\n",
    "        \n",
    "        y_test_pred = lsvc.predict(x_test)\n",
    "        score = balanced_accuracy_score(y_test, y_test_pred)\n",
    "        scores_test.append(score)\n",
    "        \n",
    "        fpr, tpr, threshold = roc_curve(y_test, y_test_pred)\n",
    "        roc_auc = auc(fpr, tpr)\n",
    "        \n",
    "        #results = cross_val_score(lsvc, kbest_selector.transform(X), Y, scoring='balanced_accuracy', cv=stratified_cv, verbose=0)\n",
    "    \n",
    "    ks = {\n",
    "        \"feature\"         : X.columns[kbest_selector.get_support()],\n",
    "        \"feature_pvalue\"  : kbest_selector.pvalues_,\n",
    "        \"feature_coeff\"   : lsvc.coef_,\n",
    "        \"score_train\"     : np.array(scores_train).mean(),\n",
    "        \"std_train\"       : np.array(scores_train).std(),\n",
    "        \"score_test\"      : np.array(scores_test).mean(),\n",
    "        \"std_test\"        : np.array(scores_test).std(),\n",
    "        \"fpr\"             : fpr,\n",
    "        \"tpr\"             : tpr,\n",
    "        \"roc_auc\"         : roc_auc\n",
    "    }\n",
    "    \n",
    "    scores_by_kbest.append(ks)"
   ]
  },
  {
   "cell_type": "code",
   "execution_count": 85,
   "metadata": {},
   "outputs": [
    {
     "name": "stdout",
     "output_type": "stream",
     "text": [
      "n: 1 --> score_train: 0.49998 --> score_test: 0.50012 --> roc_auc: 0.50011\n",
      "n: 2 --> score_train: 0.50327 --> score_test: 0.50214 --> roc_auc: 0.50153\n",
      "n: 3 --> score_train: 0.51018 --> score_test: 0.51055 --> roc_auc: 0.51007\n",
      "n: 6 --> score_train: 0.54906 --> score_test: 0.55013 --> roc_auc: 0.54691\n",
      "n: 5 --> score_train: 0.54968 --> score_test: 0.55105 --> roc_auc: 0.54873\n",
      "n: 4 --> score_train: 0.56291 --> score_test: 0.56152 --> roc_auc: 0.55642\n",
      "n: 7 --> score_train: 0.58107 --> score_test: 0.57790 --> roc_auc: 0.57287\n",
      "n: 8 --> score_train: 0.58376 --> score_test: 0.58202 --> roc_auc: 0.57854\n",
      "n: 9 --> score_train: 0.58364 --> score_test: 0.58198 --> roc_auc: 0.57862\n",
      "n: 10 --> score_train: 0.59894 --> score_test: 0.59655 --> roc_auc: 0.59540\n",
      "n: 19 --> score_train: 0.61138 --> score_test: 0.61017 --> roc_auc: 0.60237\n",
      "n: 17 --> score_train: 0.61401 --> score_test: 0.61230 --> roc_auc: 0.60501\n",
      "n: 20 --> score_train: 0.61557 --> score_test: 0.61433 --> roc_auc: 0.60539\n",
      "n: 18 --> score_train: 0.61368 --> score_test: 0.61248 --> roc_auc: 0.60731\n",
      "n: 22 --> score_train: 0.61819 --> score_test: 0.61639 --> roc_auc: 0.60885\n",
      "n: 23 --> score_train: 0.61876 --> score_test: 0.61664 --> roc_auc: 0.60889\n",
      "n: 21 --> score_train: 0.61726 --> score_test: 0.61608 --> roc_auc: 0.60894\n",
      "n: 24 --> score_train: 0.61878 --> score_test: 0.61652 --> roc_auc: 0.60920\n",
      "n: 25 --> score_train: 0.61900 --> score_test: 0.61681 --> roc_auc: 0.61011\n",
      "n: 16 --> score_train: 0.62094 --> score_test: 0.61842 --> roc_auc: 0.61314\n",
      "n: 15 --> score_train: 0.62066 --> score_test: 0.61879 --> roc_auc: 0.61336\n",
      "n: 11 --> score_train: 0.61994 --> score_test: 0.61705 --> roc_auc: 0.61368\n",
      "n: 12 --> score_train: 0.62031 --> score_test: 0.61756 --> roc_auc: 0.61443\n",
      "n: 13 --> score_train: 0.62163 --> score_test: 0.62004 --> roc_auc: 0.61598\n",
      "n: 14 --> score_train: 0.62242 --> score_test: 0.62071 --> roc_auc: 0.61690\n"
     ]
    }
   ],
   "source": [
    "for r in sorted(scores_by_kbest, key=lambda x: x[\"roc_auc\"]):\n",
    "    nfeature, score_train, score_test = len(r[\"feature\"]), r[\"score_train\"], r[\"score_test\"]\n",
    "    roc_auc = r[\"roc_auc\"]\n",
    "    print \"n: {} --> score_train: {:.5f} --> score_test: {:.5f} --> roc_auc: {:.5f}\".format(nfeature, score_train, score_test, roc_auc)"
   ]
  },
  {
   "cell_type": "code",
   "execution_count": 86,
   "metadata": {},
   "outputs": [
    {
     "name": "stdout",
     "output_type": "stream",
     "text": [
      "Optimal number of features : 14\n",
      "Index([u'ECG_mean_diff', u'EDA_mean_diff', u'Resp_std', u'Resp_min',\n",
      "       u'Resp_max', u'Resp_mean_diff', u'Resp_mean_abs_diff', u'SKT_mean',\n",
      "       u'SKT_std', u'SKT_min', u'SKT_max', u'SKT_mean_diff',\n",
      "       u'SKT_mean_abs_diff', u'Pupil'],\n",
      "      dtype='object')\n",
      "[[  0.0833136    0.05639507  -0.45718477  -0.56468467  -0.21989849\n",
      "   -0.04858839   0.94023729 -10.76711967  -1.15064722   3.5009735\n",
      "    7.31937622   0.02609932   4.85656149   0.5230983 ]]\n",
      "\n",
      "roc_auc: 62.07% (0.41%)\n"
     ]
    }
   ],
   "source": [
    "max_score = max(scores_by_kbest, key=lambda x: x[\"roc_auc\"])\n",
    "\n",
    "print(\"Optimal number of features : %d\" % len(max_score[\"feature\"]))\n",
    "print max_score[\"feature\"]\n",
    "print max_score['feature_coeff']\n",
    "\n",
    "print\n",
    "print(\"roc_auc: %.2f%% (%.2f%%)\" % (max_score[\"score_test\"]*100, max_score[\"std_test\"]*100))"
   ]
  },
  {
   "cell_type": "code",
   "execution_count": 87,
   "metadata": {},
   "outputs": [
    {
     "data": {
      "image/png": "[encoded data removed]",
      "text/plain": [
       "<Figure size 416.691x257.529 with 1 Axes>"
      ]
     },
     "metadata": {
      "needs_background": "light"
     },
     "output_type": "display_data"
    }
   ],
   "source": [
    "nfeature = [ len(s[\"feature\"]) for s in scores_by_kbest ]\n",
    "scores = [ s[\"score_test\"] for s in scores_by_kbest ]\n",
    "plt.figure(figsize=set_size(width=width))\n",
    "plt.xlabel(\"Numero di feature selezionate\")\n",
    "plt.ylabel(\"Cross validation score\")\n",
    "plt.plot(nfeature, scores, color='k', lw=2)\n",
    "plt.gca().vlines([len(max_score[\"feature\"])], min(scores), max(scores), colors='gray', linestyles=\"dotted\")\n",
    "plt.show()"
   ]
  },
  {
   "cell_type": "code",
   "execution_count": 88,
   "metadata": {},
   "outputs": [
    {
     "data": {
      "image/png": "[encoded data removed]",
      "text/plain": [
       "<Figure size 416.691x257.529 with 1 Axes>"
      ]
     },
     "metadata": {
      "needs_background": "light"
     },
     "output_type": "display_data"
    }
   ],
   "source": [
    "#from itertools import cycle\n",
    "#lines = [\"-\",\"--\",\"-.\",\":\"]\n",
    "#linecycler = cycle(lines)\n",
    "\n",
    "fig = plt.figure(figsize=set_size(width=width))\n",
    "ax = fig.add_subplot(1,1,1)\n",
    "plt.title('Arousal ROC KBest')\n",
    "plt.plot([0, 1], [0, 1],'--', c='gray')\n",
    "plt.xlim([0, 1])\n",
    "plt.ylim([0, 1])\n",
    "plt.ylabel('Tasso Veri Positivi')\n",
    "plt.xlabel('Tasso Falsi Positivi')\n",
    "for r in scores_by_kbest[24:25]:\n",
    "    n = len(r[\"feature\"])\n",
    "    fpr, tpr, roc_auc = r[\"fpr\"], r[\"tpr\"], r[\"roc_auc\"]\n",
    "    #linestyle = next(linecycler)\n",
    "    ax.plot(fpr, tpr, 'k--', label = 'AUC (%d) = %0.2f' % (n, roc_auc))\n",
    "\n",
    "plt.legend(loc = 'lower right')      \n",
    "plt.show()"
   ]
  },
  {
   "cell_type": "markdown",
   "metadata": {},
   "source": [
    "\n",
    "## Recursive feature selection"
   ]
  },
  {
   "cell_type": "code",
   "execution_count": 104,
   "metadata": {},
   "outputs": [],
   "source": [
    "lsvc, stratified_cv = create_classifier(c=1e2)\n",
    "rfecv = RFECV(estimator=lsvc, step=1, cv=stratified_cv, scoring='accuracy', n_jobs=-1)"
   ]
  },
  {
   "cell_type": "code",
   "execution_count": 105,
   "metadata": {},
   "outputs": [
    {
     "name": "stdout",
     "output_type": "stream",
     "text": [
      "[LibLinear][LibLinear][LibLinear][LibLinear][LibLinear][LibLinear][LibLinear][LibLinear][LibLinear][LibLinear][LibLinear][LibLinear][LibLinear][LibLinear][LibLinear][LibLinear][LibLinear][LibLinear][LibLinear][LibLinear][LibLinear]"
     ]
    },
    {
     "data": {
      "text/plain": [
       "RFECV(cv=StratifiedShuffleSplit(n_splits=5, random_state=7, test_size=0.2,\n",
       "            train_size=None),\n",
       "   estimator=LinearSVC(C=100.0, class_weight='balanced', dual=False, fit_intercept=False,\n",
       "     intercept_scaling=1, loss='squared_hinge', max_iter=1000,\n",
       "     multi_class='ovr', penalty='l2', random_state=None, tol=0.0001,\n",
       "     verbose=True),\n",
       "   min_features_to_select=1, n_jobs=-1, scoring='accuracy', step=1,\n",
       "   verbose=0)"
      ]
     },
     "execution_count": 105,
     "metadata": {},
     "output_type": "execute_result"
    }
   ],
   "source": [
    "rfecv.fit(X, Y)"
   ]
  },
  {
   "cell_type": "code",
   "execution_count": 111,
   "metadata": {},
   "outputs": [
    {
     "name": "stdout",
     "output_type": "stream",
     "text": [
      "6\n",
      "[False False False False False False False False False False False False\n",
      " False False False False False False  True  True  True  True False  True\n",
      "  True]\n",
      "Index([u'SKT_mean', u'SKT_std', u'SKT_min', u'SKT_max', u'SKT_mean_abs_diff',\n",
      "       u'Pupil'],\n",
      "      dtype='object')\n",
      "[ 9  4  8 12 16  3  5 10  6 17 19 11 14 13  2 18 15  7  1  1  1  1 20  1\n",
      "  1]\n",
      "[0.31067961 0.58484223 0.60536408 0.6298665  0.61160194 0.63376214\n",
      " 0.6226699  0.61900485 0.61248786 0.61197816 0.61196602 0.6176335\n",
      " 0.61663835 0.61657767 0.61622573 0.61599515 0.61603155 0.61554612\n",
      " 0.61514563 0.61600728 0.62137136 0.62179612 0.62224515 0.62234223\n",
      " 0.6225    ]\n",
      "{'SKT_max': 0.316061577030247, 'SKT_mean': 0.5383156107254167, 'SKT_mean_abs_diff': 0.10980946476153454, 'Pupil': 0.0005949931151258122, 'SKT_std': 0.007082204872006105, 'SKT_min': 0.02813614949566971}\n"
     ]
    }
   ],
   "source": [
    "print rfecv.n_features_\n",
    "print rfecv.get_support()\n",
    "print X.columns[rfecv.get_support()]\n",
    "print rfecv.ranking_\n",
    "print rfecv.grid_scores_\n",
    "\n",
    "coef = rfecv.estimator_.coef_[0]**2\n",
    "coef = coef / coef.sum()\n",
    "\n",
    "print dict(zip(X.columns[rfecv.get_support()], coef))"
   ]
  },
  {
   "cell_type": "code",
   "execution_count": 107,
   "metadata": {
    "scrolled": true
   },
   "outputs": [
    {
     "name": "stdout",
     "output_type": "stream",
     "text": [
      "Optimal number of features : 6\n",
      "{'SKT_max': 1, 'SKT_mean': 1, 'SKT_mean_abs_diff': 1, 'Pupil': 1, 'SKT_std': 1, 'SKT_min': 1}\n",
      "\n",
      "Accuracy: 63.38% (0.00%)\n"
     ]
    }
   ],
   "source": [
    "print(\"Optimal number of features : %d\" % rfecv.n_features_)\n",
    "print { X.columns[support] : rfecv.ranking_[support] for support in rfecv.get_support(indices=1) }\n",
    "\n",
    "\n",
    "print\n",
    "print(\"Accuracy: %.2f%% (%.2f%%)\" % (rfecv.grid_scores_[rfecv.n_features_ - 1]*100, 0))"
   ]
  },
  {
   "cell_type": "code",
   "execution_count": 108,
   "metadata": {},
   "outputs": [
    {
     "data": {
      "image/png": "[encoded data removed]",
      "text/plain": [
       "<Figure size 416.691x257.529 with 1 Axes>"
      ]
     },
     "metadata": {
      "needs_background": "light"
     },
     "output_type": "display_data"
    }
   ],
   "source": [
    "# Plot number of features VS. cross-validation scores\n",
    "nfeature = range(1, X.shape[1]+1)\n",
    "fig = plt.figure(figsize=set_size(width=width))\n",
    "ax = fig.add_subplot(1, 1, 1)\n",
    "ax.set_title(\"Arousal\")\n",
    "ax.set_xlabel(\"Numero di feature selezionate\")\n",
    "ax.set_ylabel(\"Cross validation score\")\n",
    "ax.plot(nfeature, rfecv.grid_scores_, color='K', lw=2)\n",
    "ax.vlines([rfecv.n_features_], min(rfecv.grid_scores_), max(rfecv.grid_scores_), colors='gray', linestyles=\"dotted\")\n",
    "fig.show()\n",
    "fig.savefig(\"rfecv_aro.pdf\", format=\"pdf\", bbox_inches='tight')"
   ]
  },
  {
   "cell_type": "code",
   "execution_count": 109,
   "metadata": {},
   "outputs": [
    {
     "name": "stdout",
     "output_type": "stream",
     "text": [
      "[LibLinear][LibLinear][LibLinear][LibLinear][LibLinear]"
     ]
    }
   ],
   "source": [
    "from sklearn.metrics import average_precision_score\n",
    "# GENERATE ROC FOR RFECV\n",
    "lsvc, stratified_cv = create_classifier(c=1e2) \n",
    "scores_train = []\n",
    "scores_test = []\n",
    "for train_index, test_index in stratified_cv.split(X, Y):\n",
    "\n",
    "    x_train, y_train = rfecv.transform(X)[train_index], Y.iloc[train_index]\n",
    "    x_test, y_test = rfecv.transform(X)[test_index], Y.iloc[test_index]\n",
    "\n",
    "    lsvc.fit(x_train, y_train)\n",
    "\n",
    "    y_train_pred = lsvc.predict(x_train)\n",
    "    score = balanced_accuracy_score(y_train, y_train_pred)\n",
    "    scores_train.append(score)\n",
    "\n",
    "    y_test_pred = lsvc.predict(x_test)\n",
    "    score = balanced_accuracy_score(y_test, y_test_pred)\n",
    "    scores_test.append(score)\n",
    "\n",
    "    fpr, tpr, threshold = roc_curve(y_test, y_test_pred)\n",
    "    roc_auc = auc(fpr, tpr)\n",
    "    \n",
    "    y_test_pred = lsvc.decision_function(x_test)\n",
    "    pre_rec = average_precision_score(y_test, y_test_pred)\n",
    "    \n",
    "    r = {\n",
    "        \"feature\"         : X.columns[rfecv.get_support()],\n",
    "        \"score_train\"     : np.array(scores_train).mean(),\n",
    "        \"std_train\"       : np.array(scores_train).std(),\n",
    "        \"score_test\"      : np.array(scores_test).mean(),\n",
    "        \"std_test\"        : np.array(scores_test).std(),\n",
    "        \"fpr\"             : fpr,\n",
    "        \"tpr\"             : tpr,\n",
    "        \"roc_auc\"         : roc_auc,\n",
    "        \"pre_rec\"         : pre_rec\n",
    "    }"
   ]
  },
  {
   "cell_type": "code",
   "execution_count": 110,
   "metadata": {},
   "outputs": [
    {
     "data": {
      "image/png": "[encoded data removed]",
      "text/plain": [
       "<Figure size 416.691x257.529 with 1 Axes>"
      ]
     },
     "metadata": {
      "needs_background": "light"
     },
     "output_type": "display_data"
    }
   ],
   "source": [
    "## PLOT ROC CURVE FOR KBEST AND RFECV\n",
    "\n",
    "fig = plt.figure(figsize=set_size(width=width))\n",
    "ax = fig.add_subplot(1,1,1)\n",
    "plt.title('Arousal Feature Seletion ROC')\n",
    "plt.plot([0, 1], [0, 1],'--', c='gray')\n",
    "plt.xlim([0, 1])\n",
    "plt.ylim([0, 1])\n",
    "plt.ylabel('Tasso Veri Positivi')\n",
    "plt.xlabel('Tasso Falsi Positivi')\n",
    "\n",
    "n = len(r[\"feature\"])\n",
    "fpr, tpr, roc_auc = r[\"fpr\"], r[\"tpr\"], r[\"roc_auc\"]\n",
    "ax.plot(fpr, tpr, 'k-', label = 'AUC (%d) = %0.2f' % (n, roc_auc))\n",
    "\n",
    "plt.legend(loc = 'lower right')      \n",
    "plt.show()"
   ]
  }
 ],
 "metadata": {
  "kernelspec": {
   "display_name": "Python 2",
   "language": "python",
   "name": "python2"
  },
  "language_info": {
   "codemirror_mode": {
    "name": "ipython",
    "version": 2
   },
   "file_extension": ".py",
   "mimetype": "text/x-python",
   "name": "python",
   "nbconvert_exporter": "python",
   "pygments_lexer": "ipython2",
   "version": "2.7.15"
  }
 },
 "nbformat": 4,
 "nbformat_minor": 2
}
