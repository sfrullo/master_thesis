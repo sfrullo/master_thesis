{
 "cells": [
  {
   "cell_type": "code",
   "execution_count": 2,
   "metadata": {},
   "outputs": [],
   "source": [
    "import numpy as np\n",
    "import matplotlib.pyplot as plt\n",
    "import pandas as pd\n",
    "\n",
    "from sklearn.svm import LinearSVC, SVC\n",
    "from sklearn.feature_selection import RFECV\n",
    "\n",
    "from sklearn.model_selection import StratifiedKFold, StratifiedShuffleSplit\n",
    "from sklearn.model_selection import cross_val_score\n",
    "\n",
    "# fix random seed for reproducibility\n",
    "seed = 7\n",
    "np.random.seed(seed)"
   ]
  },
  {
   "cell_type": "code",
   "execution_count": 3,
   "metadata": {},
   "outputs": [],
   "source": [
    "# Using seaborn's style\n",
    "nice_fonts = {\n",
    "        # Use LaTeX to write all text\n",
    "        \"text.usetex\": False,\n",
    "        \"font.family\": \"serif\",\n",
    "        # Use 10pt font in plots, to match 10pt font in document\n",
    "        \"axes.labelsize\": 10,\n",
    "        \"font.size\": 10,\n",
    "        # Make the legend/label fonts a little smaller\n",
    "        \"legend.fontsize\": 8,\n",
    "        \"xtick.labelsize\": 8,\n",
    "        \"ytick.labelsize\": 8,\n",
    "}\n",
    "\n",
    "plt.rcParams.update(nice_fonts)\n",
    "\n",
    "def set_size(width, fraction=1):\n",
    "    \"\"\" Set aesthetic figure dimensions to avoid scaling in latex.\n",
    "\n",
    "    Parameters\n",
    "    ----------\n",
    "    width: float\n",
    "            Width in pts\n",
    "    fraction: float\n",
    "            Fraction of the width which you wish the figure to occupy\n",
    "\n",
    "    Returns\n",
    "    -------\n",
    "    fig_dim: tuple\n",
    "            Dimensions of figure in inches\n",
    "    \"\"\"\n",
    "    # Width of figure\n",
    "    fig_width_pt = width * fraction\n",
    "\n",
    "    # Convert from pt to inches\n",
    "    inches_per_pt = 1 / 72.27\n",
    "\n",
    "    # Golden ratio to set aesthetic figure height\n",
    "    golden_ratio = (5**.5 - 1) / 2\n",
    "\n",
    "    # Figure width in inches\n",
    "    fig_width_in = fig_width_pt * inches_per_pt\n",
    "    # Figure height in inches\n",
    "    fig_height_in = fig_width_in * golden_ratio\n",
    "\n",
    "    fig_dim = (fig_width_in, fig_height_in)\n",
    "\n",
    "    return fig_dim\n",
    "\n",
    "width = 418.25368"
   ]
  },
  {
   "cell_type": "markdown",
   "metadata": {},
   "source": [
    "## Load data"
   ]
  },
  {
   "cell_type": "code",
   "execution_count": 4,
   "metadata": {
    "scrolled": true
   },
   "outputs": [],
   "source": [
    "def get_data():\n",
    "    columns = np.load(\"data_columns.npy\")\n",
    "    X = np.load(\"data_valence_physio_with_pupil_for_svm_only_valid_session.npy\")\n",
    "    Y = np.load(\"data_arousal_label_with_pupil_for_svm_only_valid_session.npy\")\n",
    "    return pd.DataFrame(X, columns=columns), pd.DataFrame(Y)"
   ]
  },
  {
   "cell_type": "code",
   "execution_count": 6,
   "metadata": {},
   "outputs": [
    {
     "name": "stdout",
     "output_type": "stream",
     "text": [
      "(82400, 25)\n",
      "(82400, 1)\n"
     ]
    }
   ],
   "source": [
    "X, Y = get_data()\n",
    "#X = X.drop([\"SKT_mean_abs_diff\", \"SKT_std\"], axis=1)\n",
    "print X.shape\n",
    "print Y.shape"
   ]
  },
  {
   "cell_type": "code",
   "execution_count": 7,
   "metadata": {},
   "outputs": [
    {
     "data": {
      "text/plain": [
       "array([[<matplotlib.axes._subplots.AxesSubplot object at 0x7f2cc9852690>]],\n",
       "      dtype=object)"
      ]
     },
     "execution_count": 7,
     "metadata": {},
     "output_type": "execute_result"
    },
    {
     "data": {
      "image/png": "[encoded data removed]",
      "text/plain": [
       "<Figure size 432x288 with 1 Axes>"
      ]
     },
     "metadata": {
      "needs_background": "light"
     },
     "output_type": "display_data"
    }
   ],
   "source": [
    "# binarize the problem\n",
    "Y[Y<=4] = 0\n",
    "Y[Y>=5] = 1\n",
    "Y.hist(bins=2)"
   ]
  },
  {
   "cell_type": "markdown",
   "metadata": {},
   "source": [
    "## LinearSVC"
   ]
  },
  {
   "cell_type": "markdown",
   "metadata": {},
   "source": [
    "### Search for optimal C parameter"
   ]
  },
  {
   "cell_type": "code",
   "execution_count": 8,
   "metadata": {},
   "outputs": [],
   "source": [
    "def create_classifier(c=1):\n",
    "    lsvc = LinearSVC(C=c, tol=1e-4, dual=False, fit_intercept=False, class_weight='balanced', verbose=True)\n",
    "    # evaluate using 5-fold cross validation\n",
    "    #stratified_cv = StratifiedKFold(n_splits=5, shuffle=True, random_state=seed)\n",
    "    stratified_cv = StratifiedShuffleSplit(n_splits=5, test_size=.2, random_state=seed)\n",
    "    return lsvc, stratified_cv"
   ]
  },
  {
   "cell_type": "code",
   "execution_count": 9,
   "metadata": {
    "scrolled": true
   },
   "outputs": [
    {
     "name": "stdout",
     "output_type": "stream",
     "text": [
      "[LibLinear][LibLinear][LibLinear][LibLinear][LibLinear][LibLinear][LibLinear][LibLinear][LibLinear][LibLinear][LibLinear][LibLinear][LibLinear][LibLinear][LibLinear][LibLinear][LibLinear][LibLinear][LibLinear][LibLinear][LibLinear][LibLinear][LibLinear][LibLinear][LibLinear][LibLinear][LibLinear][LibLinear][LibLinear][LibLinear][LibLinear][LibLinear][LibLinear][LibLinear][LibLinear][LibLinear][LibLinear][LibLinear][LibLinear][LibLinear][LibLinear][LibLinear][LibLinear][LibLinear][LibLinear][LibLinear][LibLinear][LibLinear][LibLinear][LibLinear]"
     ]
    }
   ],
   "source": [
    "result = []\n",
    "\n",
    "for i in range(5,-5,-1):\n",
    "    c = 1*10**i\n",
    "    lsvc, stratified_cv = create_classifier(c=c)\n",
    "    results = cross_val_score(lsvc, X, Y.values.ravel(), cv=stratified_cv, scoring='balanced_accuracy', verbose=0)\n",
    "    result.append({ \"c\": c, \"score\" : results.mean()*100, \"std\" : results.std()*100})"
   ]
  },
  {
   "cell_type": "code",
   "execution_count": 10,
   "metadata": {},
   "outputs": [
    {
     "name": "stdout",
     "output_type": "stream",
     "text": [
      "c: 1e-04 --> score: 58.298278\n",
      "c: 1e-03 --> score: 60.501183\n",
      "c: 1e-02 --> score: 62.602140\n",
      "c: 1e-01 --> score: 63.926331\n",
      "c: 1e+00 --> score: 64.617463\n",
      "c: 1e+01 --> score: 64.768568\n",
      "c: 1e+05 --> score: 64.784496\n",
      "c: 1e+03 --> score: 64.787137\n",
      "c: 1e+04 --> score: 64.787329\n",
      "c: 1e+02 --> score: 64.788897\n",
      "\n",
      "optimal value: 1e+02\n",
      "Accuracy: 64.79% (0.26%)\n"
     ]
    }
   ],
   "source": [
    "for r in sorted(result, key=lambda x: x[\"score\"]):\n",
    "    print \"c: {:.0e} --> score: {:f}\".format(r[\"c\"], r[\"score\"])\n",
    "\n",
    "max_score = max(result, key=lambda x: x[\"score\"])\n",
    "\n",
    "print\n",
    "print \"optimal value: {:.0e}\".format(max_score[\"c\"])\n",
    "print(\"Accuracy: %.2f%% (%.2f%%)\" % (max_score[\"score\"], max_score[\"std\"]))"
   ]
  },
  {
   "cell_type": "code",
   "execution_count": 46,
   "metadata": {},
   "outputs": [
    {
     "data": {
      "image/png": "[encoded data removed]",
      "text/plain": [
       "<Figure size 416.691x257.529 with 1 Axes>"
      ]
     },
     "metadata": {
      "needs_background": "light"
     },
     "output_type": "display_data"
    }
   ],
   "source": [
    "results = { r[\"c\"] : r for r in result }\n",
    "c_values = list(sorted(results.keys()))\n",
    "scores = [ results[c][\"score\"] for c in c_values ]\n",
    "fig = plt.figure(figsize=set_size(width=width))\n",
    "ax = fig.add_subplot(1, 1, 1)\n",
    "line, = ax.plot(c_values, scores, color='k', lw=2)\n",
    "ax.vlines([1], min(scores), max(scores), colors='gray', linestyles=\"dotted\")\n",
    "ax.set_xscale('log')\n",
    "ax.set_title(\"Arousal\")\n",
    "ax.set_ylabel(\"Precisione\")\n",
    "ax.set_xlabel(\"coefficiente di regolarizzazione\")\n",
    "plt.show()\n",
    "fig.savefig(\"reg_coef_aro.pdf\", format=\"pdf\", bbox_inches='tight')"
   ]
  },
  {
   "cell_type": "markdown",
   "metadata": {},
   "source": [
    "Create classifier with optimal parameter"
   ]
  },
  {
   "cell_type": "markdown",
   "metadata": {},
   "source": [
    "## KBest Feature selection + SVC"
   ]
  },
  {
   "cell_type": "code",
   "execution_count": 12,
   "metadata": {},
   "outputs": [],
   "source": [
    "# Such a large set of features can cause overfitting and also slow computing\n",
    "# Use feature selection to select the most important features\n",
    "import sklearn.feature_selection\n",
    "from sklearn.metrics import balanced_accuracy_score, roc_auc_score, auc, roc_curve"
   ]
  },
  {
   "cell_type": "code",
   "execution_count": 13,
   "metadata": {
    "scrolled": true
   },
   "outputs": [
    {
     "name": "stderr",
     "output_type": "stream",
     "text": [
      "/opt/conda/envs/python2/lib/python2.7/site-packages/sklearn/utils/validation.py:761: DataConversionWarning: A column-vector y was passed when a 1d array was expected. Please change the shape of y to (n_samples, ), for example using ravel().\n",
      "  y = column_or_1d(y, warn=True)\n"
     ]
    },
    {
     "name": "stdout",
     "output_type": "stream",
     "text": [
      "[LibLinear][LibLinear][LibLinear][LibLinear][LibLinear][LibLinear][LibLinear][LibLinear][LibLinear][LibLinear][LibLinear][LibLinear][LibLinear][LibLinear][LibLinear][LibLinear][LibLinear][LibLinear][LibLinear][LibLinear][LibLinear][LibLinear][LibLinear][LibLinear][LibLinear][LibLinear][LibLinear][LibLinear][LibLinear][LibLinear][LibLinear][LibLinear][LibLinear][LibLinear][LibLinear][LibLinear][LibLinear][LibLinear][LibLinear][LibLinear][LibLinear][LibLinear][LibLinear][LibLinear][LibLinear][LibLinear][LibLinear][LibLinear][LibLinear][LibLinear][LibLinear][LibLinear][LibLinear][LibLinear][LibLinear][LibLinear][LibLinear][LibLinear][LibLinear][LibLinear][LibLinear][LibLinear][LibLinear][LibLinear][LibLinear][LibLinear][LibLinear][LibLinear][LibLinear][LibLinear][LibLinear][LibLinear][LibLinear][LibLinear][LibLinear][LibLinear][LibLinear][LibLinear][LibLinear][LibLinear][LibLinear][LibLinear][LibLinear][LibLinear][LibLinear][LibLinear][LibLinear][LibLinear][LibLinear][LibLinear][LibLinear][LibLinear][LibLinear][LibLinear][LibLinear][LibLinear][LibLinear][LibLinear][LibLinear][LibLinear][LibLinear][LibLinear][LibLinear][LibLinear][LibLinear][LibLinear][LibLinear][LibLinear][LibLinear][LibLinear][LibLinear][LibLinear][LibLinear][LibLinear][LibLinear][LibLinear][LibLinear][LibLinear][LibLinear][LibLinear][LibLinear][LibLinear][LibLinear][LibLinear][LibLinear]"
     ]
    }
   ],
   "source": [
    "scores_by_kbest = []\n",
    "\n",
    "for k in range(1,X.shape[1]+1):\n",
    "\n",
    "    lsvc, stratified_cv = create_classifier(c=1e2) \n",
    "    kbest_selector = sklearn.feature_selection.SelectKBest(k=k)\n",
    "    kbest_selector.fit(X, Y)\n",
    "    \n",
    "    scores_train = []\n",
    "    scores_test = []\n",
    "    \n",
    "    for train_index, test_index in stratified_cv.split(X, Y):\n",
    "        \n",
    "        x_train, y_train = kbest_selector.transform(X)[train_index], Y.iloc[train_index]\n",
    "        x_test, y_test = kbest_selector.transform(X)[test_index], Y.iloc[test_index]\n",
    "        \n",
    "        lsvc.fit(x_train, y_train)\n",
    "        \n",
    "        y_train_pred = lsvc.predict(x_train)\n",
    "        score = balanced_accuracy_score(y_train, y_train_pred)\n",
    "        scores_train.append(score)\n",
    "        \n",
    "        y_test_pred = lsvc.predict(x_test)\n",
    "        score = balanced_accuracy_score(y_test, y_test_pred)\n",
    "        scores_test.append(score)\n",
    "        \n",
    "        fpr, tpr, threshold = roc_curve(y_test, y_test_pred)\n",
    "        roc_auc = auc(fpr, tpr)\n",
    "        \n",
    "        #results = cross_val_score(lsvc, kbest_selector.transform(X), Y, scoring='balanced_accuracy', cv=stratified_cv, verbose=0)\n",
    "    \n",
    "    ks = {\n",
    "        \"feature\"         : X.columns[kbest_selector.get_support()],\n",
    "        \"feature_pvalue\"  : kbest_selector.pvalues_,\n",
    "        \"feature_coeff\"   : lsvc.coef_,\n",
    "        \"score_train\"     : np.array(scores_train).mean(),\n",
    "        \"std_train\"       : np.array(scores_train).std(),\n",
    "        \"score_test\"      : np.array(scores_test).mean(),\n",
    "        \"std_test\"        : np.array(scores_test).std(),\n",
    "        \"fpr\"             : fpr,\n",
    "        \"tpr\"             : tpr,\n",
    "        \"roc_auc\"         : roc_auc\n",
    "    }\n",
    "    \n",
    "    scores_by_kbest.append(ks)"
   ]
  },
  {
   "cell_type": "code",
   "execution_count": 14,
   "metadata": {},
   "outputs": [
    {
     "name": "stdout",
     "output_type": "stream",
     "text": [
      "n: 1 --> score_train: 0.49998 --> score_test: 0.50012 --> roc_auc: 0.50011\n",
      "n: 2 --> score_train: 0.50327 --> score_test: 0.50214 --> roc_auc: 0.50153\n",
      "n: 3 --> score_train: 0.51018 --> score_test: 0.51055 --> roc_auc: 0.51007\n",
      "n: 5 --> score_train: 0.54986 --> score_test: 0.55051 --> roc_auc: 0.54675\n",
      "n: 6 --> score_train: 0.54890 --> score_test: 0.55001 --> roc_auc: 0.54796\n",
      "n: 4 --> score_train: 0.56291 --> score_test: 0.56152 --> roc_auc: 0.55642\n",
      "n: 7 --> score_train: 0.58092 --> score_test: 0.57591 --> roc_auc: 0.57311\n",
      "n: 9 --> score_train: 0.58315 --> score_test: 0.57858 --> roc_auc: 0.57408\n",
      "n: 8 --> score_train: 0.58338 --> score_test: 0.58045 --> roc_auc: 0.57528\n",
      "n: 10 --> score_train: 0.61770 --> score_test: 0.61535 --> roc_auc: 0.61149\n",
      "n: 13 --> score_train: 0.62655 --> score_test: 0.62545 --> roc_auc: 0.62124\n",
      "n: 11 --> score_train: 0.62705 --> score_test: 0.62546 --> roc_auc: 0.62249\n",
      "n: 12 --> score_train: 0.62771 --> score_test: 0.62517 --> roc_auc: 0.62268\n",
      "n: 17 --> score_train: 0.62886 --> score_test: 0.62655 --> roc_auc: 0.62579\n",
      "n: 18 --> score_train: 0.62823 --> score_test: 0.62617 --> roc_auc: 0.62623\n",
      "n: 15 --> score_train: 0.62466 --> score_test: 0.62267 --> roc_auc: 0.62693\n",
      "n: 14 --> score_train: 0.62460 --> score_test: 0.62278 --> roc_auc: 0.62707\n",
      "n: 16 --> score_train: 0.62898 --> score_test: 0.62636 --> roc_auc: 0.62804\n",
      "n: 20 --> score_train: 0.63122 --> score_test: 0.62903 --> roc_auc: 0.62872\n",
      "n: 22 --> score_train: 0.63165 --> score_test: 0.62915 --> roc_auc: 0.62980\n",
      "n: 23 --> score_train: 0.63185 --> score_test: 0.62982 --> roc_auc: 0.63056\n",
      "n: 21 --> score_train: 0.63449 --> score_test: 0.63284 --> roc_auc: 0.63241\n",
      "n: 19 --> score_train: 0.63495 --> score_test: 0.63340 --> roc_auc: 0.63378\n",
      "n: 25 --> score_train: 0.65155 --> score_test: 0.64789 --> roc_auc: 0.64747\n",
      "n: 24 --> score_train: 0.65020 --> score_test: 0.64802 --> roc_auc: 0.64896\n"
     ]
    }
   ],
   "source": [
    "for r in sorted(scores_by_kbest, key=lambda x: x[\"roc_auc\"]):\n",
    "    nfeature, score_train, score_test = len(r[\"feature\"]), r[\"score_train\"], r[\"score_test\"]\n",
    "    roc_auc = r[\"roc_auc\"]\n",
    "    print \"n: {} --> score_train: {:.5f} --> score_test: {:.5f} --> roc_auc: {:.5f}\".format(nfeature, score_train, score_test, roc_auc)"
   ]
  },
  {
   "cell_type": "code",
   "execution_count": 15,
   "metadata": {},
   "outputs": [
    {
     "name": "stdout",
     "output_type": "stream",
     "text": [
      "Optimal number of features : 24\n",
      "Index([u'ECG_mean', u'ECG_std', u'ECG_min', u'ECG_max', u'ECG_mean_diff',\n",
      "       u'ECG_mean_abs_diff', u'EDA_mean', u'EDA_std', u'EDA_min', u'EDA_max',\n",
      "       u'EDA_mean_diff', u'EDA_mean_abs_diff', u'Resp_mean', u'Resp_std',\n",
      "       u'Resp_min', u'Resp_max', u'Resp_mean_abs_diff', u'SKT_mean',\n",
      "       u'SKT_std', u'SKT_min', u'SKT_max', u'SKT_mean_diff',\n",
      "       u'SKT_mean_abs_diff', u'Pupil'],\n",
      "      dtype='object')\n",
      "[[ 3.74718568e-01  1.44463301e+00 -2.11159666e-01 -6.84410087e-02\n",
      "  -2.36310317e-01 -1.63174243e+00 -1.25240206e+01  6.37435530e+00\n",
      "   8.68970152e+00  4.22491658e+00  1.20725000e-02 -6.01979125e+00\n",
      "   6.18638021e-01 -1.04774129e-01 -1.02319526e+00  5.08434712e-02\n",
      "   3.31277919e-01 -1.15335487e+01 -1.67491923e+00  2.60306519e+00\n",
      "   8.87605365e+00  5.03596541e-02  5.93234110e+00  2.77367169e-01]]\n",
      "\n",
      "roc_auc: 64.80% (0.15%)\n"
     ]
    }
   ],
   "source": [
    "max_score = max(scores_by_kbest, key=lambda x: x[\"roc_auc\"])\n",
    "\n",
    "print(\"Optimal number of features : %d\" % len(max_score[\"feature\"]))\n",
    "print max_score[\"feature\"]\n",
    "print max_score['feature_coeff']\n",
    "\n",
    "print\n",
    "print(\"roc_auc: %.2f%% (%.2f%%)\" % (max_score[\"score_test\"]*100, max_score[\"std_test\"]*100))"
   ]
  },
  {
   "cell_type": "code",
   "execution_count": 45,
   "metadata": {},
   "outputs": [
    {
     "data": {
      "image/png": "[encoded data removed]",
      "text/plain": [
       "<Figure size 416.691x257.529 with 1 Axes>"
      ]
     },
     "metadata": {
      "needs_background": "light"
     },
     "output_type": "display_data"
    }
   ],
   "source": [
    "nfeature = [ len(s[\"feature\"]) for s in scores_by_kbest ]\n",
    "scores = [ s[\"score_test\"] for s in scores_by_kbest ]\n",
    "plt.figure(figsize=set_size(width=width))\n",
    "plt.xlabel(\"Numero di feature selezionate\")\n",
    "plt.ylabel(\"Cross validation score\")\n",
    "plt.plot(nfeature, scores, color='k', lw=2)\n",
    "plt.gca().vlines([len(max_score[\"feature\"])], min(scores), max(scores), colors='gray', linestyles=\"dotted\")\n",
    "plt.show()"
   ]
  },
  {
   "cell_type": "code",
   "execution_count": 44,
   "metadata": {},
   "outputs": [
    {
     "data": {
      "image/png": "[encoded data removed]",
      "text/plain": [
       "<Figure size 416.691x257.529 with 1 Axes>"
      ]
     },
     "metadata": {
      "needs_background": "light"
     },
     "output_type": "display_data"
    }
   ],
   "source": [
    "#from itertools import cycle\n",
    "#lines = [\"-\",\"--\",\"-.\",\":\"]\n",
    "#linecycler = cycle(lines)\n",
    "\n",
    "fig = plt.figure(figsize=set_size(width=width))\n",
    "ax = fig.add_subplot(1,1,1)\n",
    "plt.title('Arousal ROC KBest')\n",
    "plt.plot([0, 1], [0, 1],'--', c='gray')\n",
    "plt.xlim([0, 1])\n",
    "plt.ylim([0, 1])\n",
    "plt.ylabel('Tasso Veri Positivi')\n",
    "plt.xlabel('Tasso Falsi Positivi')\n",
    "for r in scores_by_kbest[24:25]:\n",
    "    n = len(r[\"feature\"])\n",
    "    fpr, tpr, roc_auc = r[\"fpr\"], r[\"tpr\"], r[\"roc_auc\"]\n",
    "    #linestyle = next(linecycler)\n",
    "    ax.plot(fpr, tpr, 'k--', label = 'AUC (%d) = %0.2f' % (n, roc_auc))\n",
    "\n",
    "plt.legend(loc = 'lower right')      \n",
    "plt.show()"
   ]
  },
  {
   "cell_type": "markdown",
   "metadata": {},
   "source": [
    "\n",
    "## Recursive feature selection"
   ]
  },
  {
   "cell_type": "code",
   "execution_count": 18,
   "metadata": {},
   "outputs": [],
   "source": [
    "lsvc, stratified_cv = create_classifier(c=1e2)\n",
    "rfecv = RFECV(estimator=lsvc, step=1, cv=stratified_cv, scoring='balanced_accuracy', n_jobs=-1)"
   ]
  },
  {
   "cell_type": "code",
   "execution_count": 19,
   "metadata": {},
   "outputs": [
    {
     "name": "stdout",
     "output_type": "stream",
     "text": [
      "[LibLinear][LibLinear][LibLinear][LibLinear][LibLinear][LibLinear]"
     ]
    },
    {
     "data": {
      "text/plain": [
       "RFECV(cv=StratifiedShuffleSplit(n_splits=5, random_state=7, test_size=0.2,\n",
       "            train_size=None),\n",
       "   estimator=LinearSVC(C=100.0, class_weight='balanced', dual=False, fit_intercept=False,\n",
       "     intercept_scaling=1, loss='squared_hinge', max_iter=1000,\n",
       "     multi_class='ovr', penalty='l2', random_state=None, tol=0.0001,\n",
       "     verbose=True),\n",
       "   min_features_to_select=1, n_jobs=-1, scoring='balanced_accuracy',\n",
       "   step=1, verbose=0)"
      ]
     },
     "execution_count": 19,
     "metadata": {},
     "output_type": "execute_result"
    }
   ],
   "source": [
    "rfecv.fit(X, Y)"
   ]
  },
  {
   "cell_type": "code",
   "execution_count": 20,
   "metadata": {},
   "outputs": [
    {
     "name": "stdout",
     "output_type": "stream",
     "text": [
      "21\n",
      "[ True  True  True False  True  True  True  True  True  True False  True\n",
      "  True False  True  True  True  True  True  True  True  True False  True\n",
      "  True]\n",
      "Index([u'ECG_mean', u'ECG_std', u'ECG_min', u'ECG_mean_diff',\n",
      "       u'ECG_mean_abs_diff', u'EDA_mean', u'EDA_std', u'EDA_min', u'EDA_max',\n",
      "       u'EDA_mean_abs_diff', u'Resp_mean', u'Resp_min', u'Resp_max',\n",
      "       u'Resp_mean_diff', u'Resp_mean_abs_diff', u'SKT_mean', u'SKT_std',\n",
      "       u'SKT_min', u'SKT_max', u'SKT_mean_abs_diff', u'Pupil'],\n",
      "      dtype='object')\n",
      "[1 1 1 4 1 1 1 1 1 1 5 1 1 2 1 1 1 1 1 1 1 1 3 1 1]\n",
      "[0.5        0.59842485 0.60703813 0.61706894 0.62179302 0.62924406\n",
      " 0.63578208 0.63838963 0.64323724 0.64288182 0.63886361 0.64408918\n",
      " 0.64386856 0.64583434 0.64380942 0.65005694 0.64818139 0.6485888\n",
      " 0.64799351 0.64920197 0.65012517 0.64880667 0.64834892 0.64826502\n",
      " 0.64788897]\n",
      "[[  0.25734639   1.46119092  -0.14871274  -0.17355284  -1.66837525\n",
      "  -12.87303979   6.19911986   8.79555328   4.46880477  -5.86678024\n",
      "    0.39490704  -0.72242769   0.06876641  -0.20138692   0.35520715\n",
      "  -11.74700591  -1.63823631   2.74721045   8.93663973   5.85914011\n",
      "    0.31482215]]\n"
     ]
    }
   ],
   "source": [
    "print rfecv.n_features_\n",
    "print rfecv.get_support()\n",
    "print X.columns[rfecv.get_support()]\n",
    "print rfecv.ranking_\n",
    "print rfecv.grid_scores_\n",
    "print rfecv.estimator_.coef_"
   ]
  },
  {
   "cell_type": "code",
   "execution_count": 21,
   "metadata": {},
   "outputs": [
    {
     "name": "stdout",
     "output_type": "stream",
     "text": [
      "[('Resp_mean', 0.0009181313883094536), ('ECG_min', 0.0019855308564706124), ('ECG_max', 0.0023171822420858454), ('Resp_std', 0.002688807600921281), ('ECG_mean', 0.003435947784077022), ('SKT_max', 0.00420333255286016), ('Resp_min', 0.004742530853476951), ('EDA_mean_diff', 0.005272582078906494), ('EDA_mean_abs_diff', 0.00964545796852378), ('ECG_std', 0.019509019119034472), ('Resp_mean_abs_diff', 0.02187283189050024), ('ECG_mean_diff', 0.022275230532693268), ('SKT_mean', 0.03667924596802952), ('EDA_min', 0.05966502825551385), ('SKT_min', 0.07822802257838406), ('EDA_max', 0.07833002942405486), ('EDA_mean', 0.08276724553427814), ('EDA_std', 0.11743339935251362), ('SKT_std', 0.11931710817145574), ('Resp_max', 0.15683957483750396), ('ECG_mean_abs_diff', 0.17187376101040663)]\n",
      "{'ECG_max': 0.0023171822420858454,\n",
      " 'ECG_mean': 0.003435947784077022,\n",
      " 'ECG_mean_abs_diff': 0.17187376101040663,\n",
      " 'ECG_mean_diff': 0.022275230532693268,\n",
      " 'ECG_min': 0.0019855308564706124,\n",
      " 'ECG_std': 0.019509019119034472,\n",
      " 'EDA_max': 0.07833002942405486,\n",
      " 'EDA_mean': 0.08276724553427814,\n",
      " 'EDA_mean_abs_diff': 0.00964545796852378,\n",
      " 'EDA_mean_diff': 0.005272582078906494,\n",
      " 'EDA_min': 0.05966502825551385,\n",
      " 'EDA_std': 0.11743339935251362,\n",
      " 'Resp_max': 0.15683957483750396,\n",
      " 'Resp_mean': 0.0009181313883094536,\n",
      " 'Resp_mean_abs_diff': 0.02187283189050024,\n",
      " 'Resp_min': 0.004742530853476951,\n",
      " 'Resp_std': 0.002688807600921281,\n",
      " 'SKT_max': 0.00420333255286016,\n",
      " 'SKT_mean': 0.03667924596802952,\n",
      " 'SKT_min': 0.07822802257838406,\n",
      " 'SKT_std': 0.11931710817145574}\n"
     ]
    }
   ],
   "source": [
    "from pprint import pprint\n",
    "features = X.columns[rfecv.get_support()]\n",
    "coef_norm = np.abs(rfecv.estimator_.coef_)[0]\n",
    "#coef_norm = (coef_norm - coef_norm.min()) / (coef_norm.max() - coef_norm.min())\n",
    "coef_norm = coef_norm / coef_norm.sum()\n",
    "feature_rank = zip(max_score[\"feature\"], coef_norm)\n",
    "print sorted(feature_rank, key=lambda x: x[1])\n",
    "feature_rank = dict(feature_rank)\n",
    "pprint(feature_rank)"
   ]
  },
  {
   "cell_type": "code",
   "execution_count": 22,
   "metadata": {
    "scrolled": true
   },
   "outputs": [
    {
     "name": "stdout",
     "output_type": "stream",
     "text": [
      "Optimal number of features : 21\n",
      "{'ECG_mean_diff': 1, 'EDA_min': 1, 'EDA_mean_abs_diff': 1, 'ECG_min': 1, 'SKT_max': 1, 'SKT_mean': 1, 'SKT_std': 1, 'EDA_max': 1, 'ECG_mean': 1, 'SKT_mean_abs_diff': 1, 'Resp_mean': 1, 'Resp_mean_abs_diff': 1, 'Resp_max': 1, 'ECG_std': 1, 'ECG_mean_abs_diff': 1, 'SKT_min': 1, 'EDA_std': 1, 'Resp_mean_diff': 1, 'Resp_min': 1, 'EDA_mean': 1, 'Pupil': 1}\n",
      "\n",
      "Accuracy: 65.01% (0.00%)\n"
     ]
    }
   ],
   "source": [
    "print(\"Optimal number of features : %d\" % rfecv.n_features_)\n",
    "print { X.columns[support] : rfecv.ranking_[support] for support in rfecv.get_support(indices=1) }\n",
    "\n",
    "\n",
    "print\n",
    "print(\"Accuracy: %.2f%% (%.2f%%)\" % (rfecv.grid_scores_[rfecv.n_features_ - 1]*100, 0))"
   ]
  },
  {
   "cell_type": "code",
   "execution_count": 43,
   "metadata": {},
   "outputs": [
    {
     "data": {
      "image/png": "[encoded data removed]",
      "text/plain": [
       "<Figure size 416.691x257.529 with 1 Axes>"
      ]
     },
     "metadata": {
      "needs_background": "light"
     },
     "output_type": "display_data"
    }
   ],
   "source": [
    "# Plot number of features VS. cross-validation scores\n",
    "nfeature = range(1, X.shape[1]+1)\n",
    "plt.figure(figsize=set_size(width=width))\n",
    "plt.xlabel(\"Numero di feature selezionate\")\n",
    "plt.ylabel(\"Cross validation score\")\n",
    "plt.plot(nfeature, rfecv.grid_scores_, color='k', lw=2)\n",
    "plt.gca().vlines([rfecv.n_features_], min(rfecv.grid_scores_), max(rfecv.grid_scores_), colors='gray', linestyles=\"dotted\")\n",
    "plt.show()"
   ]
  },
  {
   "cell_type": "code",
   "execution_count": 25,
   "metadata": {},
   "outputs": [
    {
     "name": "stdout",
     "output_type": "stream",
     "text": [
      "[LibLinear][LibLinear][LibLinear][LibLinear][LibLinear]"
     ]
    }
   ],
   "source": [
    "# GENERATE ROC FOR RFECV\n",
    "lsvc, stratified_cv = create_classifier(c=1e2) \n",
    "scores_train = []\n",
    "scores_test = []\n",
    "for train_index, test_index in stratified_cv.split(X, Y):\n",
    "\n",
    "    x_train, y_train = rfecv.transform(X)[train_index], Y.iloc[train_index]\n",
    "    x_test, y_test = rfecv.transform(X)[test_index], Y.iloc[test_index]\n",
    "\n",
    "    lsvc.fit(x_train, y_train)\n",
    "\n",
    "    y_train_pred = lsvc.predict(x_train)\n",
    "    score = balanced_accuracy_score(y_train, y_train_pred)\n",
    "    scores_train.append(score)\n",
    "\n",
    "    y_test_pred = lsvc.predict(x_test)\n",
    "    score = balanced_accuracy_score(y_test, y_test_pred)\n",
    "    scores_test.append(score)\n",
    "\n",
    "    fpr, tpr, threshold = roc_curve(y_test, y_test_pred)\n",
    "    roc_auc = auc(fpr, tpr)\n",
    "    \n",
    "    r = {\n",
    "        \"feature\"         : X.columns[kbest_selector.get_support()],\n",
    "        \"feature_pvalue\"  : kbest_selector.pvalues_,\n",
    "        \"feature_coeff\"   : lsvc.coef_,\n",
    "        \"score_train\"     : np.array(scores_train).mean(),\n",
    "        \"std_train\"       : np.array(scores_train).std(),\n",
    "        \"score_test\"      : np.array(scores_test).mean(),\n",
    "        \"std_test\"        : np.array(scores_test).std(),\n",
    "        \"fpr\"             : fpr,\n",
    "        \"tpr\"             : tpr,\n",
    "        \"roc_auc\"         : roc_auc\n",
    "    }\n",
    "    "
   ]
  },
  {
   "cell_type": "code",
   "execution_count": 42,
   "metadata": {},
   "outputs": [
    {
     "data": {
      "image/png": "[encoded data removed]",
      "text/plain": [
       "<Figure size 416.691x257.529 with 1 Axes>"
      ]
     },
     "metadata": {
      "needs_background": "light"
     },
     "output_type": "display_data"
    }
   ],
   "source": [
    "## PLOT ROC CURVE FOR KBEST AND RFECV\n",
    "\n",
    "fig = plt.figure(figsize=set_size(width=width))\n",
    "ax = fig.add_subplot(1,1,1)\n",
    "plt.title('Arousal Feature Seletion ROC')\n",
    "plt.plot([0, 1], [0, 1],'--', c='gray')\n",
    "plt.xlim([0, 1])\n",
    "plt.ylim([0, 1])\n",
    "plt.ylabel('Tasso Veri Positivi')\n",
    "plt.xlabel('Tasso Falsi Positivi')\n",
    "\n",
    "n = len(r[\"feature\"])\n",
    "fpr, tpr, roc_auc = r[\"fpr\"], r[\"tpr\"], r[\"roc_auc\"]\n",
    "ax.plot(fpr, tpr, 'k-', label = 'AUC (%d) = %0.2f' % (n, roc_auc))\n",
    "\n",
    "plt.legend(loc = 'lower right')      \n",
    "plt.show()"
   ]
  }
 ],
 "metadata": {
  "kernelspec": {
   "display_name": "Python 2",
   "language": "python",
   "name": "python2"
  },
  "language_info": {
   "codemirror_mode": {
    "name": "ipython",
    "version": 2
   },
   "file_extension": ".py",
   "mimetype": "text/x-python",
   "name": "python",
   "nbconvert_exporter": "python",
   "pygments_lexer": "ipython2",
   "version": "2.7.15"
  }
 },
 "nbformat": 4,
 "nbformat_minor": 2
}
