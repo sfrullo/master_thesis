{
 "cells": [
  {
   "cell_type": "code",
   "execution_count": 20,
   "metadata": {},
   "outputs": [],
   "source": [
    "import glob\n",
    "import xmltodict\n",
    "import numpy as np\n",
    "import pandas as pd"
   ]
  },
  {
   "cell_type": "code",
   "execution_count": 2,
   "metadata": {},
   "outputs": [],
   "source": [
    "list_of_session = []"
   ]
  },
  {
   "cell_type": "code",
   "execution_count": 3,
   "metadata": {},
   "outputs": [],
   "source": [
    "for file in glob.glob(\"../Dataset/Mahnob/data/Sessions/**/*.xml\"):\n",
    "    try:\n",
    "        d = xmltodict.parse(open(file).read())[\"session\"]\n",
    "        list_of_session.append({\n",
    "            \"sessionId\" : d[\"@sessionId\"],\n",
    "            \"date\" : d[\"@date\"],\n",
    "            \"time\" : d[\"@time\"],\n",
    "            \"experimentType\" : d[\"@experimentType\"],\n",
    "            \"isStim\" : d[\"@isStim\"],\n",
    "            \"feltEmo\" : int(d[\"@feltEmo\"]),\n",
    "            \"feltArsl\" : int(d[\"@feltArsl\"]),\n",
    "            \"feltVlnc\" : int(d[\"@feltVlnc\"]),\n",
    "            \"feltCtrl\" : int(d[\"@feltCtrl\"]),\n",
    "            \"feltPred\" : int(d[\"@feltPred\"]),\n",
    "            \"cutNr\" : d[\"@cutNr\"],\n",
    "            \"cutLenSec\" : d[\"@cutLenSec\"],\n",
    "            \"vidRate\" : d[\"@vidRate\"],\n",
    "            \"audRate\" : d[\"@audRate\"],\n",
    "            \"audBeginSmp\" : d[\"@audBeginSmp\"],\n",
    "            \"audEndSmp\" : d[\"@audEndSmp\"],\n",
    "            \"vidBeginSmp\" : d[\"@vidBeginSmp\"],\n",
    "            \"vidEndSmp\" : d[\"@vidEndSmp\"],\n",
    "            \"mediaFile\" : d[\"@mediaFile\"],\n",
    "        })\n",
    "    except Exception, e:\n",
    "        print \"skipping {}, error:\".format(file, e.message)"
   ]
  },
  {
   "cell_type": "code",
   "execution_count": 4,
   "metadata": {},
   "outputs": [],
   "source": [
    "a = pd.DataFrame(list_of_session)"
   ]
  },
  {
   "cell_type": "code",
   "execution_count": 5,
   "metadata": {},
   "outputs": [
    {
     "name": "stdout",
     "output_type": "stream",
     "text": [
      "               sessionId\n",
      "mediaFile               \n",
      "107.avi               18\n",
      "111.avi               24\n",
      "138.avi               19\n",
      "146.avi               19\n",
      "30.avi                25\n",
      "52.avi                19\n",
      "53.avi                24\n",
      "55.avi                18\n",
      "58.avi                17\n",
      "69.avi                26\n",
      "73.avi                19\n",
      "79.avi                18\n",
      "80.avi                19\n",
      "90.avi                26\n",
      "cats_f.avi            19\n",
      "dallas_f.avi          18\n",
      "detroit_f.avi         19\n",
      "earworm_f.avi         18\n",
      "funny_f.avi           19\n",
      "newyork_f.avi         17\n"
     ]
    }
   ],
   "source": [
    "t = a[[\"sessionId\", \"mediaFile\"]].groupby(\"mediaFile\").count()\n",
    "print t"
   ]
  },
  {
   "cell_type": "code",
   "execution_count": 45,
   "metadata": {},
   "outputs": [
    {
     "name": "stdout",
     "output_type": "stream",
     "text": [
      "\\begin{tabular}{lrrrrr}\n",
      "\\toprule\n",
      "{} &  feltEmo &  feltArsl &  feltVlnc &  feltCtrl &  feltPred \\\\\n",
      "mediaFile     &          &           &           &           &           \\\\\n",
      "\\midrule\n",
      "107.avi       &     5.33 &      6.22 &      3.22 &      3.28 &      3.39 \\\\\n",
      "111.avi       &     4.62 &      6.00 &      2.12 &      3.08 &      5.25 \\\\\n",
      "138.avi       &     3.95 &      4.21 &      3.05 &      3.53 &      6.79 \\\\\n",
      "146.avi       &     3.95 &      3.05 &      3.26 &      5.16 &      6.37 \\\\\n",
      "30.avi        &     5.56 &      6.36 &      2.84 &      3.68 &      4.12 \\\\\n",
      "52.avi        &     6.26 &      3.68 &      6.47 &      5.89 &      5.26 \\\\\n",
      "53.avi        &     7.71 &      5.62 &      4.38 &      3.83 &      6.88 \\\\\n",
      "55.avi        &     3.56 &      5.72 &      1.72 &      3.00 &      5.89 \\\\\n",
      "58.avi        &     5.35 &      3.76 &      6.88 &      6.24 &      6.06 \\\\\n",
      "69.avi        &     3.19 &      5.73 &      2.23 &      3.65 &      5.31 \\\\\n",
      "73.avi        &     5.68 &      4.95 &      3.58 &      3.74 &      5.84 \\\\\n",
      "79.avi        &     3.33 &      3.56 &      7.00 &      7.50 &      6.28 \\\\\n",
      "80.avi        &     4.26 &      5.63 &      7.79 &      6.11 &      4.95 \\\\\n",
      "90.avi        &     7.62 &      4.12 &      6.69 &      6.27 &      5.27 \\\\\n",
      "cats\\_f.avi    &     9.26 &      5.05 &      6.89 &      6.58 &      4.63 \\\\\n",
      "dallas\\_f.avi  &     0.56 &      1.94 &      5.00 &      5.89 &      7.11 \\\\\n",
      "detroit\\_f.avi &     0.58 &      1.42 &      4.68 &      6.42 &      6.79 \\\\\n",
      "earworm\\_f.avi &     4.17 &      4.72 &      3.61 &      5.67 &      4.72 \\\\\n",
      "funny\\_f.avi   &     9.05 &      5.32 &      6.26 &      6.42 &      4.21 \\\\\n",
      "newyork\\_f.avi &     0.76 &      1.76 &      4.59 &      6.06 &      6.94 \\\\\n",
      "\\bottomrule\n",
      "\\end{tabular}\n",
      "\n",
      "\\begin{tabular}{lrrrrr}\n",
      "\\toprule\n",
      "{} &  feltEmo &  feltArsl &  feltVlnc &  feltCtrl &  feltPred \\\\\n",
      "mediaFile     &          &           &           &           &           \\\\\n",
      "\\midrule\n",
      "107.avi       &     4.06 &      2.24 &      1.59 &      1.71 &      1.04 \\\\\n",
      "111.avi       &     1.31 &      1.47 &      0.99 &      1.91 &      2.54 \\\\\n",
      "138.avi       &     2.09 &      1.84 &      1.31 &      1.90 &      1.90 \\\\\n",
      "146.avi       &     2.09 &      1.72 &      1.24 &      1.95 &      2.06 \\\\\n",
      "30.avi        &     3.84 &      1.70 &      1.70 &      2.50 &      2.35 \\\\\n",
      "52.avi        &     4.85 &      1.92 &      1.93 &      1.76 &      1.76 \\\\\n",
      "53.avi        &     4.55 &      1.47 &      2.04 &      1.88 &      1.51 \\\\\n",
      "55.avi        &     3.48 &      2.08 &      0.89 &      2.35 &      2.30 \\\\\n",
      "58.avi        &     3.98 &      1.95 &      1.41 &      2.33 &      1.56 \\\\\n",
      "69.avi        &     3.25 &      2.01 &      1.07 &      2.38 &      2.09 \\\\\n",
      "73.avi        &     5.09 &      2.07 &      1.68 &      2.10 &      2.01 \\\\\n",
      "79.avi        &     1.53 &      2.18 &      1.91 &      1.72 &      1.78 \\\\\n",
      "80.avi        &     1.94 &      1.71 &      0.85 &      2.26 &      2.37 \\\\\n",
      "90.avi        &     4.28 &      1.97 &      1.41 &      1.91 &      2.57 \\\\\n",
      "cats\\_f.avi    &     3.02 &      1.78 &      1.70 &      2.48 &      2.71 \\\\\n",
      "dallas\\_f.avi  &     1.65 &      1.47 &      1.08 &      2.37 &      2.08 \\\\\n",
      "detroit\\_f.avi &     2.52 &      0.69 &      1.29 &      2.65 &      2.12 \\\\\n",
      "earworm\\_f.avi &     4.42 &      2.44 &      1.85 &      2.40 &      2.76 \\\\\n",
      "funny\\_f.avi   &     3.57 &      2.11 &      1.56 &      1.95 &      2.78 \\\\\n",
      "newyork\\_f.avi &     1.56 &      1.20 &      1.54 &      2.86 &      2.01 \\\\\n",
      "\\bottomrule\n",
      "\\end{tabular}\n",
      "\n"
     ]
    }
   ],
   "source": [
    "b = a[[\"mediaFile\", \"feltEmo\", \"feltArsl\", \"feltVlnc\", \"feltCtrl\", \"feltPred\"]].groupby(\"mediaFile\")\n",
    "print b.mean().round(2).to_latex()\n",
    "print b.std().round(2).to_latex()"
   ]
  }
 ],
 "metadata": {
  "kernelspec": {
   "display_name": "Python 2",
   "language": "python",
   "name": "python2"
  },
  "language_info": {
   "codemirror_mode": {
    "name": "ipython",
    "version": 2
   },
   "file_extension": ".py",
   "mimetype": "text/x-python",
   "name": "python",
   "nbconvert_exporter": "python",
   "pygments_lexer": "ipython2",
   "version": "2.7.15"
  }
 },
 "nbformat": 4,
 "nbformat_minor": 2
}
