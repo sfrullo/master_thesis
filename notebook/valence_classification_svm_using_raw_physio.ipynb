{
 "cells": [
  {
   "cell_type": "code",
   "execution_count": 5,
   "metadata": {},
   "outputs": [],
   "source": [
    "import glob\n",
    "import numpy as np\n",
    "import matplotlib.pyplot as plt\n",
    "import pandas as pd\n",
    "\n",
    "from sklearn.model_selection import train_test_split\n",
    "from sklearn.preprocessing import OneHotEncoder\n",
    "\n",
    "from sklearn.svm import LinearSVC, SVC\n",
    "from sklearn.feature_selection import RFECV"
   ]
  },
  {
   "cell_type": "code",
   "execution_count": 6,
   "metadata": {},
   "outputs": [],
   "source": [
    "files = map(np.load, glob.glob(\"../export/data/physio_data_*.npz\"))"
   ]
  },
  {
   "cell_type": "code",
   "execution_count": 7,
   "metadata": {},
   "outputs": [
    {
     "name": "stdout",
     "output_type": "stream",
     "text": [
      "load data for 398\n",
      "load data for 408\n",
      "load data for 420\n",
      "load data for 426\n",
      "load data for 430\n",
      "load data for 524\n",
      "load data for 530\n",
      "load data for 542\n",
      "load data for 546\n",
      "load data for 548\n",
      "load data for 786\n",
      "load data for 798\n",
      "load data for 800\n",
      "load data for 810\n",
      "load data for 814\n",
      "load data for 920\n",
      "load data for 926\n",
      "load data for 932\n",
      "load data for 944\n",
      "load data for 948\n",
      "load data for 1052\n",
      "load data for 1054\n",
      "load data for 1066\n",
      "load data for 10\n",
      "load data for 1178\n",
      "load data for 1188\n",
      "load data for 1200\n",
      "load data for 1206\n",
      "load data for 1210\n",
      "load data for 132\n",
      "load data for 142\n",
      "load data for 152\n",
      "load data for 1562\n",
      "load data for 1586\n",
      "load data for 1588\n",
      "load data for 1592\n",
      "load data for 1598\n",
      "load data for 160\n",
      "load data for 166\n",
      "load data for 1698\n",
      "load data for 1702\n",
      "load data for 1712\n",
      "load data for 1714\n",
      "load data for 1726\n",
      "load data for 1952\n",
      "load data for 1956\n",
      "load data for 1962\n",
      "load data for 1974\n",
      "load data for 2086\n",
      "load data for 2088\n",
      "load data for 2090\n",
      "load data for 20\n",
      "load data for 2100\n",
      "load data for 2118\n",
      "load data for 2214\n",
      "load data for 2220\n",
      "load data for 2224\n",
      "load data for 2226\n",
      "load data for 2250\n",
      "load data for 2342\n",
      "load data for 2352\n",
      "load data for 2354\n",
      "load data for 2358\n",
      "load data for 2376\n",
      "load data for 2476\n",
      "load data for 2478\n",
      "load data for 2488\n",
      "load data for 2492\n",
      "load data for 2502\n",
      "load data for 2604\n",
      "load data for 2610\n",
      "load data for 2622\n",
      "load data for 2626\n",
      "load data for 2628\n",
      "load data for 26\n",
      "load data for 2732\n",
      "load data for 2744\n",
      "load data for 2754\n",
      "load data for 2756\n",
      "load data for 2760\n",
      "load data for 2866\n",
      "load data for 2878\n",
      "load data for 2880\n",
      "load data for 2890\n",
      "load data for 2894\n",
      "load data for 2\n",
      "load data for 3000\n",
      "load data for 3006\n",
      "load data for 3012\n",
      "load data for 3024\n",
      "load data for 3028\n",
      "load data for 32\n",
      "load data for 3384\n",
      "load data for 3402\n",
      "load data for 3412\n",
      "load data for 3414\n",
      "load data for 3416\n",
      "load data for 3512\n",
      "load data for 3536\n",
      "load data for 3538\n",
      "load data for 3542\n",
      "load data for 3548\n",
      "load data for 3646\n",
      "load data for 3664\n",
      "load data for 3668\n",
      "load data for 3670\n",
      "load data for 3680\n",
      "load data for 3780\n",
      "load data for 3790\n",
      "load data for 3794\n",
      "load data for 3804\n",
      "load data for 3806\n"
     ]
    }
   ],
   "source": [
    "# load data\n",
    "\n",
    "n_subject = len(files)\n",
    "\n",
    "skip_sample = 100\n",
    "n_samples = 1500\n",
    "\n",
    "inputs_raw = pd.DataFrame()\n",
    "labels = []\n",
    "\n",
    "for f in files:\n",
    "    \n",
    "    session_info = f[\"session_info\"].tolist()\n",
    "    \n",
    "    mediafile = session_info[\"mediaFile\"]\n",
    "    sid = int(session_info[\"sessionId\"])\n",
    "    label = int(session_info[\"feltVlnc\"])\n",
    "    \n",
    "    print \"load data for {}\".format(sid)\n",
    "    \n",
    "    data = pd.DataFrame()\n",
    "    \n",
    "    for signal in ['ecg', 'eda', 'resp', 'skt']:\n",
    "        data[signal] = f[signal][skip_sample:skip_sample + n_samples]\n",
    "    \n",
    "    data[\"label\"] = label\n",
    "    data[\"media\"] = mediafile\n",
    "    \n",
    "    # concatenate all subjects' data\n",
    "    inputs_raw = pd.concat([inputs_raw, data], ignore_index=True)"
   ]
  },
  {
   "cell_type": "code",
   "execution_count": 8,
   "metadata": {},
   "outputs": [
    {
     "name": "stdout",
     "output_type": "stream",
     "text": [
      "             ecg       eda      resp       skt  label   media\n",
      "0       0.941577  0.239769  0.417045  0.110864      2  30.avi\n",
      "1       0.946434  0.238437  0.408560  0.109673      2  30.avi\n",
      "2       0.954386  0.237029  0.400151  0.111757      2  30.avi\n",
      "3       0.959282  0.236110  0.392344  0.110602      2  30.avi\n",
      "4       0.967196  0.236148  0.384632  0.112656      2  30.avi\n",
      "5       0.972131  0.236519  0.377528  0.111536      2  30.avi\n",
      "6       0.980006  0.236659  0.370530  0.113560      2  30.avi\n",
      "7       0.984976  0.236579  0.364136  0.112474      2  30.avi\n",
      "8       0.992836  0.236292  0.357852  0.114471      2  30.avi\n",
      "9       0.997515  0.235815  0.352165  0.113417      2  30.avi\n",
      "10      1.000000  0.235162  0.346585  0.115386      2  30.avi\n",
      "11      0.998100  0.234346  0.341587  0.114363      2  30.avi\n",
      "12      0.999346  0.233381  0.336688  0.116307      2  30.avi\n",
      "13      0.997629  0.232278  0.332351  0.115314      2  30.avi\n",
      "14      0.998787  0.231049  0.328100  0.117233      2  30.avi\n",
      "15      0.997129  0.229705  0.324387  0.116269      2  30.avi\n",
      "16      0.998240  0.228255  0.320741  0.118163      2  30.avi\n",
      "17      0.996622  0.226709  0.317606  0.117228      2  30.avi\n",
      "18      0.997697  0.225077  0.314517  0.119099      2  30.avi\n",
      "19      0.996113  0.223365  0.311910  0.118190      2  30.avi\n",
      "20      0.997155  0.221583  0.309328  0.120038      2  30.avi\n",
      "21      0.995603  0.219738  0.307201  0.119156      2  30.avi\n",
      "22      0.996614  0.217838  0.305085  0.120982      2  30.avi\n",
      "23      0.995092  0.215888  0.303403  0.120125      2  30.avi\n",
      "24      0.996076  0.213895  0.301723  0.121930      2  30.avi\n",
      "25      0.994570  0.211863  0.300464  0.121097      2  30.avi\n",
      "26      0.995591  0.209797  0.299205  0.122882      2  30.avi\n",
      "27      0.993385  0.207701  0.298361  0.122073      2  30.avi\n",
      "28      0.984938  0.205581  0.297520  0.123838      2  30.avi\n",
      "29      0.971800  0.203438  0.297094  0.123051      2  30.avi\n",
      "...          ...       ...       ...       ...    ...     ...\n",
      "167970  0.298666  0.069426  0.471381  0.892298      6  90.avi\n",
      "167971  0.306931  0.069500  0.471784  0.892648      6  90.avi\n",
      "167972  0.314643  0.069505  0.472251  0.892693      6  90.avi\n",
      "167973  0.322740  0.069443  0.472782  0.893042      6  90.avi\n",
      "167974  0.330517  0.069321  0.473365  0.893084      6  90.avi\n",
      "167975  0.338579  0.069144  0.473999  0.893432      6  90.avi\n",
      "167976  0.346378  0.068926  0.474674  0.893472      6  90.avi\n",
      "167977  0.354424  0.068766  0.475390  0.893818      6  90.avi\n",
      "167978  0.362235  0.068795  0.476137  0.893855      6  90.avi\n",
      "167979  0.370271  0.068955  0.476915  0.894200      6  90.avi\n",
      "167980  0.378092  0.069110  0.477716  0.894235      6  90.avi\n",
      "167981  0.386118  0.069211  0.478540  0.894579      6  90.avi\n",
      "167982  0.393948  0.069259  0.479378  0.894611      6  90.avi\n",
      "167983  0.401969  0.069266  0.480233  0.894954      6  90.avi\n",
      "167984  0.409790  0.069268  0.481097  0.894983      6  90.avi\n",
      "167985  0.417896  0.069324  0.481971  0.895325      6  90.avi\n",
      "167986  0.424637  0.069453  0.482850  0.895351      6  90.avi\n",
      "167987  0.418027  0.069592  0.483736  0.895692      6  90.avi\n",
      "167988  0.407488  0.069680  0.484623  0.895715      6  90.avi\n",
      "167989  0.398002  0.069702  0.485513  0.896055      6  90.avi\n",
      "167990  0.387831  0.069658  0.486401  0.896075      6  90.avi\n",
      "167991  0.378204  0.069552  0.487289  0.896414      6  90.avi\n",
      "167992  0.368107  0.069388  0.488175  0.896432      6  90.avi\n",
      "167993  0.358430  0.069176  0.489062  0.896769      6  90.avi\n",
      "167994  0.348384  0.068935  0.489948  0.896784      6  90.avi\n",
      "167995  0.338602  0.068825  0.490836  0.897120      6  90.avi\n",
      "167996  0.329390  0.068977  0.491724  0.897132      6  90.avi\n",
      "167997  0.328662  0.069242  0.492616  0.897467      6  90.avi\n",
      "167998  0.329450  0.069465  0.493508  0.897477      6  90.avi\n",
      "167999  0.330175  0.069634  0.494402  0.897810      6  90.avi\n",
      "\n",
      "[168000 rows x 6 columns]\n"
     ]
    }
   ],
   "source": [
    "print inputs_raw"
   ]
  },
  {
   "cell_type": "code",
   "execution_count": 8,
   "metadata": {},
   "outputs": [],
   "source": [
    "# split training and validation data\n",
    "X = inputs_raw.drop(columns=[\"label\", \"media\"], axis=1)\n",
    "Y = inputs_raw[\"label\"]"
   ]
  },
  {
   "cell_type": "code",
   "execution_count": 9,
   "metadata": {},
   "outputs": [
    {
     "name": "stdout",
     "output_type": "stream",
     "text": [
      "ecg     False\n",
      "eda     False\n",
      "resp    False\n",
      "skt     False\n",
      "dtype: bool\n"
     ]
    }
   ],
   "source": [
    "# check and remove Nan values\n",
    "print X.isna().any()\n",
    "X.fillna(X.median(), inplace=True)"
   ]
  },
  {
   "cell_type": "code",
   "execution_count": 10,
   "metadata": {},
   "outputs": [
    {
     "data": {
      "text/plain": [
       "<matplotlib.axes._subplots.AxesSubplot at 0x7f1b02e0a050>"
      ]
     },
     "execution_count": 10,
     "metadata": {},
     "output_type": "execute_result"
    },
    {
     "data": {
      "image/png": "[encoded data removed]",
      "text/plain": [
       "<Figure size 432x288 with 1 Axes>"
      ]
     },
     "metadata": {
      "needs_background": "light"
     },
     "output_type": "display_data"
    }
   ],
   "source": [
    "Y.plot.hist(bins=9)"
   ]
  },
  {
   "cell_type": "code",
   "execution_count": 11,
   "metadata": {},
   "outputs": [
    {
     "name": "stderr",
     "output_type": "stream",
     "text": [
      "/opt/conda/envs/python2/lib/python2.7/site-packages/ipykernel_launcher.py:1: SettingWithCopyWarning: \n",
      "A value is trying to be set on a copy of a slice from a DataFrame\n",
      "\n",
      "See the caveats in the documentation: http://pandas.pydata.org/pandas-docs/stable/indexing.html#indexing-view-versus-copy\n",
      "  \"\"\"Entry point for launching an IPython kernel.\n",
      "/opt/conda/envs/python2/lib/python2.7/site-packages/ipykernel_launcher.py:2: SettingWithCopyWarning: \n",
      "A value is trying to be set on a copy of a slice from a DataFrame\n",
      "\n",
      "See the caveats in the documentation: http://pandas.pydata.org/pandas-docs/stable/indexing.html#indexing-view-versus-copy\n",
      "  \n",
      "/opt/conda/envs/python2/lib/python2.7/site-packages/ipykernel_launcher.py:3: SettingWithCopyWarning: \n",
      "A value is trying to be set on a copy of a slice from a DataFrame\n",
      "\n",
      "See the caveats in the documentation: http://pandas.pydata.org/pandas-docs/stable/indexing.html#indexing-view-versus-copy\n",
      "  This is separate from the ipykernel package so we can avoid doing imports until\n",
      "/opt/conda/envs/python2/lib/python2.7/site-packages/ipykernel_launcher.py:4: SettingWithCopyWarning: \n",
      "A value is trying to be set on a copy of a slice from a DataFrame\n",
      "\n",
      "See the caveats in the documentation: http://pandas.pydata.org/pandas-docs/stable/indexing.html#indexing-view-versus-copy\n",
      "  after removing the cwd from sys.path.\n",
      "/opt/conda/envs/python2/lib/python2.7/site-packages/ipykernel_launcher.py:5: SettingWithCopyWarning: \n",
      "A value is trying to be set on a copy of a slice from a DataFrame\n",
      "\n",
      "See the caveats in the documentation: http://pandas.pydata.org/pandas-docs/stable/indexing.html#indexing-view-versus-copy\n",
      "  \"\"\"\n",
      "/opt/conda/envs/python2/lib/python2.7/site-packages/ipykernel_launcher.py:6: SettingWithCopyWarning: \n",
      "A value is trying to be set on a copy of a slice from a DataFrame\n",
      "\n",
      "See the caveats in the documentation: http://pandas.pydata.org/pandas-docs/stable/indexing.html#indexing-view-versus-copy\n",
      "  \n",
      "/opt/conda/envs/python2/lib/python2.7/site-packages/ipykernel_launcher.py:8: SettingWithCopyWarning: \n",
      "A value is trying to be set on a copy of a slice from a DataFrame\n",
      "\n",
      "See the caveats in the documentation: http://pandas.pydata.org/pandas-docs/stable/indexing.html#indexing-view-versus-copy\n",
      "  \n",
      "/opt/conda/envs/python2/lib/python2.7/site-packages/ipykernel_launcher.py:9: SettingWithCopyWarning: \n",
      "A value is trying to be set on a copy of a slice from a DataFrame\n",
      "\n",
      "See the caveats in the documentation: http://pandas.pydata.org/pandas-docs/stable/indexing.html#indexing-view-versus-copy\n",
      "  if __name__ == '__main__':\n",
      "/opt/conda/envs/python2/lib/python2.7/site-packages/ipykernel_launcher.py:10: SettingWithCopyWarning: \n",
      "A value is trying to be set on a copy of a slice from a DataFrame\n",
      "\n",
      "See the caveats in the documentation: http://pandas.pydata.org/pandas-docs/stable/indexing.html#indexing-view-versus-copy\n",
      "  # Remove the CWD from sys.path while we load stuff.\n",
      "/opt/conda/envs/python2/lib/python2.7/site-packages/ipykernel_launcher.py:11: SettingWithCopyWarning: \n",
      "A value is trying to be set on a copy of a slice from a DataFrame\n",
      "\n",
      "See the caveats in the documentation: http://pandas.pydata.org/pandas-docs/stable/indexing.html#indexing-view-versus-copy\n",
      "  # This is added back by InteractiveShellApp.init_path()\n",
      "/opt/conda/envs/python2/lib/python2.7/site-packages/ipykernel_launcher.py:12: SettingWithCopyWarning: \n",
      "A value is trying to be set on a copy of a slice from a DataFrame\n",
      "\n",
      "See the caveats in the documentation: http://pandas.pydata.org/pandas-docs/stable/indexing.html#indexing-view-versus-copy\n",
      "  if sys.path[0] == '':\n",
      "/opt/conda/envs/python2/lib/python2.7/site-packages/ipykernel_launcher.py:13: SettingWithCopyWarning: \n",
      "A value is trying to be set on a copy of a slice from a DataFrame\n",
      "\n",
      "See the caveats in the documentation: http://pandas.pydata.org/pandas-docs/stable/indexing.html#indexing-view-versus-copy\n",
      "  del sys.path[0]\n"
     ]
    }
   ],
   "source": [
    "Y[Y==1] = 0\n",
    "Y[Y==2] = 0\n",
    "Y[Y==3] = 0\n",
    "Y[Y==5] = 0\n",
    "Y[Y==7] = 0\n",
    "Y[Y==12] = 0\n",
    "\n",
    "Y[Y==4] = 1\n",
    "Y[Y==5] = 1\n",
    "Y[Y==6] = 1\n",
    "Y[Y==8] = 1\n",
    "Y[Y==9] = 1\n",
    "Y[Y==11] = 1"
   ]
  },
  {
   "cell_type": "code",
   "execution_count": 12,
   "metadata": {},
   "outputs": [
    {
     "data": {
      "text/plain": [
       "<matplotlib.axes._subplots.AxesSubplot at 0x7f1b022cbad0>"
      ]
     },
     "execution_count": 12,
     "metadata": {},
     "output_type": "execute_result"
    },
    {
     "data": {
      "image/png": "[encoded data removed]",
      "text/plain": [
       "<Figure size 432x288 with 1 Axes>"
      ]
     },
     "metadata": {
      "needs_background": "light"
     },
     "output_type": "display_data"
    }
   ],
   "source": [
    "Y.plot.hist(bins=2)"
   ]
  },
  {
   "cell_type": "code",
   "execution_count": 13,
   "metadata": {},
   "outputs": [],
   "source": [
    "from itertools import combinations\n",
    "from sklearn.preprocessing import PolynomialFeatures\n",
    "\n",
    "def add_interactions(df):\n",
    "    # Get feature names\n",
    "    combos = list(combinations(list(df.columns), 2))\n",
    "    colnames = list(df.columns) + ['_'.join(x) for x in combos]\n",
    "    \n",
    "    # Find interactions\n",
    "    poly = PolynomialFeatures(interaction_only=True, include_bias=False)\n",
    "    df = poly.fit_transform(df)\n",
    "    df = pd.DataFrame(df)\n",
    "    df.columns = colnames\n",
    "    \n",
    "    # Remove interaction terms with all 0 values            \n",
    "    noint_indicies = [i for i, x in enumerate(list((df == 0).all())) if x]\n",
    "    df = df.drop(df.columns[noint_indicies], axis=1)\n",
    "    \n",
    "    return df"
   ]
  },
  {
   "cell_type": "code",
   "execution_count": 14,
   "metadata": {},
   "outputs": [
    {
     "name": "stdout",
     "output_type": "stream",
     "text": [
      "        ecg       eda      resp       skt   ecg_eda  ecg_resp   ecg_skt  \\\n",
      "0  0.941577  0.239769  0.417045  0.110864  0.225761  0.392680  0.104387   \n",
      "1  0.946434  0.238437  0.408560  0.109673  0.225665  0.386675  0.103799   \n",
      "2  0.954386  0.237029  0.400151  0.111757  0.226217  0.381898  0.106659   \n",
      "3  0.959282  0.236110  0.392344  0.110602  0.226496  0.376369  0.106099   \n",
      "4  0.967196  0.236148  0.384632  0.112656  0.228401  0.372015  0.108960   \n",
      "\n",
      "   eda_resp   eda_skt  resp_skt  \n",
      "0  0.099994  0.026582  0.046235  \n",
      "1  0.097416  0.026150  0.044808  \n",
      "2  0.094847  0.026490  0.044720  \n",
      "3  0.092636  0.026114  0.043394  \n",
      "4  0.090830  0.026603  0.043331  \n"
     ]
    }
   ],
   "source": [
    "x_interact = add_interactions(X)\n",
    "print(x_interact.head(5))"
   ]
  },
  {
   "cell_type": "code",
   "execution_count": 37,
   "metadata": {
    "scrolled": true
   },
   "outputs": [
    {
     "name": "stdout",
     "output_type": "stream",
     "text": [
      "(134400, 10)\n",
      "(134400,)\n",
      "(33600, 10)\n",
      "(33600,)\n"
     ]
    }
   ],
   "source": [
    "xtrain, xval, ytrain, yval = train_test_split(x_interact, Y, test_size=.2, shuffle=True)\n",
    "\n",
    "print xtrain.shape\n",
    "print ytrain.shape\n",
    "print xval.shape\n",
    "print yval.shape"
   ]
  },
  {
   "cell_type": "code",
   "execution_count": 16,
   "metadata": {},
   "outputs": [],
   "source": [
    "# Such a large set of features can cause overfitting and also slow computing\n",
    "# Use feature selection to select the most important features\n",
    "import sklearn.feature_selection\n",
    "\n",
    "select = sklearn.feature_selection.SelectKBest(k=5)\n",
    "selected_features = select.fit(xtrain, ytrain)\n",
    "indices_selected = selected_features.get_support(indices=True)\n",
    "colnames_selected = [xtrain.columns[i] for i in indices_selected]\n",
    "\n",
    "xtrain_selected = xtrain[colnames_selected]\n",
    "xval_selected = xval[colnames_selected]"
   ]
  },
  {
   "cell_type": "code",
   "execution_count": 17,
   "metadata": {},
   "outputs": [
    {
     "data": {
      "text/plain": [
       "['skt', 'ecg_eda', 'ecg_skt', 'eda_skt', 'resp_skt']"
      ]
     },
     "execution_count": 17,
     "metadata": {},
     "output_type": "execute_result"
    }
   ],
   "source": [
    "colnames_selected"
   ]
  },
  {
   "cell_type": "markdown",
   "metadata": {},
   "source": [
    "## SVC"
   ]
  },
  {
   "cell_type": "code",
   "execution_count": null,
   "metadata": {},
   "outputs": [],
   "source": [
    "from sklearn.ensemble import BaggingClassifier"
   ]
  },
  {
   "cell_type": "code",
   "execution_count": 80,
   "metadata": {},
   "outputs": [
    {
     "name": "stderr",
     "output_type": "stream",
     "text": [
      "[Parallel(n_jobs=2)]: Using backend LokyBackend with 2 concurrent workers.\n",
      "[Parallel(n_jobs=2)]: Done   2 out of   2 | elapsed:    4.1s remaining:    0.0s\n",
      "[Parallel(n_jobs=2)]: Done   2 out of   2 | elapsed:    4.1s finished\n",
      "[Parallel(n_jobs=2)]: Using backend LokyBackend with 2 concurrent workers.\n",
      "[Parallel(n_jobs=2)]: Done   2 out of   2 | elapsed:    0.7s remaining:    0.0s\n",
      "[Parallel(n_jobs=2)]: Done   2 out of   2 | elapsed:    0.7s finished\n"
     ]
    },
    {
     "data": {
      "text/plain": [
       "0.49098214285714287"
      ]
     },
     "execution_count": 80,
     "metadata": {},
     "output_type": "execute_result"
    }
   ],
   "source": [
    "svc = SVC(C=1, kernel='linear', random_state=0, class_weight='balanced', verbose=True)\n",
    "\n",
    "n_estimators = 10\n",
    "bagging = BaggingClassifier(clf, max_samples=1.0 / n_estimators, n_estimators=n_estimators, n_jobs=-1, verbose=True)\n",
    "\n",
    "bagging.fit(xtrain, ytrain.ravel())\n",
    "bagging.score(xval,yval)"
   ]
  },
  {
   "cell_type": "code",
   "execution_count": null,
   "metadata": {},
   "outputs": [],
   "source": [
    "svc = SVC(class_weight='balanced', kernel='linear', verbose=True)\n",
    "svc.fit(xtrain_selected, ytrain.ravel())\n",
    "svc.score(xval_selected,yval)"
   ]
  },
  {
   "cell_type": "markdown",
   "metadata": {},
   "source": [
    "## LinearSVC"
   ]
  },
  {
   "cell_type": "code",
   "execution_count": 18,
   "metadata": {},
   "outputs": [
    {
     "name": "stdout",
     "output_type": "stream",
     "text": [
      "[LibLinear]"
     ]
    },
    {
     "data": {
      "text/plain": [
       "0.43970238095238096"
      ]
     },
     "execution_count": 18,
     "metadata": {},
     "output_type": "execute_result"
    }
   ],
   "source": [
    "lsvc = LinearSVC(C=1, tol=0.001, dual=False, fit_intercept=False, max_iter=10000, verbose=True, class_weight='balanced')\n",
    "lsvc.fit(xtrain, ytrain.ravel())\n",
    "lsvc.score(xval, yval)"
   ]
  },
  {
   "cell_type": "code",
   "execution_count": 25,
   "metadata": {},
   "outputs": [
    {
     "name": "stdout",
     "output_type": "stream",
     "text": [
      "[LibLinear]"
     ]
    },
    {
     "data": {
      "text/plain": [
       "0.5253869047619047"
      ]
     },
     "execution_count": 25,
     "metadata": {},
     "output_type": "execute_result"
    }
   ],
   "source": [
    "lsvc = LinearSVC(C=1, tol=0.001, dual=False, fit_intercept=False, max_iter=10000, verbose=True, class_weight='balanced')\n",
    "lsvc.fit(xtrain_selected, ytrain.ravel())\n",
    "lsvc.score(xval_selected, yval)"
   ]
  },
  {
   "cell_type": "code",
   "execution_count": 29,
   "metadata": {},
   "outputs": [
    {
     "name": "stderr",
     "output_type": "stream",
     "text": [
      "[Parallel(n_jobs=-1)]: Using backend LokyBackend with 2 concurrent workers.\n",
      "[Parallel(n_jobs=-1)]: Done  46 tasks      | elapsed:   23.2s\n",
      "[Parallel(n_jobs=-1)]: Done 112 out of 112 | elapsed:   54.1s finished\n"
     ]
    }
   ],
   "source": [
    "from sklearn.model_selection import KFold\n",
    "from sklearn.model_selection import cross_val_score\n",
    "\n",
    "cv = KFold(n_splits=n_subject, shuffle=False, random_state=0)\n",
    "clf = LinearSVC(C=1, tol=0.001, dual=False, fit_intercept=False, max_iter=10000, verbose=True, class_weight='balanced')\n",
    "scores = cross_val_score(clf, xtrain, ytrain.ravel(), cv=cv, n_jobs=-1, verbose=True)\n",
    "\n",
    "print(\"Accuracy: %0.2f (+/- %0.2f)\" % (scores.mean(), scores.std() * 2))"
   ]
  },
  {
   "cell_type": "markdown",
   "metadata": {},
   "source": [
    "## Recursive feature selection + SVC"
   ]
  },
  {
   "cell_type": "code",
   "execution_count": 63,
   "metadata": {},
   "outputs": [],
   "source": [
    "from sklearn.model_selection import KFold"
   ]
  },
  {
   "cell_type": "code",
   "execution_count": 67,
   "metadata": {},
   "outputs": [],
   "source": [
    "clf = LinearSVC(C=1, tol=1e-4, dual=False, fit_intercept=False, class_weight='balanced')\n",
    "cv = KFold(n_splits=n_subject, shuffle=False, random_state=0)\n",
    "rfecv = RFECV(clf, step=1, cv=cv, n_jobs=-1, verbose=True)"
   ]
  },
  {
   "cell_type": "code",
   "execution_count": null,
   "metadata": {},
   "outputs": [],
   "source": [
    "rfecv.fit(xtrain, ytrain.values.ravel())"
   ]
  },
  {
   "cell_type": "code",
   "execution_count": 77,
   "metadata": {},
   "outputs": [
    {
     "name": "stdout",
     "output_type": "stream",
     "text": [
      "Index([u'ecg_skt'], dtype='object')\n"
     ]
    },
    {
     "data": {
      "image/png": "[encoded data removed]",
      "text/plain": [
       "<Figure size 1080x360 with 1 Axes>"
      ]
     },
     "metadata": {
      "needs_background": "light"
     },
     "output_type": "display_data"
    }
   ],
   "source": [
    "print x_interact.columns[rfecv.get_support()]\n",
    "\n",
    "# Plot number of features VS. cross-validation scores\n",
    "plt.figure(figsize=(15,5))\n",
    "plt.xlabel(\"Number of features selected\")\n",
    "plt.ylabel(\"Cross validation score (nb of correct classifications)\")\n",
    "plt.plot(range(1, len(rfecv.grid_scores_) + 1), rfecv.grid_scores_)\n",
    "plt.show()"
   ]
  },
  {
   "cell_type": "code",
   "execution_count": 75,
   "metadata": {},
   "outputs": [
    {
     "name": "stdout",
     "output_type": "stream",
     "text": [
      "Accuracy: 0.72 (+/- 0.00)\n"
     ]
    }
   ],
   "source": [
    "scores = rfecv.score(xval, yval)\n",
    "print(\"Accuracy: %0.2f (+/- %0.2f)\" % (scores.mean(), scores.std() * 2))"
   ]
  },
  {
   "cell_type": "markdown",
   "metadata": {},
   "source": [
    "# Univariate Feature Selection + SVM"
   ]
  },
  {
   "cell_type": "code",
   "execution_count": 33,
   "metadata": {},
   "outputs": [],
   "source": [
    "from sklearn.feature_selection import SelectPercentile, f_classif\n",
    "from sklearn.model_selection import KFold\n",
    "from sklearn.model_selection import cross_val_score"
   ]
  },
  {
   "cell_type": "code",
   "execution_count": 45,
   "metadata": {},
   "outputs": [
    {
     "name": "stdout",
     "output_type": "stream",
     "text": [
      "Index([u'ecg_skt'], dtype='object')\n"
     ]
    }
   ],
   "source": [
    "selector = SelectPercentile(f_classif, percentile=10)\n",
    "selector.fit(xtrain, ytrain)\n",
    "\n",
    "print x_interact.columns[selector.get_support()]\n",
    "# scores = -np.log10(selector.pvalues_)\n",
    "# scores[np.isinf(scores)] = scores[np.isfinite(scores)].max()\n",
    "# scores /= scores.max()\n",
    "# plt.bar(np.arange(10), scores, width=.2)\n",
    "# plt.show()"
   ]
  },
  {
   "cell_type": "code",
   "execution_count": 46,
   "metadata": {},
   "outputs": [
    {
     "name": "stderr",
     "output_type": "stream",
     "text": [
      "[Parallel(n_jobs=-1)]: Using backend LokyBackend with 2 concurrent workers.\n",
      "[Parallel(n_jobs=-1)]: Done  46 tasks      | elapsed:   11.9s\n",
      "[Parallel(n_jobs=-1)]: Done 112 out of 112 | elapsed:   27.6s finished\n"
     ]
    }
   ],
   "source": [
    "cv = KFold(n_splits=n_subject, shuffle=False, random_state=0)\n",
    "clf = LinearSVC(C=1, tol=0.001, dual=False, fit_intercept=False, max_iter=10000, verbose=True, class_weight='balanced')\n",
    "scores = cross_val_score(clf, selector.transform(xtrain), ytrain.values.ravel(), cv=cv, n_jobs=-1, verbose=True)"
   ]
  },
  {
   "cell_type": "code",
   "execution_count": 73,
   "metadata": {},
   "outputs": [
    {
     "name": "stdout",
     "output_type": "stream",
     "text": [
      "Accuracy: 0.72 (+/- 0.03)\n"
     ]
    }
   ],
   "source": [
    "print(\"Accuracy: %0.2f (+/- %0.2f)\" % (scores.mean(), scores.std() * 2))"
   ]
  }
 ],
 "metadata": {
  "kernelspec": {
   "display_name": "Python 2",
   "language": "python",
   "name": "python2"
  },
  "language_info": {
   "codemirror_mode": {
    "name": "ipython",
    "version": 2
   },
   "file_extension": ".py",
   "mimetype": "text/x-python",
   "name": "python",
   "nbconvert_exporter": "python",
   "pygments_lexer": "ipython2",
   "version": "2.7.15"
  }
 },
 "nbformat": 4,
 "nbformat_minor": 2
}
