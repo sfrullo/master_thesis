{
 "cells": [
  {
   "cell_type": "code",
   "execution_count": 4,
   "metadata": {},
   "outputs": [
    {
     "name": "stdout",
     "output_type": "stream",
     "text": [
      "& ECG & $\\mu$ & 0.098\n",
      "& EDA & $max$ & 0.100\n",
      "& Resp & $\\mu\\left|\\Delta\\right|$ & 0.086\n",
      "& Resp & $max$ & 0.113\n",
      "& SKT & $\\mu$ & 0.113\n",
      "& SKT & $\\sigma$ & 0.142\n",
      "& SKT & $max$ & 0.102\n",
      "& SKT & $\\mu\\Delta$ & 0.246\n"
     ]
    }
   ],
   "source": [
    "def translate(s):\n",
    "    a, b = s.split('_')[0], '_'.join(s.split('_')[1:])\n",
    "    d = {\n",
    "      \"mean\" : r\"$\\mu$\",\n",
    "      \"std\" : r\"$\\sigma$\",\n",
    "      \"max\" :  r\"$max$\",\n",
    "      \"min\" :  r\"$min$\",\n",
    "      \"mean_diff\" :  r\"$\\mu\\Delta$\",\n",
    "      \"mean_abs_diff\" : r\"$\\mu\\left|\\Delta\\right|$\"\n",
    "    }\n",
    "    return a, d.get(b,a)\n",
    "    \n",
    "\n",
    "valence_coef = {\n",
    "        'ECG_mean': 0.09807427940190522,\n",
    "        \n",
    "        'EDA_max': 0.10019283401540259,\n",
    "        \n",
    "        'Resp_mean_abs_diff': 0.08552687316999075,\n",
    "        'Resp_max': 0.1125862221908211,\n",
    "        \n",
    "        'SKT_mean': 0.11325857066775111,\n",
    "        'SKT_std': 0.14247407405782794,\n",
    "        'SKT_max': 0.10169359450534807,\n",
    "        'SKT_mean_diff': 0.2461935519909532,\n",
    "    }\n",
    "\n",
    "\n",
    "for k,v in valence_coef.items():\n",
    "    a, b = translate(k)\n",
    "    print(\"& {} & {} & {:.3f}\".format(a,b,v))"
   ]
  },
  {
   "cell_type": "code",
   "execution_count": 5,
   "metadata": {},
   "outputs": [
    {
     "name": "stdout",
     "output_type": "stream",
     "text": [
      "& ECG & $max$ & 0.058\n",
      "& ECG & $\\mu\\left|\\Delta\\right|$ & 0.051\n",
      "& EDA & $max$ & 0.082\n",
      "& EDA & $\\mu\\Delta$ & 0.068\n",
      "& Pupil & Pupil & 0.077\n",
      "& Resp & $\\mu\\left|\\Delta\\right|$ & 0.062\n",
      "& SKT & $max$ & 0.089\n",
      "& SKT & $\\mu$ & 0.072\n",
      "& SKT & $\\mu\\left|\\Delta\\right|$ & 0.119\n",
      "& SKT & $\\mu\\Delta$ & 0.158\n",
      "& SKT & $min$ & 0.046\n",
      "& SKT & $\\sigma$ & 0.117\n"
     ]
    }
   ],
   "source": [
    "arousal_coef = {\n",
    "        'ECG_max': 0.058137822635354185,\n",
    "        'ECG_mean_abs_diff': 0.051035731192182916,\n",
    "\n",
    "        'EDA_max': 0.08183444828904676,\n",
    "        'EDA_mean_diff': 0.06800591558735772,\n",
    "\n",
    "        'Pupil': 0.07687269770767052,\n",
    "\n",
    "        'Resp_mean_abs_diff': 0.06166531457340039,\n",
    "\n",
    "        'SKT_max': 0.08942388636763308,\n",
    "        'SKT_mean': 0.07196941775566629,\n",
    "        'SKT_mean_abs_diff': 0.11922623301145165,\n",
    "        'SKT_mean_diff': 0.15840106562072367,\n",
    "        'SKT_min': 0.04642854825346181,\n",
    "        'SKT_std': 0.11699891900605104,\n",
    "    }\n",
    "\n",
    "for k,v in arousal_coef.items():\n",
    "    a, b = translate(k)\n",
    "    print(\"& {} & {} & {:.3f}\".format(a,b,v))"
   ]
  }
 ],
 "metadata": {
  "kernelspec": {
   "display_name": "Python 3",
   "language": "python",
   "name": "python3"
  },
  "language_info": {
   "codemirror_mode": {
    "name": "ipython",
    "version": 3
   },
   "file_extension": ".py",
   "mimetype": "text/x-python",
   "name": "python",
   "nbconvert_exporter": "python",
   "pygments_lexer": "ipython3",
   "version": "3.6.8"
  }
 },
 "nbformat": 4,
 "nbformat_minor": 2
}
