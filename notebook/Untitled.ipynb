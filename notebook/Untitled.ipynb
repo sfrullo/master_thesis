{
 "cells": [
  {
   "cell_type": "code",
   "execution_count": 14,
   "metadata": {},
   "outputs": [
    {
     "name": "stdout",
     "output_type": "stream",
     "text": [
      "& ECG & $\\mu$ & 2.53e-04\n",
      "& ECG & $\\mu\\left|\\Delta\\right|$ & 2.85e-04\n",
      "& ECG & $\\sigma$ & 5.86e-04\n",
      "& EDA & $max$ & 1.90e-03\n",
      "& EDA & $\\mu$ & 5.53e-03\n",
      "& EDA & $\\mu\\left|\\Delta\\right|$ & 7.69e-02\n",
      "& EDA & $\\mu\\Delta$ & 1.31e-03\n",
      "& EDA & $min$ & 5.40e-03\n",
      "& EDA & $\\sigma$ & 7.35e-02\n",
      "& Pupil & Pupil & 2.38e-04\n",
      "& Resp & $\\mu$ & 4.70e-03\n",
      "& Resp & $\\mu\\left|\\Delta\\right|$ & 3.74e-04\n",
      "& Resp & $min$ & 1.10e-02\n",
      "& Resp & $\\sigma$ & 1.06e-03\n",
      "& SKT & $max$ & 1.22e-01\n",
      "& SKT & $\\mu$ & 4.72e-01\n",
      "& SKT & $\\mu\\left|\\Delta\\right|$ & 6.04e-02\n",
      "& SKT & $\\mu\\Delta$ & 7.89e-04\n",
      "& SKT & $min$ & 1.19e-01\n",
      "& SKT & $\\sigma$ & 4.21e-02\n"
     ]
    }
   ],
   "source": [
    "def translate(s):\n",
    "    a, b = s.split('_')[0], '_'.join(s.split('_')[1:])\n",
    "    d = {\n",
    "      \"mean\" : r\"$\\mu$\",\n",
    "      \"std\" : r\"$\\sigma$\",\n",
    "      \"max\" :  r\"$max$\",\n",
    "      \"min\" :  r\"$min$\",\n",
    "      \"mean_diff\" :  r\"$\\mu\\Delta$\",\n",
    "      \"mean_abs_diff\" : r\"$\\mu\\left|\\Delta\\right|$\"\n",
    "    }\n",
    "    return a, d.get(b,a)\n",
    "    \n",
    "    \n",
    "\n",
    "\n",
    "valence_coef = {\n",
    "        'ECG_mean': 0.0002534551378466326,\n",
    "        'ECG_mean_abs_diff': 0.00028539459792068536,\n",
    "        'ECG_std': 0.0005858968856750096,\n",
    "        'EDA_max': 0.00190373850447656,\n",
    "        'EDA_mean': 0.005534352370923128,\n",
    "        'EDA_mean_abs_diff': 0.07694260893014118,\n",
    "        'EDA_mean_diff': 0.0013078065728508823,\n",
    "        'EDA_min': 0.005402685579010241,\n",
    "        'EDA_std': 0.07346964455856897,\n",
    "        'Pupil': 0.00023771930011394837,\n",
    "        'Resp_mean': 0.004701479874634918,\n",
    "        'Resp_mean_abs_diff': 0.00037362268913476135,\n",
    "        'Resp_min': 0.010968852598539839,\n",
    "        'Resp_std': 0.0010649517067478197,\n",
    "        'SKT_max': 0.12220413071345024,\n",
    "        'SKT_mean': 0.4724450354115858,\n",
    "        'SKT_mean_abs_diff': 0.06035387883023053,\n",
    "        'SKT_mean_diff': 0.0007891559111390124,\n",
    "        'SKT_min': 0.11911204706438626,\n",
    "        'SKT_std': 0.0420635427626236,\n",
    "}\n",
    "\n",
    "\n",
    "for k,v in valence_coef.items():\n",
    "    a, b = translate(k)\n",
    "    print(\"& {} & {} & {:.2e}\".format(a,b,v))"
   ]
  },
  {
   "cell_type": "code",
   "execution_count": 16,
   "metadata": {},
   "outputs": [
    {
     "name": "stdout",
     "output_type": "stream",
     "text": [
      "& Pupil & Pupil & 5.95e-04\n",
      "& SKT & $max$ & 3.16e-01\n",
      "& SKT & $\\mu$ & 5.38e-01\n",
      "& SKT & $\\mu\\left|\\Delta\\right|$ & 1.10e-01\n",
      "& SKT & $min$ & 2.81e-02\n",
      "& SKT & $\\sigma$ & 7.08e-03\n"
     ]
    }
   ],
   "source": [
    "arousal_coef = {\n",
    "        'Pupil': 0.0005949931151258122,\n",
    "        'SKT_max': 0.316061577030247,\n",
    "        'SKT_mean': 0.5383156107254167,\n",
    "        'SKT_mean_abs_diff': 0.10980946476153454,\n",
    "        'SKT_min': 0.02813614949566971,\n",
    "        'SKT_std': 0.007082204872006105,\n",
    "    }\n",
    "\n",
    "for k,v in arousal_coef.items():\n",
    "    a, b = translate(k)\n",
    "    print(\"& {} & {} & {:.2e}\".format(a,b,v))"
   ]
  }
 ],
 "metadata": {
  "kernelspec": {
   "display_name": "Python 3",
   "language": "python",
   "name": "python3"
  },
  "language_info": {
   "codemirror_mode": {
    "name": "ipython",
    "version": 3
   },
   "file_extension": ".py",
   "mimetype": "text/x-python",
   "name": "python",
   "nbconvert_exporter": "python",
   "pygments_lexer": "ipython3",
   "version": "3.6.8"
  }
 },
 "nbformat": 4,
 "nbformat_minor": 2
}
