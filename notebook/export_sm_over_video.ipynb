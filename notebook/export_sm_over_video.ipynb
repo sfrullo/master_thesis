{
 "cells": [
  {
   "cell_type": "markdown",
   "metadata": {},
   "source": [
    "## Summarize video with different saliency values"
   ]
  },
  {
   "cell_type": "code",
   "execution_count": 1,
   "metadata": {},
   "outputs": [],
   "source": [
    "import imageio\n",
    "import numpy as np\n",
    "\n",
    "from matplotlib.pyplot import cm\n",
    "from matplotlib.colors import ListedColormap\n",
    "\n",
    "from PIL import Image"
   ]
  },
  {
   "cell_type": "code",
   "execution_count": 2,
   "metadata": {},
   "outputs": [],
   "source": [
    "fps = 24\n",
    "second_to_skip = 10\n",
    "frames_to_skip = fps * second_to_skip"
   ]
  },
  {
   "cell_type": "code",
   "execution_count": 3,
   "metadata": {},
   "outputs": [],
   "source": [
    "cmap = cm.jet\n",
    "my_cmap = cmap(np.arange(cmap.N))\n",
    "\n",
    "# Set alpha\n",
    "my_cmap[:,-1] = np.linspace(0, 1, cmap.N)\n",
    "\n",
    "# Create new colormap\n",
    "cm_jet = ListedColormap(my_cmap)"
   ]
  },
  {
   "cell_type": "code",
   "execution_count": 4,
   "metadata": {},
   "outputs": [],
   "source": [
    "def load_data(mediafile):\n",
    "    data = np.load(\"../export/gaze_heatmap_{}.npz\".format(mediafile))\n",
    "    heatmaps = data[\"fixations_heatmaps\"][frames_to_skip:]\n",
    "    # normalize over all frames\n",
    "    return ( heatmaps - heatmaps.min() ) / ( heatmaps.max() - heatmaps.min() )"
   ]
  },
  {
   "cell_type": "code",
   "execution_count": 5,
   "metadata": {},
   "outputs": [],
   "source": [
    "def get_heatmap_frames_over_threashold(heatmaps, tr):\n",
    "    sampled_heatmaps = []\n",
    "    for index, heatmap in enumerate(heatmaps):\n",
    "        if heatmap.max() >= tr:\n",
    "            sampled_heatmaps.append((index, heatmap))\n",
    "    return sampled_heatmaps"
   ]
  },
  {
   "cell_type": "code",
   "execution_count": 6,
   "metadata": {},
   "outputs": [],
   "source": [
    "def export_to_video(mediafile, sampled_heatmaps, tr):\n",
    "    \n",
    "    media = imageio.get_reader(\"../Dataset/Mahnob/data/media_24/{}.avi\".format(mediafile))\n",
    "    output_media = imageio.get_writer(\"../export/video/sm_{}_{}.avi\".format(mediafile, tr), fps=10)\n",
    "    \n",
    "    for frame_index, heatmap in sampled_heatmaps:\n",
    "    \n",
    "        try:\n",
    "            media.set_image_index(frames_to_skip + frame_index)\n",
    "            frame = media.get_next_data()\n",
    "\n",
    "            image = Image.fromarray(frame).convert(\"RGBA\")\n",
    "\n",
    "            hm =  cm_jet(heatmap, bytes=True)\n",
    "            hm_image = Image.fromarray(hm)\n",
    "\n",
    "            image.paste(hm_image, (0,0), hm_image)\n",
    "\n",
    "            output_media.append_data(np.array(image))\n",
    "        except IndexError as e:\n",
    "            print(e)\n",
    "    \n",
    "    output_media.close()    \n",
    "\n",
    "def export_to_images(mediafile, sampled_heatmaps, tr):\n",
    "    \n",
    "    media = imageio.get_reader(\"../Dataset/Mahnob/data/media_24/{}.avi\".format(mediafile))\n",
    "    \n",
    "    for frame_index, heatmap in sampled_heatmaps:\n",
    "    \n",
    "        try:\n",
    "            output_media = imageio.get_writer(\"../export/images/sm_{}_{}_{}.png\".format(mediafile, tr, frame_index))\n",
    "\n",
    "            frame = media.get_data(frames_to_skip + frame_index)\n",
    "            image = Image.fromarray(frame).convert(\"RGBA\")\n",
    "\n",
    "            hm =  cm_jet(heatmap, bytes=True)\n",
    "            hm_image = Image.fromarray(hm)\n",
    "\n",
    "            image.paste(hm_image, (0,0), hm_image)\n",
    "\n",
    "            output_media.append_data(np.array(image))\n",
    "            output_media.close()\n",
    "        except IndexError as e:\n",
    "            print(e)"
   ]
  },
  {
   "cell_type": "code",
   "execution_count": 7,
   "metadata": {},
   "outputs": [
    {
     "name": "stderr",
     "output_type": "stream",
     "text": [
      "WARNING:root:IMAGEIO FFMPEG_WRITER WARNING: input image is not divisible by macro_block_size=16, resizing from (200, 320) to (208, 320) to ensure video compatibility with most codecs and players. To prevent resizing, make your input image divisible by the macro_block_size or set the macro_block_size to None (risking incompatibility). You may also see a FFMPEG warning concerning speedloss due to data not being aligned.\n"
     ]
    },
    {
     "name": "stdout",
     "output_type": "stream",
     "text": [
      "Reached end of video\n",
      "Reached end of video\n",
      "Reached end of video\n",
      "Reached end of video\n",
      "Reached end of video\n",
      "Reached end of video\n",
      "Reached end of video\n",
      "Reached end of video\n",
      "Reached end of video\n",
      "Reached end of video\n",
      "Reached end of video\n",
      "Reached end of video\n",
      "Reached end of video\n",
      "Reached end of video\n",
      "Reached end of video\n",
      "Reached end of video\n",
      "Reached end of video\n",
      "Reached end of video\n",
      "Reached end of video\n",
      "Reached end of video\n",
      "Reached end of video\n",
      "Reached end of video\n",
      "Reached end of video\n",
      "Reached end of video\n",
      "Reached end of video\n",
      "Reached end of video\n",
      "Reached end of video\n",
      "Reached end of video\n",
      "Reached end of video\n",
      "Reached end of video\n",
      "Reached end of video\n",
      "Reached end of video\n",
      "Reached end of video\n",
      "Reached end of video\n",
      "Reached end of video\n",
      "Reached end of video\n",
      "Reached end of video\n",
      "Reached end of video\n",
      "Reached end of video\n",
      "Reached end of video\n",
      "Reached end of video\n",
      "Reached end of video\n",
      "Reached end of video\n",
      "Reached end of video\n",
      "Reached end of video\n",
      "Reached end of video\n",
      "Reached end of video\n",
      "Reached end of video\n",
      "Reached end of video\n",
      "Reached end of video\n",
      "Reached end of video\n",
      "Reached end of video\n",
      "Reached end of video\n",
      "Reached end of video\n",
      "Reached end of video\n",
      "Reached end of video\n",
      "Reached end of video\n",
      "Reached end of video\n",
      "Reached end of video\n",
      "Reached end of video\n",
      "Reached end of video\n",
      "Reached end of video\n",
      "Reached end of video\n",
      "Reached end of video\n",
      "Reached end of video\n",
      "Reached end of video\n",
      "Reached end of video\n",
      "Reached end of video\n",
      "Reached end of video\n",
      "Reached end of video\n",
      "Reached end of video\n",
      "Reached end of video\n",
      "Reached end of video\n",
      "Reached end of video\n",
      "Reached end of video\n",
      "Reached end of video\n",
      "Reached end of video\n",
      "Reached end of video\n",
      "Reached end of video\n",
      "Reached end of video\n",
      "Reached end of video\n",
      "Reached end of video\n",
      "Reached end of video\n",
      "Reached end of video\n",
      "Reached end of video\n",
      "Reached end of video\n",
      "Reached end of video\n",
      "Reached end of video\n",
      "Reached end of video\n",
      "Reached end of video\n",
      "Reached end of video\n",
      "Reached end of video\n",
      "Reached end of video\n",
      "Reached end of video\n",
      "Reached end of video\n",
      "Reached end of video\n",
      "Reached end of video\n",
      "Reached end of video\n",
      "Reached end of video\n",
      "Reached end of video\n",
      "Reached end of video\n",
      "Reached end of video\n"
     ]
    },
    {
     "name": "stderr",
     "output_type": "stream",
     "text": [
      "WARNING:root:IMAGEIO FFMPEG_WRITER WARNING: input image is not divisible by macro_block_size=16, resizing from (200, 320) to (208, 320) to ensure video compatibility with most codecs and players. To prevent resizing, make your input image divisible by the macro_block_size or set the macro_block_size to None (risking incompatibility). You may also see a FFMPEG warning concerning speedloss due to data not being aligned.\n",
      "WARNING:root:IMAGEIO FFMPEG_WRITER WARNING: input image is not divisible by macro_block_size=16, resizing from (200, 320) to (208, 320) to ensure video compatibility with most codecs and players. To prevent resizing, make your input image divisible by the macro_block_size or set the macro_block_size to None (risking incompatibility). You may also see a FFMPEG warning concerning speedloss due to data not being aligned.\n",
      "WARNING:root:IMAGEIO FFMPEG_WRITER WARNING: input image is not divisible by macro_block_size=16, resizing from (200, 320) to (208, 320) to ensure video compatibility with most codecs and players. To prevent resizing, make your input image divisible by the macro_block_size or set the macro_block_size to None (risking incompatibility). You may also see a FFMPEG warning concerning speedloss due to data not being aligned.\n",
      "WARNING:root:IMAGEIO FFMPEG_WRITER WARNING: input image is not divisible by macro_block_size=16, resizing from (200, 320) to (208, 320) to ensure video compatibility with most codecs and players. To prevent resizing, make your input image divisible by the macro_block_size or set the macro_block_size to None (risking incompatibility). You may also see a FFMPEG warning concerning speedloss due to data not being aligned.\n",
      "WARNING:root:IMAGEIO FFMPEG_WRITER WARNING: input image is not divisible by macro_block_size=16, resizing from (200, 320) to (208, 320) to ensure video compatibility with most codecs and players. To prevent resizing, make your input image divisible by the macro_block_size or set the macro_block_size to None (risking incompatibility). You may also see a FFMPEG warning concerning speedloss due to data not being aligned.\n",
      "WARNING:root:IMAGEIO FFMPEG_WRITER WARNING: input image is not divisible by macro_block_size=16, resizing from (200, 320) to (208, 320) to ensure video compatibility with most codecs and players. To prevent resizing, make your input image divisible by the macro_block_size or set the macro_block_size to None (risking incompatibility). You may also see a FFMPEG warning concerning speedloss due to data not being aligned.\n",
      "WARNING:root:IMAGEIO FFMPEG_WRITER WARNING: input image is not divisible by macro_block_size=16, resizing from (200, 320) to (208, 320) to ensure video compatibility with most codecs and players. To prevent resizing, make your input image divisible by the macro_block_size or set the macro_block_size to None (risking incompatibility). You may also see a FFMPEG warning concerning speedloss due to data not being aligned.\n",
      "WARNING:root:IMAGEIO FFMPEG_WRITER WARNING: input image is not divisible by macro_block_size=16, resizing from (200, 320) to (208, 320) to ensure video compatibility with most codecs and players. To prevent resizing, make your input image divisible by the macro_block_size or set the macro_block_size to None (risking incompatibility). You may also see a FFMPEG warning concerning speedloss due to data not being aligned.\n",
      "WARNING:root:IMAGEIO FFMPEG_WRITER WARNING: input image is not divisible by macro_block_size=16, resizing from (200, 320) to (208, 320) to ensure video compatibility with most codecs and players. To prevent resizing, make your input image divisible by the macro_block_size or set the macro_block_size to None (risking incompatibility). You may also see a FFMPEG warning concerning speedloss due to data not being aligned.\n",
      "WARNING:root:IMAGEIO FFMPEG_WRITER WARNING: input image is not divisible by macro_block_size=16, resizing from (200, 320) to (208, 320) to ensure video compatibility with most codecs and players. To prevent resizing, make your input image divisible by the macro_block_size or set the macro_block_size to None (risking incompatibility). You may also see a FFMPEG warning concerning speedloss due to data not being aligned.\n",
      "WARNING:root:IMAGEIO FFMPEG_WRITER WARNING: input image is not divisible by macro_block_size=16, resizing from (200, 320) to (208, 320) to ensure video compatibility with most codecs and players. To prevent resizing, make your input image divisible by the macro_block_size or set the macro_block_size to None (risking incompatibility). You may also see a FFMPEG warning concerning speedloss due to data not being aligned.\n",
      "WARNING:root:IMAGEIO FFMPEG_WRITER WARNING: input image is not divisible by macro_block_size=16, resizing from (200, 320) to (208, 320) to ensure video compatibility with most codecs and players. To prevent resizing, make your input image divisible by the macro_block_size or set the macro_block_size to None (risking incompatibility). You may also see a FFMPEG warning concerning speedloss due to data not being aligned.\n",
      "WARNING:root:IMAGEIO FFMPEG_WRITER WARNING: input image is not divisible by macro_block_size=16, resizing from (200, 320) to (208, 320) to ensure video compatibility with most codecs and players. To prevent resizing, make your input image divisible by the macro_block_size or set the macro_block_size to None (risking incompatibility). You may also see a FFMPEG warning concerning speedloss due to data not being aligned.\n",
      "WARNING:root:IMAGEIO FFMPEG_WRITER WARNING: input image is not divisible by macro_block_size=16, resizing from (200, 320) to (208, 320) to ensure video compatibility with most codecs and players. To prevent resizing, make your input image divisible by the macro_block_size or set the macro_block_size to None (risking incompatibility). You may also see a FFMPEG warning concerning speedloss due to data not being aligned.\n",
      "WARNING:root:IMAGEIO FFMPEG_WRITER WARNING: input image is not divisible by macro_block_size=16, resizing from (200, 320) to (208, 320) to ensure video compatibility with most codecs and players. To prevent resizing, make your input image divisible by the macro_block_size or set the macro_block_size to None (risking incompatibility). You may also see a FFMPEG warning concerning speedloss due to data not being aligned.\n",
      "WARNING:root:IMAGEIO FFMPEG_WRITER WARNING: input image is not divisible by macro_block_size=16, resizing from (200, 320) to (208, 320) to ensure video compatibility with most codecs and players. To prevent resizing, make your input image divisible by the macro_block_size or set the macro_block_size to None (risking incompatibility). You may also see a FFMPEG warning concerning speedloss due to data not being aligned.\n"
     ]
    },
    {
     "name": "stdout",
     "output_type": "stream",
     "text": [
      "Reached end of video\n"
     ]
    },
    {
     "name": "stderr",
     "output_type": "stream",
     "text": [
      "WARNING:root:IMAGEIO FFMPEG_WRITER WARNING: input image is not divisible by macro_block_size=16, resizing from (200, 320) to (208, 320) to ensure video compatibility with most codecs and players. To prevent resizing, make your input image divisible by the macro_block_size or set the macro_block_size to None (risking incompatibility). You may also see a FFMPEG warning concerning speedloss due to data not being aligned.\n",
      "WARNING:root:IMAGEIO FFMPEG_WRITER WARNING: input image is not divisible by macro_block_size=16, resizing from (200, 320) to (208, 320) to ensure video compatibility with most codecs and players. To prevent resizing, make your input image divisible by the macro_block_size or set the macro_block_size to None (risking incompatibility). You may also see a FFMPEG warning concerning speedloss due to data not being aligned.\n",
      "WARNING:root:IMAGEIO FFMPEG_WRITER WARNING: input image is not divisible by macro_block_size=16, resizing from (200, 320) to (208, 320) to ensure video compatibility with most codecs and players. To prevent resizing, make your input image divisible by the macro_block_size or set the macro_block_size to None (risking incompatibility). You may also see a FFMPEG warning concerning speedloss due to data not being aligned.\n",
      "WARNING:root:IMAGEIO FFMPEG_WRITER WARNING: input image is not divisible by macro_block_size=16, resizing from (200, 320) to (208, 320) to ensure video compatibility with most codecs and players. To prevent resizing, make your input image divisible by the macro_block_size or set the macro_block_size to None (risking incompatibility). You may also see a FFMPEG warning concerning speedloss due to data not being aligned.\n"
     ]
    }
   ],
   "source": [
    "for mediafile in [30, 53, 69, 90, 111]:\n",
    "    \n",
    "    heatmaps = load_data(mediafile)\n",
    "    \n",
    "    for tr in [0.2, 0.5, 0.7, 0.8, 0.9]:\n",
    "\n",
    "        sampled_heatmaps = get_heatmap_frames_over_threashold(heatmaps, tr)\n",
    "\n",
    "        if len(sampled_heatmaps) > 10:\n",
    "            export_to_video(mediafile, sampled_heatmaps, tr)\n",
    "        else:\n",
    "            export_to_images(mediafile, sampled_heatmaps, tr)"
   ]
  },
  {
   "cell_type": "code",
   "execution_count": 8,
   "metadata": {},
   "outputs": [
    {
     "data": {
      "text/plain": [
       "7"
      ]
     },
     "execution_count": 8,
     "metadata": {},
     "output_type": "execute_result"
    }
   ],
   "source": [
    "import gc\n",
    "gc.collect()"
   ]
  }
 ],
 "metadata": {
  "kernelspec": {
   "display_name": "Python 3",
   "language": "python",
   "name": "python3"
  },
  "language_info": {
   "codemirror_mode": {
    "name": "ipython",
    "version": 3
   },
   "file_extension": ".py",
   "mimetype": "text/x-python",
   "name": "python",
   "nbconvert_exporter": "python",
   "pygments_lexer": "ipython3",
   "version": "3.6.8"
  }
 },
 "nbformat": 4,
 "nbformat_minor": 2
}
