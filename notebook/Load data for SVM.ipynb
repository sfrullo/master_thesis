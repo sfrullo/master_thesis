{
 "cells": [
  {
   "cell_type": "code",
   "execution_count": 1,
   "metadata": {},
   "outputs": [],
   "source": [
    "import glob\n",
    "import numpy as np\n",
    "import pandas as pd"
   ]
  },
  {
   "cell_type": "code",
   "execution_count": 2,
   "metadata": {},
   "outputs": [],
   "source": [
    "files = map(np.load, glob.glob(\"../export/data/feature_data_*.npz\"))"
   ]
  },
  {
   "cell_type": "code",
   "execution_count": 3,
   "metadata": {},
   "outputs": [],
   "source": [
    "selected_signals = ['ECG', 'EDA',  'Resp', 'SKT']\n",
    "selected_attribute = ['mean', 'std', 'min', 'max', 'mean_diff', 'mean_abs_diff']\n",
    "\n",
    "n_selected_signals = len(selected_signals)\n",
    "n_selected_attribute = len(selected_attribute)\n",
    "\n",
    "n_subject = len(files)\n",
    "\n",
    "skip_sample = 100\n",
    "number_of_sample = 800"
   ]
  },
  {
   "cell_type": "code",
   "execution_count": 4,
   "metadata": {
    "scrolled": true
   },
   "outputs": [],
   "source": [
    "x_valence = pd.DataFrame()\n",
    "x_arousal = pd.DataFrame()\n",
    "y_valence = []\n",
    "y_arousal = []\n",
    "\n",
    "for f in files[:n_subject]:\n",
    "\n",
    "    session = f[\"session_info\"].tolist()\n",
    "    sid = int(session[\"sessionId\"])\n",
    "\n",
    "    mediafile = session[\"mediaFile\"]\n",
    "    \n",
    "    valence = int(session[\"feltVlnc\"])\n",
    "    arousal = int(session[\"feltArsl\"])\n",
    "\n",
    "    data_valence = pd.DataFrame()\n",
    "    data_arousal = pd.DataFrame()\n",
    "\n",
    "    for signal in selected_signals:\n",
    "        for attribute in selected_attribute:\n",
    "\n",
    "            # add a column for each feature\n",
    "            column = signal + \"_\" + attribute\n",
    "            data_valence[column] = f[\"valence\"].tolist()[column][skip_sample:skip_sample + number_of_sample]            \n",
    "            data_arousal[column] = f[\"arousal\"].tolist()[column][skip_sample:skip_sample + number_of_sample]\n",
    "\n",
    "        # add a label for each timestep\n",
    "        data_valence[\"label\"] = valence\n",
    "        data_arousal[\"label\"] = arousal\n",
    "        \n",
    "    # concatenate all subjects' data\n",
    "    x_valence = pd.concat([x_valence, data_valence], ignore_index=True)\n",
    "    x_arousal = pd.concat([x_arousal, data_arousal], ignore_index=True)\n",
    "\n",
    "# split labels from data\n",
    "y_valence = x_valence[\"label\"]\n",
    "y_arousal = x_arousal[\"label\"]\n",
    "\n",
    "x_valence = x_valence.drop([\"label\"], axis=1)\n",
    "x_arousal = x_arousal.drop([\"label\"], axis=1)\n",
    "\n",
    "# Remove nan values\n",
    "x_valence = x_valence.fillna(x_valence.median())\n",
    "x_arousal = x_arousal.fillna(x_arousal.median())"
   ]
  },
  {
   "cell_type": "code",
   "execution_count": 7,
   "metadata": {},
   "outputs": [
    {
     "name": "stdout",
     "output_type": "stream",
     "text": [
      "(321600, 24)\n",
      "(321600,)\n",
      "(321600, 24)\n",
      "(321600,)\n",
      "Index([u'ECG_mean', u'ECG_std', u'ECG_min', u'ECG_max', u'ECG_mean_diff',\n",
      "       u'ECG_mean_abs_diff', u'EDA_mean', u'EDA_std', u'EDA_min', u'EDA_max',\n",
      "       u'EDA_mean_diff', u'EDA_mean_abs_diff', u'Resp_mean', u'Resp_std',\n",
      "       u'Resp_min', u'Resp_max', u'Resp_mean_diff', u'Resp_mean_abs_diff',\n",
      "       u'SKT_mean', u'SKT_std', u'SKT_min', u'SKT_max', u'SKT_mean_diff',\n",
      "       u'SKT_mean_abs_diff'],\n",
      "      dtype='object')\n"
     ]
    }
   ],
   "source": [
    "print x_valence.shape\n",
    "print y_valence.shape\n",
    "\n",
    "print x_arousal.shape\n",
    "print y_arousal.shape\n",
    "\n",
    "print x_valence.columns"
   ]
  },
  {
   "cell_type": "code",
   "execution_count": 8,
   "metadata": {},
   "outputs": [],
   "source": [
    "np.save(\"data_valence_physio_for_svm.npy\", x_valence)\n",
    "np.save(\"data_valence_label_for_svm.npy\", y_valence)\n",
    "\n",
    "np.save(\"data_arousal_physio_for_svm.npy\", x_arousal)\n",
    "np.save(\"data_arousal_label_for_svm.npy\", y_arousal)\n",
    "\n",
    "np.save(\"data_columns.npy\", x_valence.columns)"
   ]
  }
 ],
 "metadata": {
  "kernelspec": {
   "display_name": "Python 2",
   "language": "python",
   "name": "python2"
  },
  "language_info": {
   "codemirror_mode": {
    "name": "ipython",
    "version": 2
   },
   "file_extension": ".py",
   "mimetype": "text/x-python",
   "name": "python",
   "nbconvert_exporter": "python",
   "pygments_lexer": "ipython2",
   "version": "2.7.15"
  }
 },
 "nbformat": 4,
 "nbformat_minor": 2
}
