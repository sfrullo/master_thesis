{
 "cells": [
  {
   "cell_type": "code",
   "execution_count": 3,
   "metadata": {},
   "outputs": [],
   "source": [
    "import glob\n",
    "import numpy as np\n",
    "import pandas as pd\n",
    "import scipy.signal as sig"
   ]
  },
  {
   "cell_type": "code",
   "execution_count": 102,
   "metadata": {},
   "outputs": [],
   "source": [
    "def search_sessions_by_media(mediafile):\n",
    "    files = map(lambda x: np.load(x, encoding=\"latin1\"), glob.glob(\"../export/data/gaze_data_*.npz\"))\n",
    "    return [ f for f in files if f['session_info'].tolist()[\"mediaFile\"] == '{}.avi'.format(mediafile) ]\n",
    "\n",
    "def get_feature_data_by_mediafile(mediafile):\n",
    "    valence = pd.DataFrame.from_csv('valence_combined_feature_{}.csv'.format(mediafile))\n",
    "    arousal = pd.DataFrame.from_csv('arousal_combined_feature_{}.csv'.format(mediafile))\n",
    "    return valence, arousal\n",
    "\n",
    "def export_gaze_data(mediafile):\n",
    "\n",
    "    valid_files = search_sessions_by_media(mediafile)\n",
    "    \n",
    "    valence, arousal = get_feature_data_by_mediafile(mediafile)\n",
    "    \n",
    "    max_len = valence.shape[0]\n",
    "    \n",
    "    coordinates_data = None\n",
    "    fixations_data = None\n",
    "\n",
    "    for f in valid_files:\n",
    "\n",
    "        sid = f[\"session_info\"].tolist().get(\"sessionId\")\n",
    "            \n",
    "        coordinates = pd.DataFrame(f[\"coordinates\"], columns=[\"x\", \"y\"])[:max_len]\n",
    "        fixations = pd.DataFrame(f[\"fixations\"], columns=[\"x\", \"y\", 'd'])[:max_len]\n",
    "        distance = pd.DataFrame(f[\"mean_distance\"][0], columns=['distance'])[:max_len]\n",
    "\n",
    "        coordinates[sid] = list(zip(coordinates['x'], coordinates['y'], distance['distance'], valence[sid]))\n",
    "        fixations[sid] = list(zip(fixations['x'], fixations['y'], fixations['d'], distance['distance'], valence[sid]))\n",
    "\n",
    "        coordinates = coordinates.drop([\"x\", \"y\"], axis=1)\n",
    "        fixations = fixations.drop([\"x\", \"y\", 'd'], axis=1)\n",
    "\n",
    "        if coordinates_data is None:\n",
    "            coordinates_data = coordinates\n",
    "            fixations_data = fixations\n",
    "        else:\n",
    "            coordinates_data = pd.concat([coordinates_data, coordinates], axis=1)\n",
    "            fixations_data = pd.concat([fixations_data, fixations], axis=1)\n",
    "            \n",
    "    return coordinates_data, fixations_data"
   ]
  },
  {
   "cell_type": "code",
   "execution_count": 111,
   "metadata": {},
   "outputs": [
    {
     "name": "stderr",
     "output_type": "stream",
     "text": [
      "/opt/conda/envs/python2/lib/python2.7/site-packages/ipykernel_launcher.py:6: FutureWarning: from_csv is deprecated. Please use read_csv(...) instead. Note that some of the default arguments are different, so please refer to the documentation for from_csv when changing your function calls\n",
      "  \n",
      "/opt/conda/envs/python2/lib/python2.7/site-packages/ipykernel_launcher.py:7: FutureWarning: from_csv is deprecated. Please use read_csv(...) instead. Note that some of the default arguments are different, so please refer to the documentation for from_csv when changing your function calls\n",
      "  import sys\n"
     ]
    }
   ],
   "source": [
    "for mediafile in [30, 53, 69, 90, 111]:\n",
    "    coord_data, fix_data = export_gaze_data(mediafile=mediafile)\n",
    "    coord_data.to_csv(\"sm_data_coord_{}.csv\".format(mediafile))\n",
    "    fix_data.to_csv(\"sm_data_fix_{}.csv\".format(mediafile))"
   ]
  }
 ],
 "metadata": {
  "kernelspec": {
   "display_name": "Python 2",
   "language": "python",
   "name": "python2"
  },
  "language_info": {
   "codemirror_mode": {
    "name": "ipython",
    "version": 2
   },
   "file_extension": ".py",
   "mimetype": "text/x-python",
   "name": "python",
   "nbconvert_exporter": "python",
   "pygments_lexer": "ipython2",
   "version": "2.7.15"
  }
 },
 "nbformat": 4,
 "nbformat_minor": 2
}
