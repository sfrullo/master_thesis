{
 "cells": [
  {
   "cell_type": "code",
   "execution_count": 1,
   "metadata": {},
   "outputs": [],
   "source": [
    "import glob\n",
    "import numpy as np\n",
    "import pandas as pd"
   ]
  },
  {
   "cell_type": "code",
   "execution_count": 2,
   "metadata": {},
   "outputs": [],
   "source": [
    "files = map(np.load, glob.glob(\"../export/data/feature_data_*.npz\"))"
   ]
  },
  {
   "cell_type": "code",
   "execution_count": 3,
   "metadata": {},
   "outputs": [],
   "source": [
    "selected_signals = ['ECG', 'EDA',  'Resp', 'SKT']\n",
    "selected_attribute = ['mean', 'std', 'min', 'max', 'mean_diff', 'mean_abs_diff']\n",
    "\n",
    "n_selected_signals = len(selected_signals)\n",
    "n_selected_attribute = len(selected_attribute)\n",
    "\n",
    "n_subject = len(files)\n",
    "\n",
    "skip_sample = 100\n",
    "number_of_sample = 800"
   ]
  },
  {
   "cell_type": "code",
   "execution_count": 4,
   "metadata": {
    "scrolled": true
   },
   "outputs": [],
   "source": [
    "x_valence = pd.DataFrame()\n",
    "x_arousal = pd.DataFrame()\n",
    "y_valence = []\n",
    "y_arousal = []\n",
    "\n",
    "for f in files[:n_subject]:\n",
    "\n",
    "    session = f[\"session_info\"].tolist()\n",
    "    sid = int(session[\"sessionId\"])\n",
    "\n",
    "    mediafile = session[\"mediaFile\"]\n",
    "    \n",
    "    valence = int(session[\"feltVlnc\"])\n",
    "    arousal = int(session[\"feltArsl\"])\n",
    "\n",
    "    data_valence = pd.DataFrame()\n",
    "    data_arousal = pd.DataFrame()\n",
    "\n",
    "    for signal in selected_signals:\n",
    "        for attribute in selected_attribute:\n",
    "\n",
    "            # add a column for each feature\n",
    "            column = signal + \"_\" + attribute\n",
    "            data_valence[column] = f[\"valence\"].tolist()[column][skip_sample:skip_sample + number_of_sample]\n",
    "            data_arousal[column] = f[\"arousal\"].tolist()[column][skip_sample:skip_sample + number_of_sample]\n",
    "\n",
    "    # concatenate all subjects' data\n",
    "    x_valence = pd.concat([x_valence, data_valence], ignore_index=True)\n",
    "    x_arousal = pd.concat([x_arousal, data_arousal], ignore_index=True)\n",
    "\n",
    "    # add a valence label for each timestep\n",
    "    y_valence.append(valence)\n",
    "    y_arousal.append(arousal)\n",
    "\n",
    "# reshape to CNN input shape\n",
    "x_valence = x_valence.fillna(x_valence.median())\n",
    "x_arousal = x_arousal.fillna(x_arousal.median())\n",
    "\n",
    "x_valence = x_valence.values.reshape(n_subject, number_of_sample, n_selected_attribute*n_selected_signals)\n",
    "x_arousal = x_arousal.values.reshape(n_subject, number_of_sample, n_selected_attribute*n_selected_signals)\n",
    "\n",
    "# reduce class numbers\n",
    "y_valence = pd.DataFrame(y_valence)\n",
    "y_arousal = pd.DataFrame(y_arousal)"
   ]
  },
  {
   "cell_type": "code",
   "execution_count": 6,
   "metadata": {},
   "outputs": [
    {
     "name": "stdout",
     "output_type": "stream",
     "text": [
      "(402, 800, 24)\n",
      "(402, 1)\n",
      "(402, 800, 24)\n",
      "(402, 1)\n"
     ]
    }
   ],
   "source": [
    "print x_valence.shape\n",
    "print y_valence.shape\n",
    "\n",
    "print x_arousal.shape\n",
    "print y_arousal.shape"
   ]
  },
  {
   "cell_type": "code",
   "execution_count": 7,
   "metadata": {},
   "outputs": [],
   "source": [
    "np.save(\"data_valence_physio_for_cnn.npy\", x_valence)\n",
    "np.save(\"data_valence_label_for_cnn.npy\", y_valence)\n",
    "\n",
    "np.save(\"data_arousal_physio_for_cnn.npy\", x_arousal)\n",
    "np.save(\"data_arousal_label_for_cnn.npy\", y_arousal)"
   ]
  }
 ],
 "metadata": {
  "kernelspec": {
   "display_name": "Python 2",
   "language": "python",
   "name": "python2"
  },
  "language_info": {
   "codemirror_mode": {
    "name": "ipython",
    "version": 2
   },
   "file_extension": ".py",
   "mimetype": "text/x-python",
   "name": "python",
   "nbconvert_exporter": "python",
   "pygments_lexer": "ipython2",
   "version": "2.7.15"
  }
 },
 "nbformat": 4,
 "nbformat_minor": 2
}
