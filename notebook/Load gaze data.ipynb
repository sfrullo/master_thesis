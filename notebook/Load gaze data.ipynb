{
 "cells": [
  {
   "cell_type": "code",
   "execution_count": 1,
   "metadata": {},
   "outputs": [],
   "source": [
    "import glob\n",
    "import numpy as np\n",
    "import pandas as pd\n",
    "import scipy.signal as sig"
   ]
  },
  {
   "cell_type": "code",
   "execution_count": 2,
   "metadata": {},
   "outputs": [],
   "source": [
    "files = map(np.load, glob.glob(\"../export/data/gaze_data_*.npz\"))"
   ]
  },
  {
   "cell_type": "code",
   "execution_count": 3,
   "metadata": {},
   "outputs": [],
   "source": [
    "sessions_to_skip = {\n",
    "    30   : [800, 1178, 1712, 2628, 3646],\n",
    "    53   : [426, 814, 3028, 3538],\n",
    "    69   : [1726, 2866, 3134, 3670],\n",
    "    90   : [664, 932, 1714, 3012],\n",
    "    111  : [32, 1210, 2354, 3158]\n",
    "}\n",
    "\n",
    "def resample(data, old_fps, new_fps):\n",
    "    new_size = new_fps * data.size / old_fps\n",
    "    return sig.resample(data, int(new_size))\n",
    "\n",
    "def export_gaze_data(mediafile):\n",
    "\n",
    "    valid_files = [ \n",
    "        f\n",
    "        for f in files \n",
    "        if f[\"session_info\"].tolist().get(\"mediaFile\") == \"{}.avi\".format(mediafile) \n",
    "    ]\n",
    "\n",
    "    sinfo = []\n",
    "    coordinates_data = []\n",
    "    fixations_data = []\n",
    "    coordinates_data_resampled = []\n",
    "    fixations_data_resampled = []\n",
    "\n",
    "    for f in valid_files:\n",
    "            sid = f[\"session_info\"].tolist().get(\"sessionId\")\n",
    "            if sid not in sessions_to_skip[mediafile]:\n",
    "                sinfo.append(f[\"session_info\"].tolist())\n",
    "                \n",
    "                coordinates = f[\"coordinates\"]\n",
    "                coordinates_resampled = resample(coordinates, 60, 24)\n",
    "                coordinates_data.append(coordinates)\n",
    "                coordinates_data_resampled.append(coordinates_resampled)\n",
    "                \n",
    "                fixations = f[\"fixations\"]\n",
    "                fixations_resampled = resample(fixations, 60, 24)\n",
    "                fixations_data.append(fixations)\n",
    "                fixations_data_resampled.append(fixations_resampled)\n",
    "\n",
    "    coordinates_data = np.array(zip(*coordinates_data))\n",
    "    coordinates_data_resampled = np.array(zip(*coordinates_data_resampled))\n",
    "    fixations_data = np.array(zip(*fixations_data))\n",
    "    fixations_data_resampled = np.array(zip(*fixations_data_resampled))\n",
    "    \n",
    "    np.save(\"../export/sinfo_without_bad_session_{}.npy\".format(mediafile), sinfo)\n",
    "    np.save(\"../export/coordinates_data_without_bad_session_{}.npy\".format(mediafile), coordinates_data)\n",
    "    np.save(\"../export/coordinates_data_resampled_without_bad_session_{}.npy\".format(mediafile), coordinates_data_resampled)\n",
    "    np.save(\"../export/fixations_data_without_bad_session_{}.npy\".format(mediafile), fixations_data)\n",
    "    np.save(\"../export/fixations_data_resampled_without_bad_session_{}.npy\".format(mediafile), fixations_data_resampled)\n",
    "    \n",
    "    del coordinates_data\n",
    "    del coordinates_data_resampled\n",
    "    del fixations_data\n",
    "    del fixations_data_resampled"
   ]
  },
  {
   "cell_type": "code",
   "execution_count": 4,
   "metadata": {},
   "outputs": [],
   "source": [
    "for mediafile in [30, 53, 69, 90, 111]:\n",
    "    export_gaze_data(mediafile=mediafile)"
   ]
  }
 ],
 "metadata": {
  "kernelspec": {
   "display_name": "Python 2",
   "language": "python",
   "name": "python2"
  },
  "language_info": {
   "codemirror_mode": {
    "name": "ipython",
    "version": 2
   },
   "file_extension": ".py",
   "mimetype": "text/x-python",
   "name": "python",
   "nbconvert_exporter": "python",
   "pygments_lexer": "ipython2",
   "version": "2.7.15"
  }
 },
 "nbformat": 4,
 "nbformat_minor": 2
}
