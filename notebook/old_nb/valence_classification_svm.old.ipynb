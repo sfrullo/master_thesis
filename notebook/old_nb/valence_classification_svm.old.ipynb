{
 "cells": [
  {
   "cell_type": "code",
   "execution_count": 1,
   "metadata": {},
   "outputs": [],
   "source": [
    "import numpy as np\n",
    "import matplotlib.pyplot as plt\n",
    "import pandas as pd\n",
    "from sklearn import svm\n",
    "from sklearn.model_selection import train_test_split\n",
    "from sklearn.preprocessing import OneHotEncoder\n",
    "\n",
    "from sklearn.svm import LinearSVC, SVC\n",
    "from sklearn.feature_selection import RFECV\n",
    "\n",
    "from sklearn.model_selection import StratifiedKFold\n",
    "from sklearn.model_selection import cross_val_score\n",
    "\n",
    "# fix random seed for reproducibility\n",
    "seed = 7\n",
    "np.random.seed(seed)"
   ]
  },
  {
   "cell_type": "markdown",
   "metadata": {},
   "source": [
    "## Load data"
   ]
  },
  {
   "cell_type": "code",
   "execution_count": 2,
   "metadata": {
    "scrolled": true
   },
   "outputs": [],
   "source": [
    "def get_data():\n",
    "    \n",
    "    try:\n",
    "        columns = np.load(\"data_columns.npy\")\n",
    "        X = np.load(\"data_valence_physio_for_svm.npy\")\n",
    "        Y = np.load(\"data_valence_label_for_svm.npy\")\n",
    "        return pd.DataFrame(X, columns=columns), pd.DataFrame(Y)\n",
    "    except:\n",
    "        print \"No stored files found.. load from files first\""
   ]
  },
  {
   "cell_type": "code",
   "execution_count": 3,
   "metadata": {},
   "outputs": [
    {
     "name": "stdout",
     "output_type": "stream",
     "text": [
      "(321600, 24)\n",
      "(321600, 1)\n"
     ]
    }
   ],
   "source": [
    "X, Y = get_data()\n",
    "print X.shape\n",
    "print Y.shape"
   ]
  },
  {
   "cell_type": "code",
   "execution_count": 4,
   "metadata": {},
   "outputs": [
    {
     "data": {
      "text/plain": [
       "array([[<matplotlib.axes._subplots.AxesSubplot object at 0x7f8b628a8190>]],\n",
       "      dtype=object)"
      ]
     },
     "execution_count": 4,
     "metadata": {},
     "output_type": "execute_result"
    },
    {
     "data": {
      "image/png": "[encoded data removed]",
      "text/plain": [
       "<Figure size 432x288 with 1 Axes>"
      ]
     },
     "metadata": {
      "needs_background": "light"
     },
     "output_type": "display_data"
    }
   ],
   "source": [
    "# binarize the problem\n",
    "Y[Y<=4] = 0\n",
    "Y[Y>=5] = 1\n",
    "Y.hist(bins=2)"
   ]
  },
  {
   "cell_type": "markdown",
   "metadata": {},
   "source": [
    "## Create train and test set"
   ]
  },
  {
   "cell_type": "code",
   "execution_count": null,
   "metadata": {
    "scrolled": true
   },
   "outputs": [],
   "source": [
    "xtrain, xval, ytrain, yval = train_test_split(X, Y, test_size=.2, shuffle=False)\n",
    "print xtrain.shape\n",
    "print ytrain.shape\n",
    "print xval.shape\n",
    "print yval.shape"
   ]
  },
  {
   "cell_type": "markdown",
   "metadata": {},
   "source": [
    "## LinearSVC train and test"
   ]
  },
  {
   "cell_type": "code",
   "execution_count": 6,
   "metadata": {
    "scrolled": true
   },
   "outputs": [
    {
     "name": "stdout",
     "output_type": "stream",
     "text": [
      "[LibLinear][LibLinear][LibLinear][LibLinear][LibLinear]Accuracy: 55.35% (0.15%)\n"
     ]
    }
   ],
   "source": [
    "lsvc = LinearSVC(C=1, tol=1e-4, dual=False, fit_intercept=True, class_weight='balanced', verbose=True)\n",
    "\n",
    "# evaluate using 5-fold cross validation\n",
    "cv = StratifiedKFold(n_splits=5, shuffle=True, random_state=seed)\n",
    "results = cross_val_score(lsvc, X, Y, cv=cv, verbose=0)\n",
    "\n",
    "print()\n",
    "print(\"Accuracy: %.2f%% (%.2f%%)\" % (results.mean()*100, results.std()*100))"
   ]
  },
  {
   "cell_type": "markdown",
   "metadata": {},
   "source": [
    "## KBest Feature selection + SVC"
   ]
  },
  {
   "cell_type": "code",
   "execution_count": null,
   "metadata": {},
   "outputs": [],
   "source": [
    "# Such a large set of features can cause overfitting and also slow computing\n",
    "# Use feature selection to select the most important features\n",
    "import sklearn.feature_selection"
   ]
  },
  {
   "cell_type": "code",
   "execution_count": null,
   "metadata": {},
   "outputs": [],
   "source": [
    "scores_by_kbest = []\n",
    "\n",
    "for k in range(1,24):\n",
    "\n",
    "    kbest_selector = sklearn.feature_selection.SelectKBest(k=k)\n",
    "    kbest_selector.fit(xtrain, ytrain)\n",
    "    \n",
    "    lsvc = LinearSVC(C=1, tol=1e-4, dual=False, fit_intercept=True, class_weight='balanced', verbose=True)\n",
    "    lsvc.fit(kbest_selector.transform(xtrain), ytrain.values.ravel())\n",
    "    score = lsvc.score(kbest_selector.transform(xval), yval.values.ravel())\n",
    "\n",
    "    ks = {\n",
    "        \"feature\" : xtrain.columns[kbest_selector.get_support()],\n",
    "        \"score\" : score\n",
    "    }\n",
    "    \n",
    "    scores_by_kbest.append(ks)"
   ]
  },
  {
   "cell_type": "code",
   "execution_count": null,
   "metadata": {},
   "outputs": [],
   "source": [
    "scores = [ s[\"score\"] for s in scores_by_kbest ]\n",
    "plt.figure(figsize=(15,5))\n",
    "plt.xlabel(\"Number of features selected\")\n",
    "plt.ylabel(\"Validation score (nb of correct classifications)\")\n",
    "plt.plot(np.arange(len(scores)), scores)\n",
    "plt.show()"
   ]
  },
  {
   "cell_type": "code",
   "execution_count": null,
   "metadata": {},
   "outputs": [],
   "source": [
    "max_score = max(scores_by_kbest, key=lambda x: x[\"score\"])\n",
    "print max_score[\"feature\"]\n",
    "print max_score[\"score\"]"
   ]
  },
  {
   "cell_type": "markdown",
   "metadata": {},
   "source": [
    "## Univariate Feature Selection + SVC"
   ]
  },
  {
   "cell_type": "code",
   "execution_count": null,
   "metadata": {},
   "outputs": [],
   "source": [
    "from sklearn.feature_selection import SelectPercentile, f_classif"
   ]
  },
  {
   "cell_type": "code",
   "execution_count": null,
   "metadata": {},
   "outputs": [],
   "source": [
    "selector = SelectPercentile(f_classif, percentile=10)\n",
    "selector.fit(xtrain, ytrain)"
   ]
  },
  {
   "cell_type": "code",
   "execution_count": null,
   "metadata": {},
   "outputs": [],
   "source": [
    "scores = -np.log10(selector.pvalues_)\n",
    "scores[np.isinf(scores)] = scores[np.isfinite(scores)].max()\n",
    "scores /= scores.max()\n",
    "plt.bar(np.arange(X.shape[1]), scores, width=.2)\n",
    "plt.show()\n",
    "\n",
    "X.columns[selector.get_support()]"
   ]
  },
  {
   "cell_type": "code",
   "execution_count": null,
   "metadata": {},
   "outputs": [],
   "source": [
    "lsvc = LinearSVC(C=1, tol=1e-4, dual=False, fit_intercept=True, class_weight='balanced', verbose=True)\n",
    "lsvc.fit(selector.transform(xtrain), ytrain.values.ravel())\n",
    "lsvc.score(selector.transform(xval), yval)"
   ]
  },
  {
   "cell_type": "markdown",
   "metadata": {},
   "source": [
    "## Recursive feature selection"
   ]
  },
  {
   "cell_type": "code",
   "execution_count": null,
   "metadata": {},
   "outputs": [],
   "source": [
    "lsvc = LinearSVC(C=2, tol=1e-4, dual=False, fit_intercept=True, class_weight='balanced')\n",
    "rfecv = RFECV(estimator=lsvc, step=1, cv=5, scoring='accuracy', n_jobs=-1)"
   ]
  },
  {
   "cell_type": "code",
   "execution_count": null,
   "metadata": {},
   "outputs": [],
   "source": [
    "rfecv.fit(xtrain, ytrain.values.ravel())\n",
    "rfecv.score(xval, yval.values.ravel())"
   ]
  },
  {
   "cell_type": "code",
   "execution_count": null,
   "metadata": {},
   "outputs": [],
   "source": [
    "print X.columns[rfecv.get_support(indices=0)]"
   ]
  },
  {
   "cell_type": "code",
   "execution_count": null,
   "metadata": {},
   "outputs": [],
   "source": [
    "# Plot number of features VS. cross-validation scores\n",
    "plt.figure(figsize=(15,5))\n",
    "plt.xlabel(\"Number of features selected\")\n",
    "plt.ylabel(\"Cross validation score (nb of correct classifications)\")\n",
    "plt.plot(range(1, len(rfecv.grid_scores_) + 1), rfecv.grid_scores_)\n",
    "plt.show()"
   ]
  }
 ],
 "metadata": {
  "kernelspec": {
   "display_name": "Python 2",
   "language": "python",
   "name": "python2"
  },
  "language_info": {
   "codemirror_mode": {
    "name": "ipython",
    "version": 2
   },
   "file_extension": ".py",
   "mimetype": "text/x-python",
   "name": "python",
   "nbconvert_exporter": "python",
   "pygments_lexer": "ipython2",
   "version": "2.7.15"
  }
 },
 "nbformat": 4,
 "nbformat_minor": 2
}
