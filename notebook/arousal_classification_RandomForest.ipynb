{
 "cells": [
  {
   "cell_type": "code",
   "execution_count": 1,
   "metadata": {},
   "outputs": [],
   "source": [
    "import numpy as np\n",
    "import matplotlib.pyplot as plt\n",
    "import pandas as pd\n",
    "\n",
    "from sklearn.ensemble import RandomForestClassifier\n",
    "from sklearn.feature_selection import RFECV, RFE\n",
    "from sklearn.model_selection import StratifiedShuffleSplit\n",
    "from sklearn.model_selection import cross_val_score\n",
    "from sklearn.model_selection import GridSearchCV\n",
    "from sklearn.metrics import balanced_accuracy_score, roc_auc_score, auc, roc_curve\n",
    "from sklearn.pipeline import Pipeline\n",
    "\n",
    "# fix random seed for reproducibility\n",
    "seed = 7\n",
    "np.random.seed(seed)"
   ]
  },
  {
   "cell_type": "code",
   "execution_count": 2,
   "metadata": {},
   "outputs": [],
   "source": [
    "# Using seaborn's style\n",
    "nice_fonts = {\n",
    "        # Use LaTeX to write all text\n",
    "        \"text.usetex\": False,\n",
    "        \"font.family\": \"serif\",\n",
    "        # Use 10pt font in plots, to match 10pt font in document\n",
    "        \"axes.labelsize\": 10,\n",
    "        \"font.size\": 10,\n",
    "        # Make the legend/label fonts a little smaller\n",
    "        \"legend.fontsize\": 8,\n",
    "        \"xtick.labelsize\": 8,\n",
    "        \"ytick.labelsize\": 8,\n",
    "}\n",
    "\n",
    "plt.rcParams.update(nice_fonts)\n",
    "\n",
    "width = 418.25368\n",
    "def set_size(width=width, fraction=1):\n",
    "    \"\"\" Set aesthetic figure dimensions to avoid scaling in latex.\n",
    "\n",
    "    Parameters\n",
    "    ----------\n",
    "    width: float\n",
    "            Width in pts\n",
    "    fraction: float\n",
    "            Fraction of the width which you wish the figure to occupy\n",
    "\n",
    "    Returns\n",
    "    -------\n",
    "    fig_dim: tuple\n",
    "            Dimensions of figure in inches\n",
    "    \"\"\"\n",
    "    # Width of figure\n",
    "    fig_width_pt = width * fraction\n",
    "\n",
    "    # Convert from pt to inches\n",
    "    inches_per_pt = 1 / 72.27\n",
    "\n",
    "    # Golden ratio to set aesthetic figure height\n",
    "    golden_ratio = (5**.5 - 1) / 2\n",
    "\n",
    "    # Figure width in inches\n",
    "    fig_width_in = fig_width_pt * inches_per_pt\n",
    "    # Figure height in inches\n",
    "    fig_height_in = fig_width_in * golden_ratio\n",
    "\n",
    "    fig_dim = (fig_width_in, fig_height_in)\n",
    "\n",
    "    return fig_dim"
   ]
  },
  {
   "cell_type": "markdown",
   "metadata": {},
   "source": [
    "## Load data"
   ]
  },
  {
   "cell_type": "code",
   "execution_count": 3,
   "metadata": {
    "scrolled": true
   },
   "outputs": [],
   "source": [
    "def get_data():\n",
    "    columns = np.load(\"data/data_columns.npy\")\n",
    "    X = np.load(\"data/data_arousal_physio_with_pupil_for_svm_only_valid_session.npy\")\n",
    "    Y = np.load(\"data/data_arousal_label_with_pupil_for_svm_only_valid_session.npy\")\n",
    "    return pd.DataFrame(X, columns=columns), pd.DataFrame(Y)"
   ]
  },
  {
   "cell_type": "code",
   "execution_count": 4,
   "metadata": {},
   "outputs": [
    {
     "name": "stdout",
     "output_type": "stream",
     "text": [
      "(82400, 25)\n",
      "(82400, 1)\n"
     ]
    }
   ],
   "source": [
    "X, Y = get_data()\n",
    "#X = X.drop([\"SKT_mean_abs_diff\", \"SKT_std\"], axis=1)\n",
    "print X.shape\n",
    "print Y.shape"
   ]
  },
  {
   "cell_type": "code",
   "execution_count": 5,
   "metadata": {},
   "outputs": [
    {
     "data": {
      "text/plain": [
       "array([[<matplotlib.axes._subplots.AxesSubplot object at 0x7f55830a1790>]],\n",
       "      dtype=object)"
      ]
     },
     "execution_count": 5,
     "metadata": {},
     "output_type": "execute_result"
    },
    {
     "data": {
      "image/png": "[encoded data removed]",
      "text/plain": [
       "<Figure size 432x288 with 1 Axes>"
      ]
     },
     "metadata": {
      "needs_background": "light"
     },
     "output_type": "display_data"
    }
   ],
   "source": [
    "# binarize the problem\n",
    "Y[Y<=4] = 0\n",
    "Y[Y>=5] = 1\n",
    "Y.hist(bins=2)"
   ]
  },
  {
   "cell_type": "markdown",
   "metadata": {},
   "source": [
    "## Random Forest"
   ]
  },
  {
   "cell_type": "markdown",
   "metadata": {},
   "source": [
    "### Search for optimal hyperparameters"
   ]
  },
  {
   "cell_type": "code",
   "execution_count": 6,
   "metadata": {},
   "outputs": [],
   "source": [
    "def create_classifier(parameters={}):\n",
    "    classifier = RandomForestClassifier(class_weight='balanced', verbose=True, n_jobs=-1, random_state=seed)\n",
    "    if parameters:\n",
    "        classifier.set_params(**parameters)\n",
    "    cv = StratifiedShuffleSplit(n_splits=5, test_size=.2, random_state=seed)\n",
    "    return classifier, cv"
   ]
  },
  {
   "cell_type": "code",
   "execution_count": 7,
   "metadata": {
    "scrolled": true
   },
   "outputs": [
    {
     "name": "stdout",
     "output_type": "stream",
     "text": [
      "Fitting 5 folds for each of 108 candidates, totalling 540 fits\n"
     ]
    },
    {
     "name": "stderr",
     "output_type": "stream",
     "text": [
      "[Parallel(n_jobs=-1)]: Using backend LokyBackend with 2 concurrent workers.\n",
      "[Parallel(n_jobs=-1)]: Done  46 tasks      | elapsed:   35.6s\n",
      "[Parallel(n_jobs=-1)]: Done 196 tasks      | elapsed:  2.4min\n",
      "[Parallel(n_jobs=-1)]: Done 446 tasks      | elapsed:  5.5min\n",
      "[Parallel(n_jobs=-1)]: Done 540 out of 540 | elapsed:  6.6min finished\n",
      "[Parallel(n_jobs=-1)]: Using backend ThreadingBackend with 2 concurrent workers.\n",
      "[Parallel(n_jobs=-1)]: Done  15 out of  15 | elapsed:    2.0s finished\n"
     ]
    },
    {
     "data": {
      "text/plain": [
       "GridSearchCV(cv=StratifiedShuffleSplit(n_splits=5, random_state=7, test_size=0.2,\n",
       "            train_size=None),\n",
       "       error_score='raise-deprecating',\n",
       "       estimator=RandomForestClassifier(bootstrap=True, class_weight='balanced',\n",
       "            criterion='gini', max_depth=None, max_features='auto',\n",
       "            max_leaf_nodes=None, min_impurity_decrease=0.0,\n",
       "            min_impurity_split=None, min_samples_leaf=1,\n",
       "            min_samples_split=2, min_weight_fraction_leaf=0.0,\n",
       "            n_estimators='warn', n_jobs=-1, oob_score=False,\n",
       "            random_state=7, verbose=True, warm_start=False),\n",
       "       fit_params=None, iid='warn', n_jobs=-1,\n",
       "       param_grid={'min_samples_leaf': [0.01, 0.1], 'n_estimators': [5, 10, 15], 'min_samples_split': [0.01, 0.1, 0.99], 'criterion': ['gini'], 'max_features': ['auto', 'log2'], 'max_depth': [3, 5, 10]},\n",
       "       pre_dispatch='2*n_jobs', refit=True, return_train_score='warn',\n",
       "       scoring='roc_auc', verbose=1)"
      ]
     },
     "execution_count": 7,
     "metadata": {},
     "output_type": "execute_result"
    }
   ],
   "source": [
    "# Update dict with Random Forest Parameters\n",
    "parameters = {\n",
    "    \"n_estimators\": [5, 10, 15],\n",
    "    \"max_features\": ['auto', 'log2'],\n",
    "    \"max_depth\" : [3, 5, 10],\n",
    "    \"min_samples_split\": [0.01, 0.1, .99],\n",
    "    \"min_samples_leaf\": [0.01, 0.1],\n",
    "    \"criterion\" :[\"gini\"]\n",
    "}\n",
    "\n",
    "classifier, cv = create_classifier()\n",
    "\n",
    "# Initialize GridSearch object\n",
    "gscv = GridSearchCV(classifier, parameters, cv=cv,  n_jobs=-1, verbose=1, scoring=\"roc_auc\")\n",
    "gscv.fit(X, np.ravel(Y))"
   ]
  },
  {
   "cell_type": "code",
   "execution_count": 8,
   "metadata": {
    "scrolled": false
   },
   "outputs": [
    {
     "name": "stdout",
     "output_type": "stream",
     "text": [
      "RandomForestClassifier(bootstrap=True, class_weight='balanced',\n",
      "            criterion='gini', max_depth=10, max_features='auto',\n",
      "            max_leaf_nodes=None, min_impurity_decrease=0.0,\n",
      "            min_impurity_split=None, min_samples_leaf=0.01,\n",
      "            min_samples_split=0.01, min_weight_fraction_leaf=0.0,\n",
      "            n_estimators=15, n_jobs=-1, oob_score=False, random_state=7,\n",
      "            verbose=True, warm_start=False)\n",
      "{'min_samples_leaf': 0.01, 'n_estimators': 15, 'min_samples_split': 0.01, 'criterion': 'gini', 'max_features': 'auto', 'max_depth': 10}\n"
     ]
    }
   ],
   "source": [
    "best_estimator = gscv.best_estimator_\n",
    "best_params = gscv.best_params_\n",
    "\n",
    "print best_estimator\n",
    "print best_params"
   ]
  },
  {
   "cell_type": "code",
   "execution_count": 9,
   "metadata": {
    "scrolled": true
   },
   "outputs": [
    {
     "name": "stderr",
     "output_type": "stream",
     "text": [
      "/opt/conda/envs/python2/lib/python2.7/site-packages/ipykernel_launcher.py:13: DataConversionWarning: A column-vector y was passed when a 1d array was expected. Please change the shape of y to (n_samples,), for example using ravel().\n",
      "  del sys.path[0]\n",
      "[Parallel(n_jobs=-1)]: Using backend ThreadingBackend with 2 concurrent workers.\n",
      "[Parallel(n_jobs=-1)]: Done  15 out of  15 | elapsed:    1.7s finished\n",
      "[Parallel(n_jobs=2)]: Using backend ThreadingBackend with 2 concurrent workers.\n",
      "[Parallel(n_jobs=2)]: Done  15 out of  15 | elapsed:    0.0s finished\n",
      "[Parallel(n_jobs=-1)]: Using backend ThreadingBackend with 2 concurrent workers.\n",
      "[Parallel(n_jobs=-1)]: Done  15 out of  15 | elapsed:    1.9s finished\n",
      "[Parallel(n_jobs=2)]: Using backend ThreadingBackend with 2 concurrent workers.\n",
      "[Parallel(n_jobs=2)]: Done  15 out of  15 | elapsed:    0.0s finished\n",
      "[Parallel(n_jobs=-1)]: Using backend ThreadingBackend with 2 concurrent workers.\n",
      "[Parallel(n_jobs=-1)]: Done  15 out of  15 | elapsed:    1.9s finished\n",
      "[Parallel(n_jobs=2)]: Using backend ThreadingBackend with 2 concurrent workers.\n",
      "[Parallel(n_jobs=2)]: Done  15 out of  15 | elapsed:    0.0s finished\n",
      "[Parallel(n_jobs=-1)]: Using backend ThreadingBackend with 2 concurrent workers.\n",
      "[Parallel(n_jobs=-1)]: Done  15 out of  15 | elapsed:    1.7s finished\n",
      "[Parallel(n_jobs=2)]: Using backend ThreadingBackend with 2 concurrent workers.\n",
      "[Parallel(n_jobs=2)]: Done  15 out of  15 | elapsed:    0.0s finished\n",
      "[Parallel(n_jobs=-1)]: Using backend ThreadingBackend with 2 concurrent workers.\n",
      "[Parallel(n_jobs=-1)]: Done  15 out of  15 | elapsed:    1.7s finished\n",
      "[Parallel(n_jobs=2)]: Using backend ThreadingBackend with 2 concurrent workers.\n",
      "[Parallel(n_jobs=2)]: Done  15 out of  15 | elapsed:    0.0s finished\n"
     ]
    }
   ],
   "source": [
    "# GENERATE ROC FOR RFECV\n",
    "classifier, cv = create_classifier(best_params) \n",
    "\n",
    "scores_train = []\n",
    "scores_test = []\n",
    "roc_auc = {}\n",
    "\n",
    "for train_index, test_index in cv.split(X, Y):\n",
    "\n",
    "    x_train, y_train = X.iloc[train_index], Y.iloc[train_index]\n",
    "    x_test, y_test = X.iloc[test_index], Y.iloc[test_index]\n",
    "\n",
    "    classifier.fit(x_train, y_train)\n",
    "    \n",
    "    y_test_pred = classifier.predict_proba(x_test)\n",
    "    \n",
    "    #Keep Probabilities of the positive class only.\n",
    "    y_test_pred = y_test_pred[:,1]\n",
    "    fpr, tpr, threshold = roc_curve(y_test, y_test_pred)\n",
    "    \n",
    "    roc_auc = {\n",
    "        \"fpr\" : fpr,\n",
    "        \"tpr\" : tpr,\n",
    "        \"auc\" : roc_auc_score(y_test, y_test_pred) \n",
    "    }"
   ]
  },
  {
   "cell_type": "code",
   "execution_count": 10,
   "metadata": {},
   "outputs": [
    {
     "data": {
      "image/png": "[encoded data removed]",
      "text/plain": [
       "<Figure size 416.691x257.529 with 1 Axes>"
      ]
     },
     "metadata": {
      "needs_background": "light"
     },
     "output_type": "display_data"
    }
   ],
   "source": [
    "## PLOT ROC CURVE FOR RANDOM FOREST WITH BEST PARAMETER\n",
    "\n",
    "fig = plt.figure(figsize=set_size())\n",
    "ax = fig.add_subplot(1,1,1)\n",
    "plt.title('Arousal ROC with best parameters')\n",
    "plt.plot([0, 1], [0, 1],'--', c='gray')\n",
    "plt.xlim([0, 1])\n",
    "plt.ylim([0, 1])\n",
    "plt.ylabel('Tasso Veri Positivi')\n",
    "plt.xlabel('Tasso Falsi Positivi')\n",
    "\n",
    "fpr, tpr, auc = roc_auc[\"fpr\"], roc_auc[\"tpr\"], roc_auc[\"auc\"]\n",
    "ax.plot(fpr, tpr, 'k-', label = 'AUC = %0.2f' % (auc))\n",
    "\n",
    "plt.legend(loc = 'lower right')\n",
    "fig.savefig(\"ROC_RF_best_aro.pdf\", format=\"pdf\", bbox_inches='tight')\n",
    "plt.show()"
   ]
  },
  {
   "cell_type": "markdown",
   "metadata": {},
   "source": [
    "\n",
    "## Recursive feature selection"
   ]
  },
  {
   "cell_type": "code",
   "execution_count": 18,
   "metadata": {},
   "outputs": [],
   "source": [
    "classifier, cv = create_classifier(best_params)\n",
    "rfecv = RFECV(estimator=classifier, step=1, cv=cv, scoring='roc_auc', n_jobs=-1, verbose=1)"
   ]
  },
  {
   "cell_type": "code",
   "execution_count": 20,
   "metadata": {},
   "outputs": [
    {
     "name": "stderr",
     "output_type": "stream",
     "text": [
      "[Parallel(n_jobs=-1)]: Using backend ThreadingBackend with 2 concurrent workers.\n",
      "[Parallel(n_jobs=-1)]: Done  15 out of  15 | elapsed:    1.9s finished\n",
      "[Parallel(n_jobs=-1)]: Using backend ThreadingBackend with 2 concurrent workers.\n",
      "[Parallel(n_jobs=-1)]: Done  15 out of  15 | elapsed:    2.0s finished\n"
     ]
    },
    {
     "data": {
      "text/plain": [
       "RFECV(cv=StratifiedShuffleSplit(n_splits=5, random_state=7, test_size=0.2,\n",
       "            train_size=None),\n",
       "   estimator=RandomForestClassifier(bootstrap=True, class_weight='balanced',\n",
       "            criterion='gini', max_depth=10, max_features='auto',\n",
       "            max_leaf_nodes=None, min_impurity_decrease=0.0,\n",
       "            min_impurity_split=None, min_samples_leaf=0.01,\n",
       "            min_samples_split=0.01, min_weight_fraction_leaf=0.0,\n",
       "            n_estimators=15, n_jobs=-1, oob_score=False, random_state=7,\n",
       "            verbose=True, warm_start=False),\n",
       "   min_features_to_select=1, n_jobs=-1, scoring='roc_auc', step=1,\n",
       "   verbose=1)"
      ]
     },
     "execution_count": 20,
     "metadata": {},
     "output_type": "execute_result"
    }
   ],
   "source": [
    "rfecv.fit(X, Y)"
   ]
  },
  {
   "cell_type": "code",
   "execution_count": 21,
   "metadata": {},
   "outputs": [
    {
     "data": {
      "text/plain": [
       "{'ECG_max': 0.030359786624791774,\n",
       " 'ECG_mean': 0.03579629044997713,\n",
       " 'ECG_mean_abs_diff': 0.02560567108656647,\n",
       " 'ECG_mean_diff': 0.034134648065664575,\n",
       " 'ECG_min': 0.028096570885021013,\n",
       " 'ECG_std': 0.009913845940714285,\n",
       " 'EDA_max': 0.023601466863699537,\n",
       " 'EDA_mean': 0.015414945246667788,\n",
       " 'EDA_mean_abs_diff': 0.02240312881188665,\n",
       " 'EDA_mean_diff': 0.06510261018900318,\n",
       " 'EDA_min': 0.03306494836048471,\n",
       " 'EDA_std': 0.017115804137453706,\n",
       " 'Pupil': 0.05193918622680775,\n",
       " 'Resp_max': 0.019099979540644074,\n",
       " 'Resp_mean': 0.00444536766127514,\n",
       " 'Resp_mean_abs_diff': 0.04937267420298671,\n",
       " 'Resp_mean_diff': 0.003726875844349927,\n",
       " 'Resp_min': 0.027568031393073587,\n",
       " 'Resp_std': 0.03551756668590967,\n",
       " 'SKT_max': 0.07341888825963948,\n",
       " 'SKT_mean': 0.045871537631693014,\n",
       " 'SKT_mean_abs_diff': 0.07010838908765368,\n",
       " 'SKT_mean_diff': 0.12156375851291945,\n",
       " 'SKT_min': 0.04720801605565026,\n",
       " 'SKT_std': 0.10955001223546647}"
      ]
     },
     "execution_count": 21,
     "metadata": {},
     "output_type": "execute_result"
    }
   ],
   "source": [
    "dict(zip(X.columns[rfecv.get_support()], rfecv.estimator_.feature_importances_))"
   ]
  },
  {
   "cell_type": "code",
   "execution_count": 22,
   "metadata": {
    "scrolled": true
   },
   "outputs": [
    {
     "name": "stdout",
     "output_type": "stream",
     "text": [
      "Optimal number of features : 25\n",
      "\n",
      "Accuracy: 92.29% (0.00%)\n"
     ]
    }
   ],
   "source": [
    "print(\"Optimal number of features : %d\" % rfecv.n_features_)\n",
    "print\n",
    "print(\"Accuracy: %.2f%% (%.2f%%)\" % (rfecv.grid_scores_[rfecv.n_features_ - 1]*100, 0))"
   ]
  },
  {
   "cell_type": "code",
   "execution_count": 23,
   "metadata": {},
   "outputs": [
    {
     "data": {
      "image/png": "[encoded data removed]",
      "text/plain": [
       "<Figure size 416.691x257.529 with 1 Axes>"
      ]
     },
     "metadata": {
      "needs_background": "light"
     },
     "output_type": "display_data"
    }
   ],
   "source": [
    "# Plot number of features VS. cross-validation scores\n",
    "nfeature = range(1, X.shape[1]+1)\n",
    "fig = plt.figure(figsize=set_size())\n",
    "ax = fig.add_subplot(1, 1, 1)\n",
    "ax.set_title(\"Arousal RFECV\")\n",
    "ax.set_xlabel(\"Numero di feature selezionate\")\n",
    "ax.set_ylabel(\"Cross validation score\")\n",
    "ax.plot(nfeature, rfecv.grid_scores_, color='K', lw=2)\n",
    "#ax.vlines([rfecv.n_features_], min(rfecv.grid_scores_), max(rfecv.grid_scores_), colors='gray', linestyles=\"dotted\")\n",
    "fig.show()\n",
    "fig.savefig(\"rfecv_aro.pdf\", format=\"pdf\", bbox_inches='tight')"
   ]
  },
  {
   "cell_type": "code",
   "execution_count": 24,
   "metadata": {},
   "outputs": [
    {
     "name": "stderr",
     "output_type": "stream",
     "text": [
      "/opt/conda/envs/python2/lib/python2.7/site-packages/ipykernel_launcher.py:13: DataConversionWarning: A column-vector y was passed when a 1d array was expected. Please change the shape of y to (n_samples,), for example using ravel().\n",
      "  del sys.path[0]\n",
      "[Parallel(n_jobs=-1)]: Using backend ThreadingBackend with 2 concurrent workers.\n",
      "[Parallel(n_jobs=-1)]: Done  15 out of  15 | elapsed:    1.8s finished\n",
      "[Parallel(n_jobs=2)]: Using backend ThreadingBackend with 2 concurrent workers.\n",
      "[Parallel(n_jobs=2)]: Done  15 out of  15 | elapsed:    0.0s finished\n",
      "[Parallel(n_jobs=-1)]: Using backend ThreadingBackend with 2 concurrent workers.\n",
      "[Parallel(n_jobs=-1)]: Done  15 out of  15 | elapsed:    2.0s finished\n",
      "[Parallel(n_jobs=2)]: Using backend ThreadingBackend with 2 concurrent workers.\n",
      "[Parallel(n_jobs=2)]: Done  15 out of  15 | elapsed:    0.0s finished\n",
      "[Parallel(n_jobs=-1)]: Using backend ThreadingBackend with 2 concurrent workers.\n",
      "[Parallel(n_jobs=-1)]: Done  15 out of  15 | elapsed:    1.9s finished\n",
      "[Parallel(n_jobs=2)]: Using backend ThreadingBackend with 2 concurrent workers.\n",
      "[Parallel(n_jobs=2)]: Done  15 out of  15 | elapsed:    0.0s finished\n",
      "[Parallel(n_jobs=-1)]: Using backend ThreadingBackend with 2 concurrent workers.\n",
      "[Parallel(n_jobs=-1)]: Done  15 out of  15 | elapsed:    1.8s finished\n",
      "[Parallel(n_jobs=2)]: Using backend ThreadingBackend with 2 concurrent workers.\n",
      "[Parallel(n_jobs=2)]: Done  15 out of  15 | elapsed:    0.0s finished\n",
      "[Parallel(n_jobs=-1)]: Using backend ThreadingBackend with 2 concurrent workers.\n",
      "[Parallel(n_jobs=-1)]: Done  15 out of  15 | elapsed:    2.0s finished\n",
      "[Parallel(n_jobs=2)]: Using backend ThreadingBackend with 2 concurrent workers.\n",
      "[Parallel(n_jobs=2)]: Done  15 out of  15 | elapsed:    0.0s finished\n"
     ]
    }
   ],
   "source": [
    "# GENERATE ROC FOR RFECV\n",
    "classifier, cv = create_classifier(best_params) \n",
    "\n",
    "scores_train = []\n",
    "scores_test = []\n",
    "roc_auc = {}\n",
    "\n",
    "for train_index, test_index in cv.split(X, Y):\n",
    "\n",
    "    x_train, y_train = rfecv.transform(X)[train_index], Y.iloc[train_index]\n",
    "    x_test, y_test = rfecv.transform(X)[test_index], Y.iloc[test_index]\n",
    "\n",
    "    classifier.fit(x_train, y_train)\n",
    "    \n",
    "    y_test_pred = classifier.predict_proba(x_test)\n",
    "    \n",
    "    #Keep Probabilities of the positive class only.\n",
    "    y_test_pred = y_test_pred[:,1]\n",
    "    fpr, tpr, threshold = roc_curve(y_test, y_test_pred)\n",
    "    \n",
    "    roc_auc = {\n",
    "        \"fpr\" : fpr,\n",
    "        \"tpr\" : tpr,\n",
    "        \"auc\" : roc_auc_score(y_test, y_test_pred) \n",
    "    }"
   ]
  },
  {
   "cell_type": "code",
   "execution_count": 25,
   "metadata": {},
   "outputs": [
    {
     "data": {
      "image/png": "[encoded data removed]",
      "text/plain": [
       "<Figure size 416.691x257.529 with 1 Axes>"
      ]
     },
     "metadata": {
      "needs_background": "light"
     },
     "output_type": "display_data"
    }
   ],
   "source": [
    "## PLOT ROC CURVE FOR RFECV\n",
    "\n",
    "fig = plt.figure(figsize=set_size())\n",
    "ax = fig.add_subplot(1,1,1)\n",
    "plt.title('Arousal ROC RFECV')\n",
    "plt.plot([0, 1], [0, 1],'--', c='gray')\n",
    "plt.xlim([0, 1])\n",
    "plt.ylim([0, 1])\n",
    "plt.ylabel('Tasso Veri Positivi')\n",
    "plt.xlabel('Tasso Falsi Positivi')\n",
    "\n",
    "fpr, tpr, auc = roc_auc[\"fpr\"], roc_auc[\"tpr\"], roc_auc[\"auc\"]\n",
    "ax.plot(fpr, tpr, 'k-', label = 'AUC = %0.2f' % (auc))\n",
    "\n",
    "plt.legend(loc = 'lower right')\n",
    "fig.savefig(\"ROC_RFECV_aro.pdf\", format=\"pdf\", bbox_inches='tight')\n",
    "plt.show()"
   ]
  },
  {
   "cell_type": "markdown",
   "metadata": {},
   "source": [
    "### Use RFE to stop at a given number of feature"
   ]
  },
  {
   "cell_type": "code",
   "execution_count": 26,
   "metadata": {},
   "outputs": [
    {
     "name": "stdout",
     "output_type": "stream",
     "text": [
      "12 0.8947379030039613\n"
     ]
    }
   ],
   "source": [
    "# find number of feature given t = 0.02\n",
    "t = 0.02\n",
    "best_score = max(rfecv.grid_scores_)\n",
    "for i, score in reversed(list(enumerate(rfecv.grid_scores_[:-1], 1))):\n",
    "    if best_score - score >= t:\n",
    "        break\n",
    "print i, score"
   ]
  },
  {
   "cell_type": "code",
   "execution_count": 32,
   "metadata": {
    "scrolled": true
   },
   "outputs": [
    {
     "name": "stdout",
     "output_type": "stream",
     "text": [
      "Fitting estimator with 25 features.\n"
     ]
    },
    {
     "name": "stderr",
     "output_type": "stream",
     "text": [
      "[Parallel(n_jobs=-1)]: Using backend ThreadingBackend with 2 concurrent workers.\n",
      "[Parallel(n_jobs=-1)]: Done  15 out of  15 | elapsed:    2.1s finished\n"
     ]
    },
    {
     "name": "stdout",
     "output_type": "stream",
     "text": [
      "Fitting estimator with 24 features.\n"
     ]
    },
    {
     "name": "stderr",
     "output_type": "stream",
     "text": [
      "[Parallel(n_jobs=-1)]: Using backend ThreadingBackend with 2 concurrent workers.\n",
      "[Parallel(n_jobs=-1)]: Done  15 out of  15 | elapsed:    1.6s finished\n"
     ]
    },
    {
     "name": "stdout",
     "output_type": "stream",
     "text": [
      "Fitting estimator with 23 features.\n"
     ]
    },
    {
     "name": "stderr",
     "output_type": "stream",
     "text": [
      "[Parallel(n_jobs=-1)]: Using backend ThreadingBackend with 2 concurrent workers.\n",
      "[Parallel(n_jobs=-1)]: Done  15 out of  15 | elapsed:    1.6s finished\n"
     ]
    },
    {
     "name": "stdout",
     "output_type": "stream",
     "text": [
      "Fitting estimator with 22 features.\n"
     ]
    },
    {
     "name": "stderr",
     "output_type": "stream",
     "text": [
      "[Parallel(n_jobs=-1)]: Using backend ThreadingBackend with 2 concurrent workers.\n",
      "[Parallel(n_jobs=-1)]: Done  15 out of  15 | elapsed:    1.6s finished\n"
     ]
    },
    {
     "name": "stdout",
     "output_type": "stream",
     "text": [
      "Fitting estimator with 21 features.\n"
     ]
    },
    {
     "name": "stderr",
     "output_type": "stream",
     "text": [
      "[Parallel(n_jobs=-1)]: Using backend ThreadingBackend with 2 concurrent workers.\n",
      "[Parallel(n_jobs=-1)]: Done  15 out of  15 | elapsed:    1.7s finished\n"
     ]
    },
    {
     "name": "stdout",
     "output_type": "stream",
     "text": [
      "Fitting estimator with 20 features.\n"
     ]
    },
    {
     "name": "stderr",
     "output_type": "stream",
     "text": [
      "[Parallel(n_jobs=-1)]: Using backend ThreadingBackend with 2 concurrent workers.\n",
      "[Parallel(n_jobs=-1)]: Done  15 out of  15 | elapsed:    1.7s finished\n"
     ]
    },
    {
     "name": "stdout",
     "output_type": "stream",
     "text": [
      "Fitting estimator with 19 features.\n"
     ]
    },
    {
     "name": "stderr",
     "output_type": "stream",
     "text": [
      "[Parallel(n_jobs=-1)]: Using backend ThreadingBackend with 2 concurrent workers.\n",
      "[Parallel(n_jobs=-1)]: Done  15 out of  15 | elapsed:    1.5s finished\n"
     ]
    },
    {
     "name": "stdout",
     "output_type": "stream",
     "text": [
      "Fitting estimator with 18 features.\n"
     ]
    },
    {
     "name": "stderr",
     "output_type": "stream",
     "text": [
      "[Parallel(n_jobs=-1)]: Using backend ThreadingBackend with 2 concurrent workers.\n",
      "[Parallel(n_jobs=-1)]: Done  15 out of  15 | elapsed:    1.6s finished\n"
     ]
    },
    {
     "name": "stdout",
     "output_type": "stream",
     "text": [
      "Fitting estimator with 17 features.\n"
     ]
    },
    {
     "name": "stderr",
     "output_type": "stream",
     "text": [
      "[Parallel(n_jobs=-1)]: Using backend ThreadingBackend with 2 concurrent workers.\n",
      "[Parallel(n_jobs=-1)]: Done  15 out of  15 | elapsed:    1.6s finished\n"
     ]
    },
    {
     "name": "stdout",
     "output_type": "stream",
     "text": [
      "Fitting estimator with 16 features.\n"
     ]
    },
    {
     "name": "stderr",
     "output_type": "stream",
     "text": [
      "[Parallel(n_jobs=-1)]: Using backend ThreadingBackend with 2 concurrent workers.\n",
      "[Parallel(n_jobs=-1)]: Done  15 out of  15 | elapsed:    1.7s finished\n"
     ]
    },
    {
     "name": "stdout",
     "output_type": "stream",
     "text": [
      "Fitting estimator with 15 features.\n"
     ]
    },
    {
     "name": "stderr",
     "output_type": "stream",
     "text": [
      "[Parallel(n_jobs=-1)]: Using backend ThreadingBackend with 2 concurrent workers.\n",
      "[Parallel(n_jobs=-1)]: Done  15 out of  15 | elapsed:    1.2s finished\n"
     ]
    },
    {
     "name": "stdout",
     "output_type": "stream",
     "text": [
      "Fitting estimator with 14 features.\n"
     ]
    },
    {
     "name": "stderr",
     "output_type": "stream",
     "text": [
      "[Parallel(n_jobs=-1)]: Using backend ThreadingBackend with 2 concurrent workers.\n",
      "[Parallel(n_jobs=-1)]: Done  15 out of  15 | elapsed:    1.2s finished\n"
     ]
    },
    {
     "name": "stdout",
     "output_type": "stream",
     "text": [
      "Fitting estimator with 13 features.\n"
     ]
    },
    {
     "name": "stderr",
     "output_type": "stream",
     "text": [
      "[Parallel(n_jobs=-1)]: Using backend ThreadingBackend with 2 concurrent workers.\n",
      "[Parallel(n_jobs=-1)]: Done  15 out of  15 | elapsed:    1.2s finished\n",
      "[Parallel(n_jobs=-1)]: Using backend ThreadingBackend with 2 concurrent workers.\n",
      "[Parallel(n_jobs=-1)]: Done  15 out of  15 | elapsed:    1.4s finished\n"
     ]
    },
    {
     "data": {
      "text/plain": [
       "RFE(estimator=RandomForestClassifier(bootstrap=True, class_weight='balanced',\n",
       "            criterion='gini', max_depth=10, max_features='auto',\n",
       "            max_leaf_nodes=None, min_impurity_decrease=0.0,\n",
       "            min_impurity_split=None, min_samples_leaf=0.01,\n",
       "            min_samples_split=0.01, min_weight_fraction_leaf=0.0,\n",
       "            n_estimators=15, n_jobs=-1, oob_score=False, random_state=7,\n",
       "            verbose=True, warm_start=False),\n",
       "  n_features_to_select=12, step=1, verbose=1)"
      ]
     },
     "execution_count": 32,
     "metadata": {},
     "output_type": "execute_result"
    }
   ],
   "source": [
    "classifier, cv = create_classifier(best_params)\n",
    "\n",
    "# Initialize RFE object\n",
    "rfe = RFE(classifier, n_features_to_select=12, step=1, verbose=1)\n",
    "\n",
    "# Fit RFE\n",
    "rfe.fit(X, np.ravel(Y))"
   ]
  },
  {
   "cell_type": "code",
   "execution_count": 33,
   "metadata": {
    "scrolled": true
   },
   "outputs": [],
   "source": [
    "# Get selected features labels\n",
    "feature_names = X.columns\n",
    "selected_features_rfe = feature_names[rfe.support_].tolist()"
   ]
  },
  {
   "cell_type": "code",
   "execution_count": 34,
   "metadata": {},
   "outputs": [
    {
     "name": "stdout",
     "output_type": "stream",
     "text": [
      "{'SKT_max': 0.08942388636763308, 'SKT_mean': 0.07196941775566629, 'SKT_std': 0.11699891900605104, 'EDA_max': 0.08183444828904676, 'SKT_mean_abs_diff': 0.11922623301145165, 'EDA_mean_diff': 0.06800591558735772, 'Resp_mean_abs_diff': 0.06166531457340039, 'SKT_mean_diff': 0.15840106562072367, 'ECG_mean_abs_diff': 0.051035731192182916, 'SKT_min': 0.04642854825346181, 'ECG_max': 0.058137822635354185, 'Pupil': 0.07687269770767052}\n"
     ]
    }
   ],
   "source": [
    "print dict(zip(selected_features_rfe, rfe.estimator_.feature_importances_))"
   ]
  },
  {
   "cell_type": "code",
   "execution_count": 35,
   "metadata": {
    "scrolled": true
   },
   "outputs": [
    {
     "name": "stderr",
     "output_type": "stream",
     "text": [
      "/opt/conda/envs/python2/lib/python2.7/site-packages/ipykernel_launcher.py:13: DataConversionWarning: A column-vector y was passed when a 1d array was expected. Please change the shape of y to (n_samples,), for example using ravel().\n",
      "  del sys.path[0]\n",
      "[Parallel(n_jobs=-1)]: Using backend ThreadingBackend with 2 concurrent workers.\n",
      "[Parallel(n_jobs=-1)]: Done  15 out of  15 | elapsed:    1.3s finished\n",
      "[Parallel(n_jobs=2)]: Using backend ThreadingBackend with 2 concurrent workers.\n",
      "[Parallel(n_jobs=2)]: Done  15 out of  15 | elapsed:    0.0s finished\n",
      "[Parallel(n_jobs=-1)]: Using backend ThreadingBackend with 2 concurrent workers.\n",
      "[Parallel(n_jobs=-1)]: Done  15 out of  15 | elapsed:    1.2s finished\n",
      "[Parallel(n_jobs=2)]: Using backend ThreadingBackend with 2 concurrent workers.\n",
      "[Parallel(n_jobs=2)]: Done  15 out of  15 | elapsed:    0.0s finished\n",
      "[Parallel(n_jobs=-1)]: Using backend ThreadingBackend with 2 concurrent workers.\n",
      "[Parallel(n_jobs=-1)]: Done  15 out of  15 | elapsed:    1.2s finished\n",
      "[Parallel(n_jobs=2)]: Using backend ThreadingBackend with 2 concurrent workers.\n",
      "[Parallel(n_jobs=2)]: Done  15 out of  15 | elapsed:    0.0s finished\n",
      "[Parallel(n_jobs=-1)]: Using backend ThreadingBackend with 2 concurrent workers.\n",
      "[Parallel(n_jobs=-1)]: Done  15 out of  15 | elapsed:    1.2s finished\n",
      "[Parallel(n_jobs=2)]: Using backend ThreadingBackend with 2 concurrent workers.\n",
      "[Parallel(n_jobs=2)]: Done  15 out of  15 | elapsed:    0.0s finished\n",
      "[Parallel(n_jobs=-1)]: Using backend ThreadingBackend with 2 concurrent workers.\n",
      "[Parallel(n_jobs=-1)]: Done  15 out of  15 | elapsed:    1.2s finished\n",
      "[Parallel(n_jobs=2)]: Using backend ThreadingBackend with 2 concurrent workers.\n",
      "[Parallel(n_jobs=2)]: Done  15 out of  15 | elapsed:    0.0s finished\n"
     ]
    }
   ],
   "source": [
    "# GENERATE ROC FOR RFE with manually selected number of feature \n",
    "classifier, cv = create_classifier(best_params) \n",
    "\n",
    "scores_train = []\n",
    "scores_test = []\n",
    "roc_auc = {}\n",
    "\n",
    "for train_index, test_index in cv.split(X, Y):\n",
    "\n",
    "    x_train, y_train = rfe.transform(X)[train_index], Y.iloc[train_index]\n",
    "    x_test, y_test = rfe.transform(X)[test_index], Y.iloc[test_index]\n",
    "\n",
    "    classifier.fit(x_train, y_train)\n",
    "    \n",
    "    y_test_pred = classifier.predict_proba(x_test)\n",
    "    \n",
    "    #Keep Probabilities of the positive class only.\n",
    "    y_test_pred = y_test_pred[:,1]\n",
    "    fpr, tpr, threshold = roc_curve(y_test, y_test_pred)\n",
    "    \n",
    "    roc_auc = {\n",
    "        \"fpr\" : fpr,\n",
    "        \"tpr\" : tpr,\n",
    "        \"auc\" : roc_auc_score(y_test, y_test_pred) \n",
    "    }"
   ]
  },
  {
   "cell_type": "code",
   "execution_count": 36,
   "metadata": {},
   "outputs": [
    {
     "data": {
      "image/png": "[encoded data removed]",
      "text/plain": [
       "<Figure size 416.691x257.529 with 1 Axes>"
      ]
     },
     "metadata": {
      "needs_background": "light"
     },
     "output_type": "display_data"
    }
   ],
   "source": [
    "## PLOT ROC CURVE FOR RFE with manually selected number of feature\n",
    "\n",
    "fig = plt.figure(figsize=set_size())\n",
    "ax = fig.add_subplot(1,1,1)\n",
    "plt.title('Arousal ROC RFE')\n",
    "plt.plot([0, 1], [0, 1],'--', c='gray')\n",
    "plt.xlim([0, 1])\n",
    "plt.ylim([0, 1])\n",
    "plt.ylabel('Tasso Veri Positivi')\n",
    "plt.xlabel('Tasso Falsi Positivi')\n",
    "\n",
    "fpr, tpr, auc = roc_auc[\"fpr\"], roc_auc[\"tpr\"], roc_auc[\"auc\"]\n",
    "ax.plot(fpr, tpr, 'k-', label = 'AUC = %0.2f' % (auc))\n",
    "\n",
    "plt.legend(loc = 'lower right')\n",
    "fig.savefig(\"ROC_RFE_aro.pdf\", format=\"pdf\", bbox_inches='tight')\n",
    "plt.show()"
   ]
  }
 ],
 "metadata": {
  "kernelspec": {
   "display_name": "Python 2",
   "language": "python",
   "name": "python2"
  },
  "language_info": {
   "codemirror_mode": {
    "name": "ipython",
    "version": 2
   },
   "file_extension": ".py",
   "mimetype": "text/x-python",
   "name": "python",
   "nbconvert_exporter": "python",
   "pygments_lexer": "ipython2",
   "version": "2.7.15"
  }
 },
 "nbformat": 4,
 "nbformat_minor": 2
}
