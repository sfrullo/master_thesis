{
 "cells": [
  {
   "cell_type": "code",
   "execution_count": 17,
   "metadata": {},
   "outputs": [],
   "source": [
    "import numpy as np\n",
    "import matplotlib.pyplot as plt\n",
    "import pandas as pd\n",
    "from sklearn import svm\n",
    "\n",
    "from sklearn.svm import LinearSVC, SVC\n",
    "from sklearn.feature_selection import RFECV, mutual_info_classif\n",
    "\n",
    "from sklearn.model_selection import StratifiedKFold, StratifiedShuffleSplit\n",
    "from sklearn.model_selection import cross_val_score\n",
    "\n",
    "from sklearn.metrics import balanced_accuracy_score, roc_auc_score, auc, roc_curve\n",
    "\n",
    "# fix random seed for reproducibility\n",
    "seed = 7\n",
    "np.random.seed(seed)"
   ]
  },
  {
   "cell_type": "code",
   "execution_count": 3,
   "metadata": {},
   "outputs": [],
   "source": [
    "# Using seaborn's style\n",
    "nice_fonts = {\n",
    "        # Use LaTeX to write all text\n",
    "        \"text.usetex\": False,\n",
    "        \"font.family\": \"serif\",\n",
    "        # Use 10pt font in plots, to match 10pt font in document\n",
    "        \"axes.labelsize\": 10,\n",
    "        \"font.size\": 10,\n",
    "        # Make the legend/label fonts a little smaller\n",
    "        \"legend.fontsize\": 8,\n",
    "        \"xtick.labelsize\": 8,\n",
    "        \"ytick.labelsize\": 8,\n",
    "}\n",
    "\n",
    "plt.rcParams.update(nice_fonts)\n",
    "\n",
    "def set_size(width, fraction=1):\n",
    "    \"\"\" Set aesthetic figure dimensions to avoid scaling in latex.\n",
    "\n",
    "    Parameters\n",
    "    ----------\n",
    "    width: float\n",
    "            Width in pts\n",
    "    fraction: float\n",
    "            Fraction of the width which you wish the figure to occupy\n",
    "\n",
    "    Returns\n",
    "    -------\n",
    "    fig_dim: tuple\n",
    "            Dimensions of figure in inches\n",
    "    \"\"\"\n",
    "    # Width of figure\n",
    "    fig_width_pt = width * fraction\n",
    "\n",
    "    # Convert from pt to inches\n",
    "    inches_per_pt = 1 / 72.27\n",
    "\n",
    "    # Golden ratio to set aesthetic figure height\n",
    "    golden_ratio = (5**.5 - 1) / 2\n",
    "\n",
    "    # Figure width in inches\n",
    "    fig_width_in = fig_width_pt * inches_per_pt\n",
    "    # Figure height in inches\n",
    "    fig_height_in = fig_width_in * golden_ratio\n",
    "\n",
    "    fig_dim = (fig_width_in, fig_height_in)\n",
    "\n",
    "    return fig_dim\n",
    "\n",
    "width = 418.25368"
   ]
  },
  {
   "cell_type": "markdown",
   "metadata": {},
   "source": [
    "## Load data"
   ]
  },
  {
   "cell_type": "code",
   "execution_count": 4,
   "metadata": {
    "scrolled": true
   },
   "outputs": [],
   "source": [
    "def get_data():\n",
    "    \n",
    "    try:\n",
    "        columns = np.load(\"data/data_columns.npy\")\n",
    "        X = np.load(\"data/data_valence_physio_with_pupil_for_svm_only_valid_session.npy\")\n",
    "        Y = np.load(\"data/data_valence_label_with_pupil_for_svm_only_valid_session.npy\")\n",
    "        return pd.DataFrame(X, columns=columns), pd.DataFrame(Y)\n",
    "    except:\n",
    "        print \"No stored files found.. load from files first\""
   ]
  },
  {
   "cell_type": "code",
   "execution_count": 5,
   "metadata": {},
   "outputs": [
    {
     "name": "stdout",
     "output_type": "stream",
     "text": [
      "(82400, 25)\n",
      "(82400, 1)\n"
     ]
    },
    {
     "data": {
      "text/plain": [
       "0    82400\n",
       "dtype: int64"
      ]
     },
     "execution_count": 5,
     "metadata": {},
     "output_type": "execute_result"
    },
    {
     "data": {
      "image/png": "[encoded data removed]",
      "text/plain": [
       "<Figure size 432x288 with 1 Axes>"
      ]
     },
     "metadata": {
      "needs_background": "light"
     },
     "output_type": "display_data"
    }
   ],
   "source": [
    "X, Y = get_data()\n",
    "#X = X.drop([\"SKT_mean_abs_diff\", \"SKT_std\"], axis=1)\n",
    "print X.shape\n",
    "print Y.shape\n",
    "\n",
    "# binarize the problem\n",
    "Y[Y<=4] = 0\n",
    "Y[Y>=5] = 1\n",
    "Y.hist(bins=2)\n",
    "Y.count()"
   ]
  },
  {
   "cell_type": "markdown",
   "metadata": {},
   "source": [
    "## LinearSVC"
   ]
  },
  {
   "cell_type": "markdown",
   "metadata": {},
   "source": [
    "### Search for optimal C parameter"
   ]
  },
  {
   "cell_type": "code",
   "execution_count": 19,
   "metadata": {},
   "outputs": [],
   "source": [
    "def create_classifier(c=1):\n",
    "    lsvc = LinearSVC(C=c, tol=1e-4, dual=False, fit_intercept=False, class_weight='balanced', random_state=seed, verbose=True)\n",
    "    # evaluate using 5-fold cross validation\n",
    "    #stratified_cv = StratifiedKFold(n_splits=5, shuffle=True, random_state=seed)\n",
    "    stratified_cv = StratifiedShuffleSplit(n_splits=5, test_size=.2, random_state=seed)\n",
    "    return lsvc, stratified_cv"
   ]
  },
  {
   "cell_type": "code",
   "execution_count": 20,
   "metadata": {
    "scrolled": true
   },
   "outputs": [
    {
     "name": "stdout",
     "output_type": "stream",
     "text": [
      "[LibLinear][LibLinear][LibLinear][LibLinear][LibLinear][LibLinear][LibLinear][LibLinear][LibLinear][LibLinear][LibLinear][LibLinear][LibLinear][LibLinear][LibLinear][LibLinear][LibLinear][LibLinear][LibLinear][LibLinear][LibLinear][LibLinear][LibLinear][LibLinear][LibLinear][LibLinear][LibLinear][LibLinear][LibLinear][LibLinear][LibLinear][LibLinear][LibLinear][LibLinear][LibLinear][LibLinear][LibLinear][LibLinear][LibLinear][LibLinear][LibLinear][LibLinear][LibLinear][LibLinear][LibLinear][LibLinear][LibLinear][LibLinear][LibLinear][LibLinear]"
     ]
    }
   ],
   "source": [
    "result = []\n",
    "\n",
    "for i in range(5,-5,-1):\n",
    "    c = 1*10**i\n",
    "    lsvc, stratified_cv = create_classifier(c=c)\n",
    "    results = cross_val_score(lsvc, X, Y, cv=stratified_cv, scoring='balanced_accuracy', verbose=0)\n",
    "    result.append({ \"c\": c, \"score\" : results.mean()*100, \"std\" : results.std()*100})"
   ]
  },
  {
   "cell_type": "code",
   "execution_count": 21,
   "metadata": {},
   "outputs": [
    {
     "name": "stdout",
     "output_type": "stream",
     "text": [
      "c: 1e-04 --> score: 57.7792804622\n",
      "c: 1e-03 --> score: 59.3477941176\n",
      "c: 1e-02 --> score: 59.6007090336\n",
      "c: 1e-01 --> score: 60.5941439076\n",
      "c: 1e+03 --> score: 60.6209296218\n",
      "c: 1e+05 --> score: 60.6218487395\n",
      "c: 1e+04 --> score: 60.6236344538\n",
      "c: 1e+02 --> score: 60.6245535714\n",
      "c: 1e+01 --> score: 60.627914916\n",
      "c: 1e+00 --> score: 60.7042804622\n",
      "\n",
      "optimal value: 1e+00\n",
      "Accuracy: 60.70% (0.34%)\n"
     ]
    }
   ],
   "source": [
    "for r in sorted(result, key=lambda x: x[\"score\"]):\n",
    "    print \"c: {:.0e} --> score: {}\".format(r[\"c\"], r[\"score\"])\n",
    "    \n",
    "max_score = max(result, key=lambda x: x[\"score\"])\n",
    "\n",
    "print\n",
    "print \"optimal value: {:.0e}\".format(max_score[\"c\"])\n",
    "print(\"Accuracy: %.2f%% (%.2f%%)\" % (max_score[\"score\"], max_score[\"std\"]))"
   ]
  },
  {
   "cell_type": "code",
   "execution_count": 23,
   "metadata": {},
   "outputs": [
    {
     "data": {
      "image/png": "[encoded data removed]",
      "text/plain": [
       "<Figure size 416.691x257.529 with 1 Axes>"
      ]
     },
     "metadata": {
      "needs_background": "light"
     },
     "output_type": "display_data"
    }
   ],
   "source": [
    "results = { r[\"c\"] : r for r in result }\n",
    "c_values = list(sorted(results.keys()))\n",
    "scores = [ results[c][\"score\"] for c in c_values ]\n",
    "fig = plt.figure(figsize=set_size(width=width))\n",
    "ax = fig.add_subplot(1, 1, 1)\n",
    "line, = ax.plot(c_values, scores, color='k', lw=2)\n",
    "ax.vlines([1e+00], min(scores), 60.70, colors='gray', linestyles=\"dotted\")\n",
    "ax.set_xscale('log')\n",
    "ax.set_title(\"Valence\")\n",
    "ax.set_ylabel(\"Precisione\")\n",
    "ax.set_xlabel(\"coefficiente di regolarizzazione\")\n",
    "plt.show()\n",
    "fig.savefig(\"reg_coef_val.pdf\", format=\"pdf\", bbox_inches='tight')"
   ]
  },
  {
   "cell_type": "markdown",
   "metadata": {},
   "source": [
    "Create classifier with optimal parameter"
   ]
  },
  {
   "cell_type": "markdown",
   "metadata": {},
   "source": [
    "## KBest Feature selection + SVC"
   ]
  },
  {
   "cell_type": "code",
   "execution_count": 39,
   "metadata": {},
   "outputs": [],
   "source": [
    "# Such a large set of features can cause overfitting and also slow computing\n",
    "# Use feature selection to select the most important features\n",
    "import sklearn.feature_selection\n",
    "from sklearn.metrics import balanced_accuracy_score, roc_auc_score, auc, roc_curve"
   ]
  },
  {
   "cell_type": "code",
   "execution_count": 40,
   "metadata": {},
   "outputs": [
    {
     "name": "stdout",
     "output_type": "stream",
     "text": [
      "[LibLinear][LibLinear][LibLinear][LibLinear][LibLinear][LibLinear][LibLinear][LibLinear][LibLinear][LibLinear][LibLinear][LibLinear][LibLinear][LibLinear][LibLinear][LibLinear][LibLinear][LibLinear][LibLinear][LibLinear][LibLinear][LibLinear][LibLinear][LibLinear][LibLinear][LibLinear][LibLinear][LibLinear][LibLinear][LibLinear][LibLinear][LibLinear][LibLinear][LibLinear][LibLinear][LibLinear][LibLinear][LibLinear][LibLinear][LibLinear][LibLinear][LibLinear][LibLinear][LibLinear][LibLinear][LibLinear][LibLinear][LibLinear][LibLinear][LibLinear][LibLinear][LibLinear][LibLinear][LibLinear][LibLinear][LibLinear][LibLinear][LibLinear][LibLinear][LibLinear][LibLinear][LibLinear][LibLinear][LibLinear][LibLinear][LibLinear][LibLinear][LibLinear][LibLinear][LibLinear][LibLinear][LibLinear][LibLinear][LibLinear][LibLinear][LibLinear][LibLinear][LibLinear][LibLinear][LibLinear][LibLinear][LibLinear][LibLinear][LibLinear][LibLinear][LibLinear][LibLinear][LibLinear][LibLinear][LibLinear][LibLinear][LibLinear][LibLinear][LibLinear][LibLinear][LibLinear][LibLinear][LibLinear][LibLinear][LibLinear][LibLinear][LibLinear][LibLinear][LibLinear][LibLinear][LibLinear][LibLinear][LibLinear][LibLinear][LibLinear][LibLinear][LibLinear][LibLinear][LibLinear][LibLinear][LibLinear][LibLinear][LibLinear][LibLinear][LibLinear][LibLinear][LibLinear][LibLinear][LibLinear][LibLinear]"
     ]
    }
   ],
   "source": [
    "scores_by_kbest = []\n",
    "\n",
    "for k in range(1,X.shape[1]+1):\n",
    "\n",
    "    lsvc, stratified_cv = create_classifier() \n",
    "    kbest_selector = sklearn.feature_selection.SelectKBest(k=k)\n",
    "    kbest_selector.fit(X, Y)\n",
    "    \n",
    "    scores_train = []\n",
    "    scores_test = []\n",
    "    \n",
    "    for train_index, test_index in stratified_cv.split(X, Y):\n",
    "        \n",
    "        x_train, y_train = kbest_selector.transform(X)[train_index], Y.iloc[train_index]\n",
    "        x_test, y_test = kbest_selector.transform(X)[test_index], Y.iloc[test_index]\n",
    "        \n",
    "        lsvc.fit(x_train, y_train)\n",
    "        \n",
    "        y_train_pred = lsvc.predict(x_train)\n",
    "        score = balanced_accuracy_score(y_train, y_train_pred)\n",
    "        scores_train.append(score)\n",
    "        \n",
    "        y_test_pred = lsvc.predict(x_test)\n",
    "        score = balanced_accuracy_score(y_test, y_test_pred)\n",
    "        scores_test.append(score)\n",
    "        \n",
    "        fpr, tpr, threshold = roc_curve(y_test, y_test_pred)\n",
    "        roc_auc = auc(fpr, tpr)\n",
    "        \n",
    "        #results = cross_val_score(lsvc, kbest_selector.transform(X), Y, scoring='balanced_accuracy', cv=stratified_cv, verbose=0)\n",
    "    \n",
    "    ks = {\n",
    "        \"feature\"         : X.columns[kbest_selector.get_support()],\n",
    "        \"feature_pvalue\"  : kbest_selector.pvalues_,\n",
    "        \"feature_coeff\"   : lsvc.coef_,\n",
    "        \"score_train\"     : np.array(scores_train).mean(),\n",
    "        \"std_train\"       : np.array(scores_train).std(),\n",
    "        \"score_test\"      : np.array(scores_test).mean(),\n",
    "        \"std_test\"        : np.array(scores_test).std(),\n",
    "        \"fpr\"             : fpr,\n",
    "        \"tpr\"             : tpr,\n",
    "        \"roc_auc\"         : roc_auc\n",
    "    }\n",
    "    \n",
    "    scores_by_kbest.append(ks)"
   ]
  },
  {
   "cell_type": "code",
   "execution_count": 41,
   "metadata": {},
   "outputs": [
    {
     "name": "stdout",
     "output_type": "stream",
     "text": [
      "n: 1 --> score_train: 0.50 --> score_test: 0.50 --> roc_auc: 0.50\n",
      "n: 2 --> score_train: 0.56 --> score_test: 0.55 --> roc_auc: 0.55\n",
      "n: 7 --> score_train: 0.57 --> score_test: 0.57 --> roc_auc: 0.56\n",
      "n: 4 --> score_train: 0.57 --> score_test: 0.57 --> roc_auc: 0.56\n",
      "n: 5 --> score_train: 0.57 --> score_test: 0.57 --> roc_auc: 0.57\n",
      "n: 6 --> score_train: 0.57 --> score_test: 0.57 --> roc_auc: 0.57\n",
      "n: 8 --> score_train: 0.57 --> score_test: 0.57 --> roc_auc: 0.57\n",
      "n: 3 --> score_train: 0.57 --> score_test: 0.57 --> roc_auc: 0.57\n",
      "n: 9 --> score_train: 0.58 --> score_test: 0.58 --> roc_auc: 0.57\n",
      "n: 10 --> score_train: 0.58 --> score_test: 0.58 --> roc_auc: 0.57\n",
      "n: 12 --> score_train: 0.59 --> score_test: 0.59 --> roc_auc: 0.58\n",
      "n: 11 --> score_train: 0.59 --> score_test: 0.59 --> roc_auc: 0.59\n",
      "n: 13 --> score_train: 0.59 --> score_test: 0.59 --> roc_auc: 0.59\n",
      "n: 14 --> score_train: 0.59 --> score_test: 0.59 --> roc_auc: 0.59\n",
      "n: 15 --> score_train: 0.59 --> score_test: 0.59 --> roc_auc: 0.59\n",
      "n: 19 --> score_train: 0.59 --> score_test: 0.59 --> roc_auc: 0.59\n",
      "n: 16 --> score_train: 0.60 --> score_test: 0.59 --> roc_auc: 0.59\n",
      "n: 17 --> score_train: 0.60 --> score_test: 0.60 --> roc_auc: 0.59\n",
      "n: 18 --> score_train: 0.60 --> score_test: 0.60 --> roc_auc: 0.59\n",
      "n: 20 --> score_train: 0.60 --> score_test: 0.60 --> roc_auc: 0.60\n",
      "n: 21 --> score_train: 0.60 --> score_test: 0.60 --> roc_auc: 0.60\n",
      "n: 22 --> score_train: 0.60 --> score_test: 0.60 --> roc_auc: 0.60\n",
      "n: 25 --> score_train: 0.61 --> score_test: 0.61 --> roc_auc: 0.60\n",
      "n: 24 --> score_train: 0.61 --> score_test: 0.61 --> roc_auc: 0.61\n",
      "n: 23 --> score_train: 0.61 --> score_test: 0.61 --> roc_auc: 0.61\n"
     ]
    }
   ],
   "source": [
    "for r in sorted(scores_by_kbest, key=lambda x: x[\"roc_auc\"]):\n",
    "    nfeature, score_train, score_test = len(r[\"feature\"]), r[\"score_train\"], r[\"score_test\"]\n",
    "    roc_auc = r[\"roc_auc\"]\n",
    "    print \"n: {} --> score_train: {:.2f} --> score_test: {:.2f} --> roc_auc: {:.2f}\".format(nfeature, score_train, score_test, roc_auc)"
   ]
  },
  {
   "cell_type": "code",
   "execution_count": 42,
   "metadata": {
    "scrolled": true
   },
   "outputs": [
    {
     "name": "stdout",
     "output_type": "stream",
     "text": [
      "Optimal number of features : 23\n",
      "\n",
      "Accuracy: 60.98% (0.33%)\n"
     ]
    }
   ],
   "source": [
    "max_score = max(scores_by_kbest, key=lambda x: x[\"score_test\"])\n",
    "print(\"Optimal number of features : %d\" % len(max_score[\"feature\"]))\n",
    "print\n",
    "print(\"Accuracy: %.2f%% (%.2f%%)\" % (max_score[\"score_test\"]*100, max_score[\"std_test\"]*100))"
   ]
  },
  {
   "cell_type": "code",
   "execution_count": 43,
   "metadata": {},
   "outputs": [
    {
     "name": "stdout",
     "output_type": "stream",
     "text": [
      "[('ECG_min', 0.0018591598781892674), ('ECG_max', 0.001888109648987091), ('ECG_mean_diff', 0.002781320605918507), ('ECG_mean_abs_diff', 0.005231125053370179), ('Pupil', 0.005767991044728216), ('Resp_mean_abs_diff', 0.006296669544639612), ('ECG_mean', 0.00662804554999091), ('ECG_std', 0.0081674871185979), ('SKT_mean_diff', 0.009693591729136704), ('Resp_std', 0.01175162024068132), ('EDA_mean_diff', 0.011888787093495388), ('EDA_max', 0.016387547992571822), ('EDA_min', 0.024962515338228963), ('Resp_mean', 0.025309698048227646), ('EDA_mean', 0.027063790450369923), ('Resp_min', 0.038120661037035986), ('SKT_std', 0.06872535872884428), ('SKT_mean_abs_diff', 0.08268450584592513), ('EDA_std', 0.09222202087231755), ('EDA_mean_abs_diff', 0.09415495854705104), ('SKT_min', 0.11280498263646793), ('SKT_max', 0.11762136629734976), ('SKT_mean', 0.22798868669787506)]\n",
      "{'ECG_max': 0.001888109648987091,\n",
      " 'ECG_mean': 0.00662804554999091,\n",
      " 'ECG_mean_abs_diff': 0.005231125053370179,\n",
      " 'ECG_mean_diff': 0.002781320605918507,\n",
      " 'ECG_min': 0.0018591598781892674,\n",
      " 'ECG_std': 0.0081674871185979,\n",
      " 'EDA_max': 0.016387547992571822,\n",
      " 'EDA_mean': 0.027063790450369923,\n",
      " 'EDA_mean_abs_diff': 0.09415495854705104,\n",
      " 'EDA_mean_diff': 0.011888787093495388,\n",
      " 'EDA_min': 0.024962515338228963,\n",
      " 'EDA_std': 0.09222202087231755,\n",
      " 'Pupil': 0.005767991044728216,\n",
      " 'Resp_mean': 0.025309698048227646,\n",
      " 'Resp_mean_abs_diff': 0.006296669544639612,\n",
      " 'Resp_min': 0.038120661037035986,\n",
      " 'Resp_std': 0.01175162024068132,\n",
      " 'SKT_max': 0.11762136629734976,\n",
      " 'SKT_mean': 0.22798868669787506,\n",
      " 'SKT_mean_abs_diff': 0.08268450584592513,\n",
      " 'SKT_mean_diff': 0.009693591729136704,\n",
      " 'SKT_min': 0.11280498263646793,\n",
      " 'SKT_std': 0.06872535872884428}\n"
     ]
    }
   ],
   "source": [
    "from pprint import pprint\n",
    "features = max_score['feature']\n",
    "coef_norm = np.abs(max_score['feature_coeff'])[0]\n",
    "#coef_norm = (coef_norm - coef_norm.min()) / (coef_norm.max() - coef_norm.min())\n",
    "coef_norm = coef_norm / coef_norm.sum()\n",
    "feature_rank = zip(max_score[\"feature\"], coef_norm)\n",
    "print sorted(feature_rank, key=lambda x: x[1])\n",
    "feature_rank = dict(feature_rank)\n",
    "pprint(feature_rank)"
   ]
  },
  {
   "cell_type": "code",
   "execution_count": 44,
   "metadata": {},
   "outputs": [
    {
     "data": {
      "image/png": "[encoded data removed]",
      "text/plain": [
       "<Figure size 416.691x257.529 with 1 Axes>"
      ]
     },
     "metadata": {
      "needs_background": "light"
     },
     "output_type": "display_data"
    }
   ],
   "source": [
    "nfeature = [ len(s[\"feature\"]) for s in scores_by_kbest ]\n",
    "scores = [ s[\"score_test\"] for s in scores_by_kbest ]\n",
    "plt.figure(figsize=set_size(width=width))\n",
    "plt.title('Valence')\n",
    "plt.xlabel(\"Numero di feature selezionate\")\n",
    "plt.ylabel(\"Cross validation score\")\n",
    "plt.plot(nfeature, scores, color='k', lw=2)\n",
    "plt.gca().vlines([len(max_score[\"feature\"])], min(scores), max(scores), colors='gray', linestyles=\"dotted\")\n",
    "plt.show()\n",
    "fig.savefig(\"kbest_val.pdf\", format=\"pdf\", bbox_inches='tight')"
   ]
  },
  {
   "cell_type": "code",
   "execution_count": 45,
   "metadata": {},
   "outputs": [
    {
     "data": {
      "image/png": "[encoded data removed]",
      "text/plain": [
       "<Figure size 416.691x257.529 with 1 Axes>"
      ]
     },
     "metadata": {
      "needs_background": "light"
     },
     "output_type": "display_data"
    }
   ],
   "source": [
    "from itertools import cycle\n",
    "lines = [\"-\",\"--\",\"-.\",\":\"]\n",
    "linecycler = cycle(lines)\n",
    "\n",
    "fig = plt.figure(figsize=set_size(width=width))\n",
    "ax = fig.add_subplot(1,1,1)\n",
    "plt.title('Valence KBest ROC')\n",
    "plt.plot([0, 1], [0, 1],'--', c='gray')\n",
    "plt.xlim([0, 1])\n",
    "plt.ylim([0, 1])\n",
    "plt.ylabel('Tasso Veri Positivi')\n",
    "plt.xlabel('Tasso Falsi Positivi')\n",
    "for r in scores_by_kbest[23:24]:\n",
    "    n = len(r[\"feature\"])\n",
    "    fpr, tpr, roc_auc = r[\"fpr\"], r[\"tpr\"], r[\"roc_auc\"]\n",
    "    linestyle = next(linecycler)\n",
    "    ax.plot(fpr, tpr, 'k-', label = 'AUC (%d) = %0.2f' % (n, roc_auc))\n",
    "\n",
    "plt.legend(loc = 'lower right')      \n",
    "plt.show()\n",
    "fig.savefig(\"kbest_roc_val.pdf\", format=\"pdf\", bbox_inches='tight')"
   ]
  },
  {
   "cell_type": "markdown",
   "metadata": {},
   "source": [
    "## Recursive feature selection"
   ]
  },
  {
   "cell_type": "code",
   "execution_count": 30,
   "metadata": {},
   "outputs": [],
   "source": [
    "lsvc, stratified_cv = create_classifier()\n",
    "rfecv = RFECV(estimator=lsvc, step=1, cv=stratified_cv, scoring='balanced_accuracy', n_jobs=-1)"
   ]
  },
  {
   "cell_type": "code",
   "execution_count": 31,
   "metadata": {},
   "outputs": [
    {
     "name": "stdout",
     "output_type": "stream",
     "text": [
      "[LibLinear][LibLinear][LibLinear][LibLinear][LibLinear][LibLinear][LibLinear]"
     ]
    },
    {
     "data": {
      "text/plain": [
       "RFECV(cv=StratifiedShuffleSplit(n_splits=5, random_state=7, test_size=0.2,\n",
       "            train_size=None),\n",
       "   estimator=LinearSVC(C=1, class_weight='balanced', dual=False, fit_intercept=False,\n",
       "     intercept_scaling=1, loss='squared_hinge', max_iter=1000,\n",
       "     multi_class='ovr', penalty='l2', random_state=7, tol=0.0001,\n",
       "     verbose=True),\n",
       "   min_features_to_select=1, n_jobs=-1, scoring='balanced_accuracy',\n",
       "   step=1, verbose=0)"
      ]
     },
     "execution_count": 31,
     "metadata": {},
     "output_type": "execute_result"
    }
   ],
   "source": [
    "rfecv.fit(X, Y)"
   ]
  },
  {
   "cell_type": "code",
   "execution_count": 58,
   "metadata": {
    "scrolled": true
   },
   "outputs": [
    {
     "name": "stdout",
     "output_type": "stream",
     "text": [
      "20\n",
      "[ True  True False False False  True  True  True  True  True  True  True\n",
      "  True  True  True False False  True  True  True  True  True  True  True\n",
      "  True]\n",
      "Index([u'ECG_mean', u'ECG_std', u'ECG_mean_abs_diff', u'EDA_mean', u'EDA_std',\n",
      "       u'EDA_min', u'EDA_max', u'EDA_mean_diff', u'EDA_mean_abs_diff',\n",
      "       u'Resp_mean', u'Resp_std', u'Resp_min', u'Resp_mean_abs_diff',\n",
      "       u'SKT_mean', u'SKT_std', u'SKT_min', u'SKT_max', u'SKT_mean_diff',\n",
      "       u'SKT_mean_abs_diff', u'Pupil'],\n",
      "      dtype='object')\n",
      "[1 1 5 4 2 1 1 1 1 1 1 1 1 1 1 3 6 1 1 1 1 1 1 1 1]\n",
      "[0.5        0.56345247 0.55235767 0.54610452 0.54544853 0.57028834\n",
      " 0.56957931 0.5864333  0.59116912 0.58724449 0.58912631 0.5980969\n",
      " 0.5978645  0.59829228 0.60426471 0.60348871 0.60224947 0.60534191\n",
      " 0.60644091 0.60940389 0.60846717 0.60708613 0.60705593 0.60679438\n",
      " 0.6070428 ]\n",
      "[[ 0.17573246 -0.26718498  0.18647659  0.82117336 -2.99195747 -0.81134636\n",
      "  -0.48162064 -0.39918407  3.06185698 -0.75686555  0.36021882  1.15606445\n",
      "  -0.21336249  7.58712242 -2.26388505 -3.80959924 -3.85872999  0.3100865\n",
      "   2.71177742  0.17018986]]\n",
      "{'EDA_min': 0.005402685579010241, 'Resp_min': 0.010968852598539839, 'EDA_mean_abs_diff': 0.07694260893014118, 'SKT_max': 0.12220413071345024, 'Resp_std': 0.0010649517067478197, 'SKT_mean': 0.4724450354115858, 'SKT_std': 0.0420635427626236, 'EDA_max': 0.00190373850447656, 'ECG_mean': 0.0002534551378466326, 'SKT_mean_abs_diff': 0.06035387883023053, 'EDA_mean_diff': 0.0013078065728508823, 'Resp_mean_abs_diff': 0.00037362268913476135, 'SKT_mean_diff': 0.0007891559111390124, 'ECG_std': 0.0005858968856750096, 'ECG_mean_abs_diff': 0.00028539459792068536, 'SKT_min': 0.11911204706438626, 'EDA_std': 0.07346964455856897, 'Resp_mean': 0.004701479874634918, 'EDA_mean': 0.005534352370923128, 'Pupil': 0.00023771930011394837}\n"
     ]
    }
   ],
   "source": [
    "print rfecv.n_features_\n",
    "print rfecv.get_support()\n",
    "print X.columns[rfecv.get_support()]\n",
    "print rfecv.ranking_\n",
    "print rfecv.grid_scores_\n",
    "\n",
    "print rfecv.estimator_.coef_\n",
    "\n",
    "coef = rfecv.estimator_.coef_[0]**2\n",
    "coef = coef / coef.sum()\n",
    "\n",
    "print dict(zip(X.columns[rfecv.get_support()], coef))"
   ]
  },
  {
   "cell_type": "code",
   "execution_count": 33,
   "metadata": {
    "scrolled": true
   },
   "outputs": [
    {
     "name": "stdout",
     "output_type": "stream",
     "text": [
      "Optimal number of features : 20\n",
      "Index([u'ECG_mean', u'ECG_std', u'ECG_mean_abs_diff', u'EDA_mean', u'EDA_std',\n",
      "       u'EDA_min', u'EDA_max', u'EDA_mean_diff', u'EDA_mean_abs_diff',\n",
      "       u'Resp_mean', u'Resp_std', u'Resp_min', u'Resp_mean_abs_diff',\n",
      "       u'SKT_mean', u'SKT_std', u'SKT_min', u'SKT_max', u'SKT_mean_diff',\n",
      "       u'SKT_mean_abs_diff', u'Pupil'],\n",
      "      dtype='object')\n",
      "\n",
      "Accuracy: 60.94% (0.00%)\n"
     ]
    }
   ],
   "source": [
    "print(\"Optimal number of features : %d\" % rfecv.n_features_)\n",
    "print X.columns[rfecv.get_support()]\n",
    "\n",
    "print\n",
    "print(\"Accuracy: %.2f%% (%.2f%%)\" % (rfecv.grid_scores_[rfecv.n_features_-1]*100, 0))"
   ]
  },
  {
   "cell_type": "code",
   "execution_count": 38,
   "metadata": {
    "scrolled": true
   },
   "outputs": [
    {
     "name": "stderr",
     "output_type": "stream",
     "text": [
      "/opt/conda/envs/python2/lib/python2.7/site-packages/matplotlib/figure.py:457: UserWarning: matplotlib is currently using a non-GUI backend, so cannot show the figure\n",
      "  \"matplotlib is currently using a non-GUI backend, \"\n"
     ]
    },
    {
     "data": {
      "image/png": "[encoded data removed]",
      "text/plain": [
       "<Figure size 416.691x257.529 with 1 Axes>"
      ]
     },
     "metadata": {
      "needs_background": "light"
     },
     "output_type": "display_data"
    }
   ],
   "source": [
    "# Plot number of features VS. cross-validation scores\n",
    "nfeature = range(1, X.shape[1]+1)\n",
    "fig = plt.figure(figsize=set_size(width=width))\n",
    "ax = fig.add_subplot(1, 1, 1)\n",
    "ax.set_title(\"Valence\")\n",
    "ax.set_xlabel(\"Numero di feature selezionate\")\n",
    "ax.set_ylabel(\"Cross validation score\")\n",
    "ax.plot(nfeature, rfecv.grid_scores_, color='K', lw=2)\n",
    "ax.vlines([rfecv.n_features_], min(rfecv.grid_scores_), max(rfecv.grid_scores_), colors='gray', linestyles=\"dotted\")\n",
    "fig.show()\n",
    "fig.savefig(\"rfecv_val.pdf\", format=\"pdf\", bbox_inches='tight')"
   ]
  },
  {
   "cell_type": "code",
   "execution_count": 35,
   "metadata": {},
   "outputs": [
    {
     "name": "stdout",
     "output_type": "stream",
     "text": [
      "[LibLinear][LibLinear][LibLinear][LibLinear][LibLinear]"
     ]
    },
    {
     "ename": "KeyboardInterrupt",
     "evalue": "",
     "output_type": "error",
     "traceback": [
      "\u001b[0;31m---------------------------------------------------------------------------\u001b[0m",
      "\u001b[0;31mKeyboardInterrupt\u001b[0m                         Traceback (most recent call last)",
      "\u001b[0;32m<ipython-input-35-22395bda200f>\u001b[0m in \u001b[0;36m<module>\u001b[0;34m()\u001b[0m\n\u001b[1;32m     11\u001b[0m \u001b[0;34m\u001b[0m\u001b[0m\n\u001b[1;32m     12\u001b[0m     \u001b[0my_train_pred\u001b[0m \u001b[0;34m=\u001b[0m \u001b[0mlsvc\u001b[0m\u001b[0;34m.\u001b[0m\u001b[0mpredict\u001b[0m\u001b[0;34m(\u001b[0m\u001b[0mx_train\u001b[0m\u001b[0;34m)\u001b[0m\u001b[0;34m\u001b[0m\u001b[0m\n\u001b[0;32m---> 13\u001b[0;31m     \u001b[0mscore\u001b[0m \u001b[0;34m=\u001b[0m \u001b[0mbalanced_accuracy_score\u001b[0m\u001b[0;34m(\u001b[0m\u001b[0my_train\u001b[0m\u001b[0;34m,\u001b[0m \u001b[0my_train_pred\u001b[0m\u001b[0;34m)\u001b[0m\u001b[0;34m\u001b[0m\u001b[0m\n\u001b[0m\u001b[1;32m     14\u001b[0m     \u001b[0mscores_train\u001b[0m\u001b[0;34m.\u001b[0m\u001b[0mappend\u001b[0m\u001b[0;34m(\u001b[0m\u001b[0mscore\u001b[0m\u001b[0;34m)\u001b[0m\u001b[0;34m\u001b[0m\u001b[0m\n\u001b[1;32m     15\u001b[0m \u001b[0;34m\u001b[0m\u001b[0m\n",
      "\u001b[0;32m/opt/conda/envs/python2/lib/python2.7/site-packages/sklearn/metrics/classification.pyc\u001b[0m in \u001b[0;36mbalanced_accuracy_score\u001b[0;34m(y_true, y_pred, sample_weight, adjusted)\u001b[0m\n\u001b[1;32m   1431\u001b[0m \u001b[0;34m\u001b[0m\u001b[0m\n\u001b[1;32m   1432\u001b[0m     \"\"\"\n\u001b[0;32m-> 1433\u001b[0;31m     \u001b[0mC\u001b[0m \u001b[0;34m=\u001b[0m \u001b[0mconfusion_matrix\u001b[0m\u001b[0;34m(\u001b[0m\u001b[0my_true\u001b[0m\u001b[0;34m,\u001b[0m \u001b[0my_pred\u001b[0m\u001b[0;34m,\u001b[0m \u001b[0msample_weight\u001b[0m\u001b[0;34m=\u001b[0m\u001b[0msample_weight\u001b[0m\u001b[0;34m)\u001b[0m\u001b[0;34m\u001b[0m\u001b[0m\n\u001b[0m\u001b[1;32m   1434\u001b[0m     \u001b[0;32mwith\u001b[0m \u001b[0mnp\u001b[0m\u001b[0;34m.\u001b[0m\u001b[0merrstate\u001b[0m\u001b[0;34m(\u001b[0m\u001b[0mdivide\u001b[0m\u001b[0;34m=\u001b[0m\u001b[0;34m'ignore'\u001b[0m\u001b[0;34m,\u001b[0m \u001b[0minvalid\u001b[0m\u001b[0;34m=\u001b[0m\u001b[0;34m'ignore'\u001b[0m\u001b[0;34m)\u001b[0m\u001b[0;34m:\u001b[0m\u001b[0;34m\u001b[0m\u001b[0m\n\u001b[1;32m   1435\u001b[0m         \u001b[0mper_class\u001b[0m \u001b[0;34m=\u001b[0m \u001b[0mnp\u001b[0m\u001b[0;34m.\u001b[0m\u001b[0mdiag\u001b[0m\u001b[0;34m(\u001b[0m\u001b[0mC\u001b[0m\u001b[0;34m)\u001b[0m \u001b[0;34m/\u001b[0m \u001b[0mC\u001b[0m\u001b[0;34m.\u001b[0m\u001b[0msum\u001b[0m\u001b[0;34m(\u001b[0m\u001b[0maxis\u001b[0m\u001b[0;34m=\u001b[0m\u001b[0;36m1\u001b[0m\u001b[0;34m)\u001b[0m\u001b[0;34m\u001b[0m\u001b[0m\n",
      "\u001b[0;32m/opt/conda/envs/python2/lib/python2.7/site-packages/sklearn/metrics/classification.pyc\u001b[0m in \u001b[0;36mconfusion_matrix\u001b[0;34m(y_true, y_pred, labels, sample_weight)\u001b[0m\n\u001b[1;32m    272\u001b[0m     \u001b[0mlabel_to_ind\u001b[0m \u001b[0;34m=\u001b[0m \u001b[0mdict\u001b[0m\u001b[0;34m(\u001b[0m\u001b[0;34m(\u001b[0m\u001b[0my\u001b[0m\u001b[0;34m,\u001b[0m \u001b[0mx\u001b[0m\u001b[0;34m)\u001b[0m \u001b[0;32mfor\u001b[0m \u001b[0mx\u001b[0m\u001b[0;34m,\u001b[0m \u001b[0my\u001b[0m \u001b[0;32min\u001b[0m \u001b[0menumerate\u001b[0m\u001b[0;34m(\u001b[0m\u001b[0mlabels\u001b[0m\u001b[0;34m)\u001b[0m\u001b[0;34m)\u001b[0m\u001b[0;34m\u001b[0m\u001b[0m\n\u001b[1;32m    273\u001b[0m     \u001b[0;31m# convert yt, yp into index\u001b[0m\u001b[0;34m\u001b[0m\u001b[0;34m\u001b[0m\u001b[0m\n\u001b[0;32m--> 274\u001b[0;31m     \u001b[0my_pred\u001b[0m \u001b[0;34m=\u001b[0m \u001b[0mnp\u001b[0m\u001b[0;34m.\u001b[0m\u001b[0marray\u001b[0m\u001b[0;34m(\u001b[0m\u001b[0;34m[\u001b[0m\u001b[0mlabel_to_ind\u001b[0m\u001b[0;34m.\u001b[0m\u001b[0mget\u001b[0m\u001b[0;34m(\u001b[0m\u001b[0mx\u001b[0m\u001b[0;34m,\u001b[0m \u001b[0mn_labels\u001b[0m \u001b[0;34m+\u001b[0m \u001b[0;36m1\u001b[0m\u001b[0;34m)\u001b[0m \u001b[0;32mfor\u001b[0m \u001b[0mx\u001b[0m \u001b[0;32min\u001b[0m \u001b[0my_pred\u001b[0m\u001b[0;34m]\u001b[0m\u001b[0;34m)\u001b[0m\u001b[0;34m\u001b[0m\u001b[0m\n\u001b[0m\u001b[1;32m    275\u001b[0m     \u001b[0my_true\u001b[0m \u001b[0;34m=\u001b[0m \u001b[0mnp\u001b[0m\u001b[0;34m.\u001b[0m\u001b[0marray\u001b[0m\u001b[0;34m(\u001b[0m\u001b[0;34m[\u001b[0m\u001b[0mlabel_to_ind\u001b[0m\u001b[0;34m.\u001b[0m\u001b[0mget\u001b[0m\u001b[0;34m(\u001b[0m\u001b[0mx\u001b[0m\u001b[0;34m,\u001b[0m \u001b[0mn_labels\u001b[0m \u001b[0;34m+\u001b[0m \u001b[0;36m1\u001b[0m\u001b[0;34m)\u001b[0m \u001b[0;32mfor\u001b[0m \u001b[0mx\u001b[0m \u001b[0;32min\u001b[0m \u001b[0my_true\u001b[0m\u001b[0;34m]\u001b[0m\u001b[0;34m)\u001b[0m\u001b[0;34m\u001b[0m\u001b[0m\n\u001b[1;32m    276\u001b[0m \u001b[0;34m\u001b[0m\u001b[0m\n",
      "\u001b[0;31mKeyboardInterrupt\u001b[0m: "
     ]
    }
   ],
   "source": [
    "# GENERATE ROC FOR RFECV\n",
    "scores_train = []\n",
    "scores_test = []\n",
    "for train_index, test_index in stratified_cv.split(X, Y):\n",
    "\n",
    "    x_train, y_train = rfecv.transform(X)[train_index], Y.iloc[train_index]\n",
    "    x_test, y_test = rfecv.transform(X)[test_index], Y.iloc[test_index]\n",
    "\n",
    "    lsvc, stratified_cv = create_classifier(c=1e2) \n",
    "    lsvc.fit(x_train, y_train)\n",
    "\n",
    "    y_train_pred = lsvc.predict(x_train)\n",
    "    score = balanced_accuracy_score(y_train, y_train_pred)\n",
    "    scores_train.append(score)\n",
    "\n",
    "    y_test_pred = lsvc.predict(x_test)\n",
    "    score = balanced_accuracy_score(y_test, y_test_pred)\n",
    "    scores_test.append(score)\n",
    "\n",
    "    fpr, tpr, threshold = roc_curve(y_test, y_test_pred)\n",
    "    roc_auc = auc(fpr, tpr)\n",
    "    \n",
    "    r = {\n",
    "        \"feature\"         : X.columns[rfecv.get_support()],\n",
    "        \"feature_coeff\"   : lsvc.coef_,\n",
    "        \"score_train\"     : np.array(scores_train).mean(),\n",
    "        \"std_train\"       : np.array(scores_train).std(),\n",
    "        \"score_test\"      : np.array(scores_test).mean(),\n",
    "        \"std_test\"        : np.array(scores_test).std(),\n",
    "        \"fpr\"             : fpr,\n",
    "        \"tpr\"             : tpr,\n",
    "        \"roc_auc\"         : roc_auc\n",
    "    }"
   ]
  },
  {
   "cell_type": "code",
   "execution_count": 54,
   "metadata": {},
   "outputs": [
    {
     "data": {
      "image/png": "[encoded data removed]",
      "text/plain": [
       "<Figure size 416.691x257.529 with 1 Axes>"
      ]
     },
     "metadata": {
      "needs_background": "light"
     },
     "output_type": "display_data"
    }
   ],
   "source": [
    "## PLOT ROC CURVE FOR KBEST AND RFECV\n",
    "\n",
    "fig = plt.figure(figsize=set_size(width=width))\n",
    "ax = fig.add_subplot(1,1,1)\n",
    "plt.title('Arousal RFECV ROC')\n",
    "plt.plot([0, 1], [0, 1],'--', c='gray')\n",
    "plt.xlim([0, 1])\n",
    "plt.ylim([0, 1])\n",
    "plt.ylabel('Tasso Veri Positivi')\n",
    "plt.xlabel('Tasso Falsi Positivi')\n",
    "\n",
    "n = len(r[\"feature\"])\n",
    "fpr, tpr, roc_auc = r[\"fpr\"], r[\"tpr\"], r[\"roc_auc\"]\n",
    "ax.plot(fpr, tpr, 'k-', label = 'AUC (%d) = %0.2f' % (n, roc_auc))\n",
    "\n",
    "plt.legend(loc = 'lower right')      \n",
    "plt.show()\n",
    "fig.savefig(\"rfecv_roc_val.pdf\", format=\"pdf\", bbox_inches='tight')"
   ]
  }
 ],
 "metadata": {
  "kernelspec": {
   "display_name": "Python 2",
   "language": "python",
   "name": "python2"
  },
  "language_info": {
   "codemirror_mode": {
    "name": "ipython",
    "version": 2
   },
   "file_extension": ".py",
   "mimetype": "text/x-python",
   "name": "python",
   "nbconvert_exporter": "python",
   "pygments_lexer": "ipython2",
   "version": "2.7.15"
  }
 },
 "nbformat": 4,
 "nbformat_minor": 2
}
