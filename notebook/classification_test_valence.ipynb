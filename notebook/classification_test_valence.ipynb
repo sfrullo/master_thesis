{
 "cells": [
  {
   "cell_type": "code",
   "execution_count": 1,
   "metadata": {},
   "outputs": [],
   "source": [
    "import numpy as np\n",
    "import matplotlib.pyplot as plt\n",
    "import pandas as pd\n",
    "\n",
    "from sklearn.svm import LinearSVC, SVC\n",
    "from sklearn.feature_selection import RFE, RFECV\n",
    "\n",
    "from sklearn.model_selection import StratifiedKFold, StratifiedShuffleSplit\n",
    "from sklearn.model_selection import cross_val_score\n",
    "\n",
    "from sklearn.metrics import balanced_accuracy_score, roc_auc_score, auc, roc_curve\n",
    "\n",
    "# fix random seed for reproducibility\n",
    "seed = 7\n",
    "np.random.seed(seed)"
   ]
  },
  {
   "cell_type": "markdown",
   "metadata": {},
   "source": [
    "## Load data"
   ]
  },
  {
   "cell_type": "code",
   "execution_count": 2,
   "metadata": {
    "scrolled": true
   },
   "outputs": [],
   "source": [
    "def get_data():\n",
    "    columns = np.load(\"data/data_columns.npy\")\n",
    "    X = np.load(\"data/data_valence_physio_with_pupil_for_svm_only_valid_session.npy\")\n",
    "    Y = np.load(\"data/data_valence_label_with_pupil_for_svm_only_valid_session.npy\")\n",
    "    return pd.DataFrame(X, columns=columns), pd.DataFrame(Y)"
   ]
  },
  {
   "cell_type": "code",
   "execution_count": 3,
   "metadata": {},
   "outputs": [
    {
     "name": "stdout",
     "output_type": "stream",
     "text": [
      "(82400, 25) (82400, 1)\n"
     ]
    }
   ],
   "source": [
    "X, Y = get_data()\n",
    "#X = X.drop([\"SKT_mean_abs_diff\", \"SKT_std\"], axis=1)\n",
    "print X.shape, Y.shape"
   ]
  },
  {
   "cell_type": "code",
   "execution_count": 4,
   "metadata": {},
   "outputs": [
    {
     "data": {
      "text/plain": [
       "array([[<matplotlib.axes._subplots.AxesSubplot object at 0x7f83f6674fd0>]],\n",
       "      dtype=object)"
      ]
     },
     "execution_count": 4,
     "metadata": {},
     "output_type": "execute_result"
    },
    {
     "data": {
      "image/png": "[encoded data removed]",
      "text/plain": [
       "<Figure size 432x288 with 1 Axes>"
      ]
     },
     "metadata": {
      "needs_background": "light"
     },
     "output_type": "display_data"
    }
   ],
   "source": [
    "# binarize the problem\n",
    "Y[Y<=4] = 0\n",
    "Y[Y>=5] = 1"
   ]
  },
  {
   "cell_type": "code",
   "execution_count": 6,
   "metadata": {},
   "outputs": [],
   "source": [
    "from sklearn.neural_network import MLPClassifier\n",
    "from sklearn.neighbors import KNeighborsClassifier\n",
    "from sklearn.svm import SVC\n",
    "from sklearn.gaussian_process import GaussianProcessClassifier\n",
    "from sklearn.gaussian_process.kernels import RBF\n",
    "from sklearn.tree import DecisionTreeClassifier\n",
    "from sklearn.ensemble import RandomForestClassifier, AdaBoostClassifier\n",
    "from sklearn.naive_bayes import GaussianNB\n",
    "from sklearn.discriminant_analysis import QuadraticDiscriminantAnalysis\n",
    "\n",
    "from sklearn.model_selection import StratifiedKFold, StratifiedShuffleSplit\n",
    "from sklearn.model_selection import cross_val_score"
   ]
  },
  {
   "cell_type": "code",
   "execution_count": 6,
   "metadata": {},
   "outputs": [
    {
     "name": "stdout",
     "output_type": "stream",
     "text": [
      "AdaBoost - Accuracy: 76.82% (0.36%)\n",
      "Decision Tree - Accuracy: 99.27% (0.04%)\n",
      "Random Forest - Accuracy: 81.05% (0.71%)\n",
      "Nearest Neighbors - Accuracy: 100.00% (0.00%)\n",
      "QDA - Accuracy: 85.64% (0.27%)\n",
      "Naive Bayes - Accuracy: 62.02% (0.49%)\n",
      "Linear SVM - Accuracy: 60.95% (0.47%)\n",
      "Neural Net - Accuracy: 76.26% (0.43%)\n",
      "RBF SVM - Accuracy: 100.00% (0.00%)\n"
     ]
    }
   ],
   "source": [
    "classifiers = {\n",
    "# 'Gaussian Process': GaussianProcessClassifier(1.0 * RBF(1.0)), \n",
    " 'Decision Tree': DecisionTreeClassifier(random_state=seed), \n",
    " 'QDA': QuadraticDiscriminantAnalysis(), \n",
    " 'Naive Bayes': GaussianNB(), \n",
    " 'Linear SVM': SVC(kernel=\"linear\", C=0.025, random_state=seed), \n",
    " 'Neural Net': MLPClassifier(alpha=1, max_iter=1000, random_state=seed), \n",
    " 'RBF SVM': SVC(gamma=2, C=1, random_state=seed), \n",
    " 'AdaBoost': AdaBoostClassifier(random_state=seed), \n",
    " 'Random Forest': RandomForestClassifier(max_depth=5, n_estimators=10, max_features=1, random_state=seed), \n",
    " 'Nearest Neighbors': KNeighborsClassifier(3)\n",
    "}\n",
    "\n",
    "# X_train, X_test, y_train, y_test = train_test_split(X, Y, test_size=.4, random_state=42)\n",
    "\n",
    "# iterate over classifiers\n",
    "for name, clf in classifiers.items():\n",
    "    results = cross_val_score(clf, X, Y.values.ravel(), cv=stratified_cv, scoring='roc_auc', verbose=0)\n",
    "    print(\"%s - Accuracy: %.2f%% (%.2f%%)\" % (name, results.mean()*100, results.std()*100))"
   ]
  }
 ],
 "metadata": {
  "kernelspec": {
   "display_name": "Python 2",
   "language": "python",
   "name": "python2"
  },
  "language_info": {
   "codemirror_mode": {
    "name": "ipython",
    "version": 2
   },
   "file_extension": ".py",
   "mimetype": "text/x-python",
   "name": "python",
   "nbconvert_exporter": "python",
   "pygments_lexer": "ipython2",
   "version": "2.7.15"
  }
 },
 "nbformat": 4,
 "nbformat_minor": 2
}
