{
 "cells": [
  {
   "cell_type": "code",
   "execution_count": 1,
   "metadata": {},
   "outputs": [
    {
     "name": "stderr",
     "output_type": "stream",
     "text": [
      "Using TensorFlow backend.\n"
     ]
    }
   ],
   "source": [
    "import numpy as np\n",
    "import matplotlib.pyplot as plt\n",
    "import pandas as pd\n",
    "import keras\n",
    "from keras.models import Sequential\n",
    "from keras.layers import Dense, Dropout, Activation, Conv1D, MaxPooling1D\n",
    "from keras.layers import GlobalAveragePooling1D, LSTM, Flatten, Conv2D, Reshape\n",
    "from sklearn.model_selection import train_test_split\n",
    "# fix random seed for reproducibility\n",
    "np.random.seed(7)"
   ]
  },
  {
   "cell_type": "code",
   "execution_count": 2,
   "metadata": {},
   "outputs": [],
   "source": [
    "import glob\n",
    "files = map(np.load, glob.glob(\"../export/data/feature_data_*.npz\"))"
   ]
  },
  {
   "cell_type": "code",
   "execution_count": 3,
   "metadata": {},
   "outputs": [
    {
     "name": "stdout",
     "output_type": "stream",
     "text": [
      "['ECG' 'EDA' 'Resp' 'SKT']\n",
      "['mean' 'std' 'min' 'max' 'mean_diff' 'mean_abs_diff']\n"
     ]
    }
   ],
   "source": [
    "signals = files[0][\"signals\"]\n",
    "attributes = files[0][\"attributes\"]\n",
    "print signals\n",
    "print attributes"
   ]
  },
  {
   "cell_type": "code",
   "execution_count": 4,
   "metadata": {
    "scrolled": true
   },
   "outputs": [],
   "source": [
    "selected_signals = ['ECG', 'EDA',  'Resp', 'SKT']\n",
    "selected_attribute = ['mean', 'std', 'min', 'max', 'mean_diff', 'mean_abs_diff']\n",
    "n_subject = len(files)\n",
    "n_selected_signals = len(selected_signals)\n",
    "n_selected_attribute = len(selected_attribute)"
   ]
  },
  {
   "cell_type": "code",
   "execution_count": 5,
   "metadata": {},
   "outputs": [],
   "source": [
    "number_of_sample = 1500\n",
    "inputs_raw = pd.DataFrame()\n",
    "labels = []\n",
    "\n",
    "for f in files:\n",
    "    \n",
    "    session = f[\"session_info\"].tolist()\n",
    "    mediafile = session[\"mediaFile\"]\n",
    "    sid = int(session[\"sessionId\"])\n",
    "    label = int(session[\"feltVlnc\"])\n",
    "    \n",
    "    data = pd.DataFrame()\n",
    "    \n",
    "    for signal in selected_signals:\n",
    "        for attribute in selected_attribute:\n",
    "            \n",
    "            # add a column for each feature\n",
    "            column = signal + \"_\" + attribute\n",
    "            data[column] = f[\"valence\"].tolist()[column][:number_of_sample]\n",
    "    \n",
    "    # remove NaN values with median for each feature \n",
    "    data = data.fillna(data.median())\n",
    "    \n",
    "    # add a sid for each timestep\n",
    "    data[\"sid\"] = sid\n",
    "    \n",
    "    # add a sid for each timestep\n",
    "    data[\"media\"] = mediafile\n",
    "    \n",
    "    # add a label for each timestep\n",
    "    labels.append(label)\n",
    "    \n",
    "    # concatenate all subjects' data\n",
    "    inputs_raw = pd.concat([inputs_raw, data], ignore_index=True)\n",
    "\n",
    "labels = pd.DataFrame(labels, columns=['label'])"
   ]
  },
  {
   "cell_type": "code",
   "execution_count": 6,
   "metadata": {},
   "outputs": [],
   "source": [
    "# Convert labels to categorical one-hot encoding\n",
    "X = inputs_raw.drop(['sid', 'media'], axis=1)\n",
    "Y = pd.get_dummies(labels.copy(), columns=['label'])"
   ]
  },
  {
   "cell_type": "code",
   "execution_count": 7,
   "metadata": {},
   "outputs": [],
   "source": [
    "# reshape to CNN input shape\n",
    "input_X = X.copy().values.reshape(n_subject, number_of_sample, X.shape[1])"
   ]
  },
  {
   "cell_type": "code",
   "execution_count": 65,
   "metadata": {
    "scrolled": true
   },
   "outputs": [
    {
     "name": "stdout",
     "output_type": "stream",
     "text": [
      "(89, 1500, 24, 1)\n",
      "(89, 9)\n",
      "(23, 1500, 24, 1)\n",
      "(23, 9)\n"
     ]
    }
   ],
   "source": [
    "# split training and validation data\n",
    "#x_train, x_valid, y_train, y_valid = train_test_split(input_X, Y, test_size=0.2, shuffle=False)\n",
    "x_train, x_valid, y_train, y_valid = train_test_split(np.expand_dims(input_X,axis=3), Y, test_size=0.2, shuffle=False)\n",
    "print x_train.shape\n",
    "print y_train.shape\n",
    "print x_valid.shape\n",
    "print y_valid.shape"
   ]
  },
  {
   "cell_type": "code",
   "execution_count": 67,
   "metadata": {},
   "outputs": [],
   "source": [
    "batch_size = x_train.shape[0]\n",
    "data_dim = x_train.shape[2]\n",
    "timesteps = x_train.shape[1]\n",
    "\n",
    "num_classes = Y.shape[1]\n",
    "\n",
    "n_filter_layer_1 = 100\n",
    "kernel_size_layer_1 = 10\n",
    "\n",
    "n_filter_layer_2 = 160\n",
    "kernel_size_layer_2 = 10\n",
    "\n",
    "name = \"keras_cnn_{}-{}_{}-{}.h5\".format(n_filter_layer_1, kernel_size_layer_1, n_filter_layer_2, kernel_size_layer_2)"
   ]
  },
  {
   "cell_type": "code",
   "execution_count": 78,
   "metadata": {},
   "outputs": [
    {
     "name": "stdout",
     "output_type": "stream",
     "text": [
      "_________________________________________________________________\n",
      "Layer (type)                 Output Shape              Param #   \n",
      "=================================================================\n",
      "conv2d_12 (Conv2D)           (None, 1500, 23, 100)     300       \n",
      "_________________________________________________________________\n",
      "reshape_8 (Reshape)          (None, 1500, 2300)        0         \n",
      "_________________________________________________________________\n",
      "max_pooling1d_23 (MaxPooling (None, 500, 2300)         0         \n",
      "_________________________________________________________________\n",
      "conv1d_65 (Conv1D)           (None, 500, 160)          3680160   \n",
      "_________________________________________________________________\n",
      "conv1d_66 (Conv1D)           (None, 491, 160)          256160    \n",
      "_________________________________________________________________\n",
      "global_average_pooling1d_13  (None, 160)               0         \n",
      "_________________________________________________________________\n",
      "dropout_25 (Dropout)         (None, 160)               0         \n",
      "_________________________________________________________________\n",
      "dense_14 (Dense)             (None, 9)                 1449      \n",
      "=================================================================\n",
      "Total params: 3,938,069\n",
      "Trainable params: 3,938,069\n",
      "Non-trainable params: 0\n",
      "_________________________________________________________________\n"
     ]
    }
   ],
   "source": [
    "model_m = Sequential(name=name)\n",
    "#model_m.add(Conv1D(n_filter_layer_1, kernel_size_layer_1, activation='relu', input_shape=(timesteps, data_dim), padding='same'))\n",
    "#model_m.add(Conv1D(n_filter_layer_1, kernel_size_layer_1, activation='relu'))\n",
    "\n",
    "model_m.add(Conv2D(n_filter_layer_1, (1, 2), input_shape=(timesteps, data_dim, 1), activation='relu'))\n",
    "\n",
    "model_m.add(Reshape(target_shape=(timesteps, 23*n_filter_layer_1)))\n",
    "\n",
    "model_m.add(MaxPooling1D(3))\n",
    "model_m.add(Conv1D(n_filter_layer_2, kernel_size_layer_2, activation='relu', padding='same'))\n",
    "model_m.add(Conv1D(n_filter_layer_2, kernel_size_layer_2, activation='relu'))\n",
    "model_m.add(GlobalAveragePooling1D())\n",
    "\n",
    "#model_m.add(LSTM(160, return_sequences=True))\n",
    "model_m.add(Dropout(rate=0.5))\n",
    "\n",
    "#model_m.add(Flatten())\n",
    "\n",
    "model_m.add(Dense(num_classes, activation='softmax'))\n",
    "model_m.summary()"
   ]
  },
  {
   "cell_type": "code",
   "execution_count": 79,
   "metadata": {},
   "outputs": [],
   "source": [
    "model_m.compile(loss='categorical_crossentropy', optimizer='adam', metrics=['accuracy'])"
   ]
  },
  {
   "cell_type": "code",
   "execution_count": 84,
   "metadata": {
    "scrolled": true
   },
   "outputs": [
    {
     "name": "stdout",
     "output_type": "stream",
     "text": [
      "Train on 71 samples, validate on 18 samples\n",
      "Epoch 1/20\n",
      " - 23s - loss: 1.9272 - acc: 0.3944 - val_loss: 2.1906 - val_acc: 0.1111\n",
      "Epoch 2/20\n",
      " - 23s - loss: 1.9619 - acc: 0.2817 - val_loss: 2.2119 - val_acc: 0.1111\n",
      "Epoch 3/20\n",
      " - 23s - loss: 1.8063 - acc: 0.3380 - val_loss: 2.2486 - val_acc: 0.1111\n",
      "Epoch 4/20\n",
      " - 23s - loss: 1.8823 - acc: 0.3239 - val_loss: 2.2863 - val_acc: 0.1111\n",
      "Epoch 5/20\n",
      " - 23s - loss: 1.8562 - acc: 0.3239 - val_loss: 2.3202 - val_acc: 0.0556\n",
      "Epoch 6/20\n",
      " - 22s - loss: 1.8430 - acc: 0.3099 - val_loss: 2.3401 - val_acc: 0.0556\n",
      "Epoch 7/20\n",
      " - 22s - loss: 1.8207 - acc: 0.2958 - val_loss: 2.3574 - val_acc: 0.0556\n",
      "Epoch 8/20\n",
      " - 23s - loss: 1.8587 - acc: 0.2817 - val_loss: 2.3634 - val_acc: 0.0556\n",
      "Epoch 9/20\n",
      " - 22s - loss: 1.8697 - acc: 0.3099 - val_loss: 2.3640 - val_acc: 0.0556\n",
      "Epoch 10/20\n",
      " - 23s - loss: 1.7740 - acc: 0.3944 - val_loss: 2.3712 - val_acc: 0.0556\n",
      "Epoch 11/20\n",
      " - 23s - loss: 1.7648 - acc: 0.3521 - val_loss: 2.3884 - val_acc: 0.0556\n",
      "Epoch 12/20\n",
      " - 28s - loss: 1.7760 - acc: 0.3521 - val_loss: 2.4293 - val_acc: 0.0556\n",
      "Epoch 13/20\n",
      " - 29s - loss: 1.7990 - acc: 0.3662 - val_loss: 2.4540 - val_acc: 0.0556\n",
      "Epoch 14/20\n",
      " - 28s - loss: 1.7861 - acc: 0.3803 - val_loss: 2.4667 - val_acc: 0.0556\n",
      "Epoch 15/20\n",
      " - 28s - loss: 1.7786 - acc: 0.3380 - val_loss: 2.4765 - val_acc: 0.0556\n",
      "Epoch 16/20\n",
      " - 30s - loss: 1.7289 - acc: 0.3239 - val_loss: 2.4929 - val_acc: 0.0556\n",
      "Epoch 17/20\n",
      " - 27s - loss: 1.7437 - acc: 0.4366 - val_loss: 2.5249 - val_acc: 0.0556\n",
      "Epoch 18/20\n",
      " - 27s - loss: 1.7024 - acc: 0.4507 - val_loss: 2.5653 - val_acc: 0.0556\n",
      "Epoch 19/20\n",
      " - 26s - loss: 1.7345 - acc: 0.3521 - val_loss: 2.5931 - val_acc: 0.0556\n",
      "Epoch 20/20\n",
      " - 27s - loss: 1.7706 - acc: 0.3521 - val_loss: 2.6004 - val_acc: 0.0556\n"
     ]
    },
    {
     "data": {
      "text/plain": [
       "<keras.callbacks.History at 0x7f141561f310>"
      ]
     },
     "execution_count": 84,
     "metadata": {},
     "output_type": "execute_result"
    }
   ],
   "source": [
    "model_m.fit(x_train, y_train, batch_size=batch_size, epochs=20, shuffle=False, validation_split=0.2, verbose=2)"
   ]
  },
  {
   "cell_type": "code",
   "execution_count": 85,
   "metadata": {},
   "outputs": [
    {
     "name": "stdout",
     "output_type": "stream",
     "text": [
      "23/23 [==============================] - 3s 122ms/step\n"
     ]
    },
    {
     "data": {
      "text/plain": [
       "[2.0882601737976074, 0.2608695652173913]"
      ]
     },
     "execution_count": 85,
     "metadata": {},
     "output_type": "execute_result"
    }
   ],
   "source": [
    "model_m.evaluate(x_valid, y_valid, batch_size=1)"
   ]
  }
 ],
 "metadata": {
  "kernelspec": {
   "display_name": "Python 2",
   "language": "python",
   "name": "python2"
  },
  "language_info": {
   "codemirror_mode": {
    "name": "ipython",
    "version": 2
   },
   "file_extension": ".py",
   "mimetype": "text/x-python",
   "name": "python",
   "nbconvert_exporter": "python",
   "pygments_lexer": "ipython2",
   "version": "2.7.15"
  }
 },
 "nbformat": 4,
 "nbformat_minor": 2
}
