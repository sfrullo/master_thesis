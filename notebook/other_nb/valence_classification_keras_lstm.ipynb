{
 "cells": [
  {
   "cell_type": "code",
   "execution_count": 27,
   "metadata": {},
   "outputs": [],
   "source": [
    "import glob\n",
    "import numpy as np\n",
    "import matplotlib.pyplot as plt\n",
    "import pandas as pd\n",
    "\n",
    "import keras\n",
    "from keras.models import Sequential\n",
    "from keras.layers import LSTM, Dropout, Dense\n",
    "\n",
    "from sklearn.model_selection import train_test_split\n",
    "from sklearn.utils import class_weight\n",
    "\n",
    "# fix random seed for reproducibility\n",
    "np.random.seed(7)"
   ]
  },
  {
   "cell_type": "code",
   "execution_count": 2,
   "metadata": {},
   "outputs": [],
   "source": [
    "files = map(np.load, glob.glob(\"../export/data/feature_data_*.npz\"))"
   ]
  },
  {
   "cell_type": "code",
   "execution_count": 3,
   "metadata": {},
   "outputs": [
    {
     "name": "stdout",
     "output_type": "stream",
     "text": [
      "['ECG' 'EDA' 'Resp' 'SKT']\n",
      "['mean' 'std' 'min' 'max' 'mean_diff' 'mean_abs_diff']\n"
     ]
    }
   ],
   "source": [
    "signals = files[0][\"signals\"]\n",
    "attributes = files[0][\"attributes\"]\n",
    "print signals\n",
    "print attributes"
   ]
  },
  {
   "cell_type": "code",
   "execution_count": 4,
   "metadata": {},
   "outputs": [],
   "source": [
    "selected_signals = ['ECG', 'EDA',  'Resp', 'SKT']\n",
    "selected_attribute = ['mean', 'std', 'min', 'max', 'mean_diff', 'mean_abs_diff']\n",
    "\n",
    "n_selected_signals = len(selected_signals)\n",
    "n_selected_attribute = len(selected_attribute)\n",
    "\n",
    "n_subject = len(files)\n",
    "\n",
    "skip_sample = 100\n",
    "number_of_sample = 1500"
   ]
  },
  {
   "cell_type": "code",
   "execution_count": 5,
   "metadata": {},
   "outputs": [],
   "source": [
    "def get_data():\n",
    "    \n",
    "    inputs_raw = pd.DataFrame()\n",
    "    labels = []\n",
    "    \n",
    "    for f in files:\n",
    "\n",
    "        session = f[\"session_info\"].tolist()\n",
    "        mediafile = session[\"mediaFile\"]\n",
    "        sid = int(session[\"sessionId\"])\n",
    "        label = int(session[\"feltVlnc\"])\n",
    "\n",
    "        data = pd.DataFrame()\n",
    "\n",
    "        for signal in selected_signals:\n",
    "            for attribute in selected_attribute:\n",
    "\n",
    "                # add a column for each feature\n",
    "                column = signal + \"_\" + attribute\n",
    "                data[column] = f[\"valence\"].tolist()[column][skip_sample:skip_sample + number_of_sample]\n",
    "\n",
    "        # concatenate all subjects' data\n",
    "        inputs_raw = pd.concat([inputs_raw, data])\n",
    "        \n",
    "        # add a label for each timestep\n",
    "        labels.append(label)\n",
    "\n",
    "    # reshape to CNN input shape\n",
    "    X = inputs_raw\n",
    "    X = X.fillna(X.median())\n",
    "    X = X.values.reshape(n_subject, number_of_sample, n_selected_attribute*n_selected_signals)\n",
    "\n",
    "    # reduce class numbers\n",
    "    Y = pd.DataFrame(labels)\n",
    "\n",
    "    Y[Y==1] = 0\n",
    "    Y[Y==2] = 0\n",
    "    Y[Y==3] = 0\n",
    "    Y[Y==5] = 0\n",
    "    Y[Y==7] = 0\n",
    "    Y[Y==12] = 0\n",
    "\n",
    "    Y[Y==4] = 1\n",
    "    Y[Y==6] = 1\n",
    "    Y[Y==8] = 1\n",
    "    Y[Y==9] = 1\n",
    "    Y[Y==11] = 1\n",
    "\n",
    "    return X, Y"
   ]
  },
  {
   "cell_type": "code",
   "execution_count": 6,
   "metadata": {},
   "outputs": [],
   "source": [
    "X, Y = get_data()"
   ]
  },
  {
   "cell_type": "code",
   "execution_count": 8,
   "metadata": {},
   "outputs": [
    {
     "name": "stdout",
     "output_type": "stream",
     "text": [
      "(89, 1500, 24)\n",
      "(89, 1)\n",
      "(23, 1500, 24)\n",
      "(23, 1)\n"
     ]
    }
   ],
   "source": [
    "# split training and validation data\n",
    "x_train, x_valid, y_train, y_valid = train_test_split(X, Y, test_size=0.2, shuffle=False)\n",
    "print x_train.shape\n",
    "print y_train.shape\n",
    "print x_valid.shape\n",
    "print y_valid.shape"
   ]
  },
  {
   "cell_type": "code",
   "execution_count": 28,
   "metadata": {},
   "outputs": [],
   "source": [
    "sample_weight_train = class_weight.compute_sample_weight('balanced', y_train)\n",
    "sample_weight_valid = class_weight.compute_sample_weight('balanced', y_valid)"
   ]
  },
  {
   "cell_type": "code",
   "execution_count": 24,
   "metadata": {},
   "outputs": [],
   "source": [
    "batch_size = x_train.shape[0]\n",
    "data_dim = x_train.shape[2]\n",
    "timesteps = x_train.shape[1]\n",
    "\n",
    "n_classes = y_train.shape[1]\n",
    "\n",
    "hidden_size = 24\n",
    "n_epochs = 10"
   ]
  },
  {
   "cell_type": "markdown",
   "metadata": {},
   "source": [
    "# Model LSTM"
   ]
  },
  {
   "cell_type": "code",
   "execution_count": 11,
   "metadata": {
    "scrolled": true
   },
   "outputs": [
    {
     "name": "stdout",
     "output_type": "stream",
     "text": [
      "_________________________________________________________________\n",
      "Layer (type)                 Output Shape              Param #   \n",
      "=================================================================\n",
      "lstm_3 (LSTM)                (89, 1500, 100)           50000     \n",
      "_________________________________________________________________\n",
      "lstm_4 (LSTM)                (89, 1)                   408       \n",
      "_________________________________________________________________\n",
      "dense_2 (Dense)              (89, 1)                   2         \n",
      "=================================================================\n",
      "Total params: 50,410\n",
      "Trainable params: 50,410\n",
      "Non-trainable params: 0\n",
      "_________________________________________________________________\n"
     ]
    }
   ],
   "source": [
    "model = Sequential()\n",
    "model.add(LSTM(hidden_size, return_sequences=True, stateful=True, batch_input_shape=(batch_size, timesteps, data_dim)))\n",
    "model.add(LSTM(n_classes))\n",
    "model.add(Dense(n_classes, activation='softmax'))\n",
    "\n",
    "model.compile(loss='binary_crossentropy', optimizer='adam', metrics=['accuracy'])\n",
    "\n",
    "model.summary()"
   ]
  },
  {
   "cell_type": "code",
   "execution_count": 12,
   "metadata": {
    "scrolled": true
   },
   "outputs": [
    {
     "name": "stdout",
     "output_type": "stream",
     "text": [
      "WARNING:tensorflow:From /opt/conda/envs/python2/lib/python2.7/site-packages/tensorflow/python/ops/math_ops.py:3066: to_int32 (from tensorflow.python.ops.math_ops) is deprecated and will be removed in a future version.\n",
      "Instructions for updating:\n",
      "Use tf.cast instead.\n",
      "Epoch 1/10\n",
      "89/89 [==============================] - 5s 62ms/step - loss: 11.6433 - acc: 0.2697\n",
      "Epoch 2/10\n",
      "89/89 [==============================] - 3s 34ms/step - loss: 11.6433 - acc: 0.2697\n",
      "Epoch 3/10\n",
      "89/89 [==============================] - 3s 32ms/step - loss: 11.6433 - acc: 0.2697\n",
      "Epoch 4/10\n",
      "89/89 [==============================] - 3s 34ms/step - loss: 11.6433 - acc: 0.2697\n",
      "Epoch 5/10\n",
      "89/89 [==============================] - 3s 32ms/step - loss: 11.6433 - acc: 0.2697\n",
      "Epoch 6/10\n",
      "89/89 [==============================] - 3s 33ms/step - loss: 11.6433 - acc: 0.2697\n",
      "Epoch 7/10\n",
      "89/89 [==============================] - 3s 32ms/step - loss: 11.6433 - acc: 0.2697\n",
      "Epoch 8/10\n",
      "89/89 [==============================] - 3s 33ms/step - loss: 11.6433 - acc: 0.2697\n",
      "Epoch 9/10\n",
      "89/89 [==============================] - 3s 32ms/step - loss: 11.6433 - acc: 0.2697\n",
      "Epoch 10/10\n",
      "89/89 [==============================] - 3s 32ms/step - loss: 11.6433 - acc: 0.2697\n"
     ]
    },
    {
     "data": {
      "text/plain": [
       "<keras.callbacks.History at 0x7f0408af0c10>"
      ]
     },
     "execution_count": 12,
     "metadata": {},
     "output_type": "execute_result"
    }
   ],
   "source": [
    "model.fit(x_train, y_train, batch_size=batch_size, epochs=n_epochs, shuffle=False)"
   ]
  },
  {
   "cell_type": "code",
   "execution_count": null,
   "metadata": {},
   "outputs": [],
   "source": [
    "model.evaluate(x_valid, y_valid, batch_size=1)"
   ]
  },
  {
   "cell_type": "markdown",
   "metadata": {},
   "source": [
    "# Model Time distributed LSTM"
   ]
  },
  {
   "cell_type": "code",
   "execution_count": 31,
   "metadata": {},
   "outputs": [
    {
     "name": "stdout",
     "output_type": "stream",
     "text": [
      "_________________________________________________________________\n",
      "Layer (type)                 Output Shape              Param #   \n",
      "=================================================================\n",
      "lstm_26 (LSTM)               (89, 1500, 24)            4704      \n",
      "_________________________________________________________________\n",
      "dropout_22 (Dropout)         (89, 1500, 24)            0         \n",
      "_________________________________________________________________\n",
      "lstm_27 (LSTM)               (89, 1500, 24)            4704      \n",
      "_________________________________________________________________\n",
      "dropout_23 (Dropout)         (89, 1500, 24)            0         \n",
      "_________________________________________________________________\n",
      "lstm_28 (LSTM)               (89, 24)                  4704      \n",
      "_________________________________________________________________\n",
      "dropout_24 (Dropout)         (89, 24)                  0         \n",
      "_________________________________________________________________\n",
      "dense_10 (Dense)             (89, 1)                   25        \n",
      "=================================================================\n",
      "Total params: 14,137\n",
      "Trainable params: 14,137\n",
      "Non-trainable params: 0\n",
      "_________________________________________________________________\n"
     ]
    }
   ],
   "source": [
    "model_1 = Sequential()\n",
    "model_1.add(LSTM(hidden_size, return_sequences=True, stateful=True, batch_input_shape=(batch_size, timesteps, data_dim)))\n",
    "model_1.add(Dropout(rate=1-0.5))\n",
    "model_1.add(LSTM(hidden_size, return_sequences=True))\n",
    "model_1.add(Dropout(rate=1-0.5))\n",
    "model_1.add(LSTM(hidden_size))\n",
    "model_1.add(Dropout(rate=1-0.5))\n",
    "model_1.add(Dense(n_classes, activation='softmax'))\n",
    "model_1.compile(loss='binary_crossentropy', optimizer='adam', metrics=['accuracy'])\n",
    "model_1.summary()"
   ]
  },
  {
   "cell_type": "code",
   "execution_count": 32,
   "metadata": {},
   "outputs": [
    {
     "name": "stdout",
     "output_type": "stream",
     "text": [
      "Epoch 1/10\n",
      "89/89 [==============================] - 6s 67ms/step - loss: 7.9712 - acc: 0.2697\n",
      "Epoch 2/10\n",
      "89/89 [==============================] - 2s 23ms/step - loss: 7.9712 - acc: 0.2697\n",
      "Epoch 3/10\n",
      "89/89 [==============================] - 2s 23ms/step - loss: 7.9712 - acc: 0.2697\n",
      "Epoch 4/10\n",
      "89/89 [==============================] - 2s 23ms/step - loss: 7.9712 - acc: 0.2697\n",
      "Epoch 5/10\n",
      "89/89 [==============================] - 2s 22ms/step - loss: 7.9712 - acc: 0.2697\n",
      "Epoch 6/10\n",
      "89/89 [==============================] - 2s 23ms/step - loss: 7.9712 - acc: 0.2697\n",
      "Epoch 7/10\n",
      "89/89 [==============================] - 2s 22ms/step - loss: 7.9712 - acc: 0.2697\n",
      "Epoch 8/10\n",
      "89/89 [==============================] - 2s 23ms/step - loss: 7.9712 - acc: 0.2697\n",
      "Epoch 9/10\n",
      "89/89 [==============================] - 2s 23ms/step - loss: 7.9712 - acc: 0.2697\n",
      "Epoch 10/10\n",
      "89/89 [==============================] - 2s 22ms/step - loss: 7.9712 - acc: 0.2697\n"
     ]
    },
    {
     "data": {
      "text/plain": [
       "<keras.callbacks.History at 0x7f03cf1888d0>"
      ]
     },
     "execution_count": 32,
     "metadata": {},
     "output_type": "execute_result"
    }
   ],
   "source": [
    "model_1.fit(x_train, y_train, batch_size=batch_size, epochs=n_epochs, shuffle=False, sample_weight=sample_weight_train)"
   ]
  },
  {
   "cell_type": "code",
   "execution_count": null,
   "metadata": {},
   "outputs": [],
   "source": [
    "model_1.evaluate(x_valid, y_valid, batch_size=1)"
   ]
  }
 ],
 "metadata": {
  "kernelspec": {
   "display_name": "Python 2",
   "language": "python",
   "name": "python2"
  },
  "language_info": {
   "codemirror_mode": {
    "name": "ipython",
    "version": 2
   },
   "file_extension": ".py",
   "mimetype": "text/x-python",
   "name": "python",
   "nbconvert_exporter": "python",
   "pygments_lexer": "ipython2",
   "version": "2.7.15"
  }
 },
 "nbformat": 4,
 "nbformat_minor": 2
}
